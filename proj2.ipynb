{
 "cells": [
  {
   "cell_type": "code",
   "execution_count": 9,
   "metadata": {
    "deletable": false,
    "editable": false
   },
   "outputs": [],
   "source": [
    "# Initialize Otter\n",
    "import otter\n",
    "grader = otter.Notebook(\"proj2.ipynb\")"
   ]
  },
  {
   "cell_type": "markdown",
   "metadata": {},
   "source": [
    "# Project 2: Query Performance\n",
    "## Due Date: Friday 10/07, 11:59 PM\n",
    "## Assignment Details\n",
    "In this project, we will explore how the database system optimizes query execution and how users can futher tune the performance of their queries.\n",
    "\n",
    "This project works with the Lahman's Baseball Database, an open source collection of baseball statistics from 1871 to 2020. It contains a variety of data, like batting statistics, team stats, managerial records, Hall of Fame records, and much more.\n",
    "\n",
    "**Note:** If at any point during the project, the internal state of the database or its tables have been modified in an undesirable way (i.e. a modification not resulting from the instructions of a question), restart your kernel and clear output and simply re-run the notebook as normal. This will shutdown you current connection to the database, which will prevent the issue of multiple connections to the database at any given point, and when re-running the notebook you will create a fresh database based on the provided Postgres dump.\n",
    "\n",
    "## Logistics & Scoring Breakdown\n",
    "\n",
    "For Data 101 students, this project is worth 15% of your grade. For Info 258 students, this project is worth 12% of your grade.\n",
    "\n",
    "- Each coding question has **both public tests and hidden tests**. Roughly 50% of your coding grade will be made up of your score on the public tests released to you, while the remaining 50% will be made up of unreleased hidden tests.\n",
    "- Public tests for multiple choice questions are for sanity check only (e.g. you are answering in the correct format). Partial credit will be awarded.\n",
    "- Free-response questions will be manually graded. Please answer thoughtfully in complete sentences, drawing from knowledge in lectures and from your inspection of query plans.\n",
    "\n",
    "This is an **individual project**. However, you’re welcome to collaborate with any other student in the class as long as it’s within the academic honesty guidelines.\n",
    "\n",
    "Question | Points\n",
    "--- | ---\n",
    "0 | 1\n",
    "1a\t| 1\n",
    "1bi\t| 1\n",
    "1bii\t| 2\n",
    "1c\t| 1\n",
    "1di\t| 2\n",
    "1dii\t| 1\n",
    "1ei\t| 1\n",
    "1eii\t| 1\n",
    "1eiii\t| 1\n",
    "1eiv\t| 2\n",
    "1ev\t| 2\n",
    "2a\t| 1\n",
    "2b\t| 1\n",
    "2c\t| 2\n",
    "2d\t| 2\n",
    "3a\t| 1\n",
    "3b\t| 1\n",
    "3c |\t1\n",
    "3d\t| 3\n",
    "4a\t| 2\n",
    "4b\t| 1\n",
    "4c\t| 1\n",
    "4di\t| 2\n",
    "4dii |\t2\n",
    "4ei\t| 2\n",
    "4eii | \t1\n",
    "4eiii |\t2\n",
    "4eiv |\t1\n",
    "4ev |\t1\n",
    "4evi |\t2\n",
    "4evii |\t2\n",
    "5a | 2\n",
    "5b | 2\n",
    "5c | 1\n",
    "5d | 2\n",
    "6a | 2\n",
    "6b | 1\n",
    "6c | 1\n",
    "6d | 2\n",
    "6e | 2\n",
    "7a | 1\n",
    "7b | 1\n",
    "7c | 2\n",
    "8  | 6\n",
    "**Total** | 72"
   ]
  },
  {
   "cell_type": "code",
   "execution_count": 10,
   "metadata": {},
   "outputs": [],
   "source": [
    "# Run this cell to set up imports\n",
    "import numpy as np\n",
    "import pandas as pd"
   ]
  },
  {
   "cell_type": "markdown",
   "metadata": {},
   "source": [
    "## Getting Connected\n",
    "Similar to Project 1, we will be using the `ipython-sql` library to connect this notebook to a PostgreSQL database server on your JupyterHub account. Run the following cell to initiate the connection."
   ]
  },
  {
   "cell_type": "code",
   "execution_count": 11,
   "metadata": {},
   "outputs": [],
   "source": [
    "%reload_ext sql\n",
    "%sql postgresql://jovyan@127.0.0.1:5432/postgres"
   ]
  },
  {
   "cell_type": "markdown",
   "metadata": {},
   "source": [
    "## Setting up the Database\n",
    "The following cell will create the `baseball` database (if needed), unzip the Postgres dump of the Lahman's Baseball Database, populate the `baseball` database with the desired tables and data, and finally display all databases associated with the Postgres instance. After running the cell, you should see the `baseball` database in the generated list of databases outputted by `%sql \\l`.\n",
    "\n",
    "**Note:** If you run into the **role does not exist** error, feel free to ignore it. It does not affect data import."
   ]
  },
  {
   "cell_type": "code",
   "execution_count": 12,
   "metadata": {},
   "outputs": [
    {
     "name": "stdout",
     "output_type": "stream",
     "text": [
      "DROP DATABASE\n",
      "CREATE DATABASE\n",
      "SET\n",
      "SET\n",
      "SET\n",
      "SET\n",
      " set_config \n",
      "------------\n",
      " \n",
      "(1 row)\n",
      "\n",
      "SET\n",
      "SET\n",
      "SET\n",
      "CREATE EXTENSION\n",
      "COMMENT\n",
      "SET\n",
      "CREATE TABLE\n",
      "psql:<stdin>:49: ERROR:  role \"postgres\" does not exist\n",
      "CREATE TABLE\n",
      "psql:<stdin>:80: ERROR:  role \"postgres\" does not exist\n",
      "CREATE TABLE\n",
      "psql:<stdin>:96: ERROR:  role \"postgres\" does not exist\n",
      "CREATE TABLE\n",
      "psql:<stdin>:112: ERROR:  role \"postgres\" does not exist\n",
      "CREATE TABLE\n",
      "psql:<stdin>:129: ERROR:  role \"postgres\" does not exist\n",
      "CREATE TABLE\n",
      "psql:<stdin>:146: ERROR:  role \"postgres\" does not exist\n",
      "CREATE TABLE\n",
      "psql:<stdin>:178: ERROR:  role \"postgres\" does not exist\n",
      "CREATE TABLE\n",
      "psql:<stdin>:210: ERROR:  role \"postgres\" does not exist\n",
      "CREATE TABLE\n",
      "psql:<stdin>:223: ERROR:  role \"postgres\" does not exist\n",
      "CREATE TABLE\n",
      "psql:<stdin>:251: ERROR:  role \"postgres\" does not exist\n",
      "CREATE TABLE\n",
      "psql:<stdin>:267: ERROR:  role \"postgres\" does not exist\n",
      "CREATE TABLE\n",
      "psql:<stdin>:295: ERROR:  role \"postgres\" does not exist\n",
      "CREATE TABLE\n",
      "psql:<stdin>:322: ERROR:  role \"postgres\" does not exist\n",
      "CREATE TABLE\n",
      "psql:<stdin>:341: ERROR:  role \"postgres\" does not exist\n",
      "CREATE TABLE\n",
      "psql:<stdin>:360: ERROR:  role \"postgres\" does not exist\n",
      "CREATE TABLE\n",
      "psql:<stdin>:380: ERROR:  role \"postgres\" does not exist\n",
      "CREATE TABLE\n",
      "psql:<stdin>:400: ERROR:  role \"postgres\" does not exist\n",
      "CREATE TABLE\n",
      "psql:<stdin>:416: ERROR:  role \"postgres\" does not exist\n",
      "CREATE TABLE\n",
      "psql:<stdin>:450: ERROR:  role \"postgres\" does not exist\n",
      "CREATE TABLE\n",
      "psql:<stdin>:490: ERROR:  role \"postgres\" does not exist\n",
      "CREATE TABLE\n",
      "psql:<stdin>:530: ERROR:  role \"postgres\" does not exist\n",
      "CREATE TABLE\n",
      "psql:<stdin>:545: ERROR:  role \"postgres\" does not exist\n",
      "CREATE TABLE\n",
      "psql:<stdin>:560: ERROR:  role \"postgres\" does not exist\n",
      "CREATE TABLE\n",
      "psql:<stdin>:579: ERROR:  role \"postgres\" does not exist\n",
      "CREATE TABLE\n",
      "psql:<stdin>:637: ERROR:  role \"postgres\" does not exist\n",
      "CREATE TABLE\n",
      "psql:<stdin>:651: ERROR:  role \"postgres\" does not exist\n",
      "CREATE TABLE\n",
      "psql:<stdin>:671: ERROR:  role \"postgres\" does not exist\n",
      "COPY 5219\n",
      "COPY 104256\n",
      "COPY 179\n",
      "COPY 6236\n",
      "COPY 425\n",
      "COPY 6879\n",
      "COPY 104324\n",
      "COPY 13943\n",
      "COPY 17350\n",
      "COPY 138838\n",
      "COPY 12028\n",
      "COPY 31955\n",
      "COPY 13110\n",
      "COPY 4191\n",
      "COPY 3040\n",
      "COPY 3469\n",
      "COPY 93\n",
      "COPY 252\n",
      "COPY 19370\n",
      "COPY 45806\n",
      "COPY 5445\n",
      "COPY 26428\n",
      "COPY 1207\n",
      "COPY 325\n",
      "COPY 2865\n",
      "COPY 120\n",
      "COPY 52\n",
      "ALTER TABLE\n",
      "ALTER TABLE\n",
      "ALTER TABLE\n",
      "ALTER TABLE\n",
      "ALTER TABLE\n",
      "ALTER TABLE\n",
      "ALTER TABLE\n",
      "ALTER TABLE\n",
      "ALTER TABLE\n",
      "ALTER TABLE\n",
      "ALTER TABLE\n",
      "ALTER TABLE\n",
      "ALTER TABLE\n",
      "ALTER TABLE\n",
      "ALTER TABLE\n",
      "ALTER TABLE\n",
      "ALTER TABLE\n",
      "ALTER TABLE\n",
      "ALTER TABLE\n",
      "ALTER TABLE\n",
      "ALTER TABLE\n",
      "ALTER TABLE\n",
      "ALTER TABLE\n",
      "ALTER TABLE\n",
      "ALTER TABLE\n",
      "ALTER TABLE\n",
      "SET\n",
      " * postgresql://jovyan@127.0.0.1:5432/postgres\n",
      "6 rows affected.\n"
     ]
    },
    {
     "data": {
      "text/html": [
       "<table>\n",
       "    <tr>\n",
       "        <th>Name</th>\n",
       "        <th>Owner</th>\n",
       "        <th>Encoding</th>\n",
       "        <th>Collate</th>\n",
       "        <th>Ctype</th>\n",
       "        <th>Access privileges</th>\n",
       "    </tr>\n",
       "    <tr>\n",
       "        <td>baseball</td>\n",
       "        <td>jovyan</td>\n",
       "        <td>UTF8</td>\n",
       "        <td>en_US.utf8</td>\n",
       "        <td>en_US.utf8</td>\n",
       "        <td>None</td>\n",
       "    </tr>\n",
       "    <tr>\n",
       "        <td>imdb</td>\n",
       "        <td>jovyan</td>\n",
       "        <td>UTF8</td>\n",
       "        <td>en_US.utf8</td>\n",
       "        <td>en_US.utf8</td>\n",
       "        <td>None</td>\n",
       "    </tr>\n",
       "    <tr>\n",
       "        <td>jovyan</td>\n",
       "        <td>jovyan</td>\n",
       "        <td>UTF8</td>\n",
       "        <td>en_US.utf8</td>\n",
       "        <td>en_US.utf8</td>\n",
       "        <td>None</td>\n",
       "    </tr>\n",
       "    <tr>\n",
       "        <td>postgres</td>\n",
       "        <td>jovyan</td>\n",
       "        <td>UTF8</td>\n",
       "        <td>en_US.utf8</td>\n",
       "        <td>en_US.utf8</td>\n",
       "        <td>None</td>\n",
       "    </tr>\n",
       "    <tr>\n",
       "        <td>template0</td>\n",
       "        <td>jovyan</td>\n",
       "        <td>UTF8</td>\n",
       "        <td>en_US.utf8</td>\n",
       "        <td>en_US.utf8</td>\n",
       "        <td>=c/jovyan<br>jovyan=CTc/jovyan</td>\n",
       "    </tr>\n",
       "    <tr>\n",
       "        <td>template1</td>\n",
       "        <td>jovyan</td>\n",
       "        <td>UTF8</td>\n",
       "        <td>en_US.utf8</td>\n",
       "        <td>en_US.utf8</td>\n",
       "        <td>=c/jovyan<br>jovyan=CTc/jovyan</td>\n",
       "    </tr>\n",
       "</table>"
      ],
      "text/plain": [
       "[('baseball', 'jovyan', 'UTF8', 'en_US.utf8', 'en_US.utf8', None),\n",
       " ('imdb', 'jovyan', 'UTF8', 'en_US.utf8', 'en_US.utf8', None),\n",
       " ('jovyan', 'jovyan', 'UTF8', 'en_US.utf8', 'en_US.utf8', None),\n",
       " ('postgres', 'jovyan', 'UTF8', 'en_US.utf8', 'en_US.utf8', None),\n",
       " ('template0',\n",
       "  'jovyan',\n",
       "  'UTF8',\n",
       "  'en_US.utf8',\n",
       "  'en_US.utf8',\n",
       "  '=c/jovyan\\njovyan=CTc/jovyan'),\n",
       " ('template1',\n",
       "  'jovyan',\n",
       "  'UTF8',\n",
       "  'en_US.utf8',\n",
       "  'en_US.utf8',\n",
       "  '=c/jovyan\\njovyan=CTc/jovyan')]"
      ]
     },
     "execution_count": 12,
     "metadata": {},
     "output_type": "execute_result"
    }
   ],
   "source": [
    "!psql -h localhost -c 'DROP DATABASE IF EXISTS baseball'\n",
    "!psql -h localhost -c 'CREATE DATABASE baseball'\n",
    "!gzip -dc data/lahman.pgdump.gz | psql -h localhost -d baseball -f -\n",
    "!psql -h localhost -c 'SET max_parallel_workers_per_gather = 0;'\n",
    "%sql \\l"
   ]
  },
  {
   "cell_type": "markdown",
   "metadata": {},
   "source": [
    "Now, run the following cell to connect to the `baseball` database. There should be no errors after running the following cell."
   ]
  },
  {
   "cell_type": "code",
   "execution_count": 13,
   "metadata": {},
   "outputs": [],
   "source": [
    "%sql postgresql://jovyan@127.0.0.1:5432/baseball"
   ]
  },
  {
   "cell_type": "markdown",
   "metadata": {},
   "source": [
    "To ensure that the connection to the database has been established, let's try grabbing the first 5 rows from the `halloffame` table."
   ]
  },
  {
   "cell_type": "code",
   "execution_count": 14,
   "metadata": {},
   "outputs": [
    {
     "name": "stdout",
     "output_type": "stream",
     "text": [
      " * postgresql://jovyan@127.0.0.1:5432/baseball\n",
      "   postgresql://jovyan@127.0.0.1:5432/postgres\n",
      "5 rows affected.\n"
     ]
    },
    {
     "data": {
      "text/html": [
       "<table>\n",
       "    <tr>\n",
       "        <th>playerid</th>\n",
       "        <th>yearid</th>\n",
       "        <th>votedby</th>\n",
       "        <th>ballots</th>\n",
       "        <th>needed</th>\n",
       "        <th>votes</th>\n",
       "        <th>inducted</th>\n",
       "        <th>category</th>\n",
       "        <th>needed_note</th>\n",
       "    </tr>\n",
       "    <tr>\n",
       "        <td>cobbty01</td>\n",
       "        <td>1936</td>\n",
       "        <td>BBWAA</td>\n",
       "        <td>226</td>\n",
       "        <td>170</td>\n",
       "        <td>222</td>\n",
       "        <td>Y</td>\n",
       "        <td>Player</td>\n",
       "        <td>None</td>\n",
       "    </tr>\n",
       "    <tr>\n",
       "        <td>ruthba01</td>\n",
       "        <td>1936</td>\n",
       "        <td>BBWAA</td>\n",
       "        <td>226</td>\n",
       "        <td>170</td>\n",
       "        <td>215</td>\n",
       "        <td>Y</td>\n",
       "        <td>Player</td>\n",
       "        <td>None</td>\n",
       "    </tr>\n",
       "    <tr>\n",
       "        <td>wagneho01</td>\n",
       "        <td>1936</td>\n",
       "        <td>BBWAA</td>\n",
       "        <td>226</td>\n",
       "        <td>170</td>\n",
       "        <td>215</td>\n",
       "        <td>Y</td>\n",
       "        <td>Player</td>\n",
       "        <td>None</td>\n",
       "    </tr>\n",
       "    <tr>\n",
       "        <td>mathech01</td>\n",
       "        <td>1936</td>\n",
       "        <td>BBWAA</td>\n",
       "        <td>226</td>\n",
       "        <td>170</td>\n",
       "        <td>205</td>\n",
       "        <td>Y</td>\n",
       "        <td>Player</td>\n",
       "        <td>None</td>\n",
       "    </tr>\n",
       "    <tr>\n",
       "        <td>johnswa01</td>\n",
       "        <td>1936</td>\n",
       "        <td>BBWAA</td>\n",
       "        <td>226</td>\n",
       "        <td>170</td>\n",
       "        <td>189</td>\n",
       "        <td>Y</td>\n",
       "        <td>Player</td>\n",
       "        <td>None</td>\n",
       "    </tr>\n",
       "</table>"
      ],
      "text/plain": [
       "[('cobbty01', 1936, 'BBWAA', 226, 170, 222, 'Y', 'Player', None),\n",
       " ('ruthba01', 1936, 'BBWAA', 226, 170, 215, 'Y', 'Player', None),\n",
       " ('wagneho01', 1936, 'BBWAA', 226, 170, 215, 'Y', 'Player', None),\n",
       " ('mathech01', 1936, 'BBWAA', 226, 170, 205, 'Y', 'Player', None),\n",
       " ('johnswa01', 1936, 'BBWAA', 226, 170, 189, 'Y', 'Player', None)]"
      ]
     },
     "execution_count": 14,
     "metadata": {},
     "output_type": "execute_result"
    }
   ],
   "source": [
    "%%sql\n",
    "SELECT * FROM halloffame LIMIT 5"
   ]
  },
  {
   "cell_type": "markdown",
   "metadata": {},
   "source": [
    "Run the following cell for grading purposes."
   ]
  },
  {
   "cell_type": "code",
   "execution_count": 15,
   "metadata": {},
   "outputs": [],
   "source": [
    "!mkdir -p results"
   ]
  },
  {
   "cell_type": "markdown",
   "metadata": {},
   "source": [
    "## Table Descriptions\n",
    "In its entirety the Lahman's Baseball Database contains 27 tables containing a variety of statistics for players, teams, games, schools, etc. For simplicity, this project will focus on a subset of the tables:\n",
    "* `appearances`: details on the positions each player appeared at\n",
    "* `batting`: batting statistics for each player\n",
    "* `collegeplaying`: list of players and the colleges they attended\n",
    "* `halloffame`: Hall of Fame voting data\n",
    "* `people`: player information (name, date of birth, and biographical info)\n",
    "* `salaries`: player salary data\n",
    "* `schools`: list of colleges that players attended\n",
    "\n",
    "As a reminder from Project 1, `%sql \\d <table_name>` is helpful for identifying the columns in a table."
   ]
  },
  {
   "cell_type": "markdown",
   "metadata": {
    "deletable": false,
    "editable": false
   },
   "source": [
    "## Question 0: PostgreSQL Explain Analyze\n",
    "**Please read through this section carefully, as a vast majority of the project will require you to inspect query plans via interpreting the output of the explain analyze command.**\n",
    "\n",
    "To inspect the query plan for a given query, create a variable storing the query as a string and invoke a `psql` shell command to `explain analyze` the query: \n",
    "\n",
    "`your_variable = \"__REPLACE_ME_WITH_QUERY__\"`\n",
    "\n",
    "`!psql -h localhost -d baseball -c \"explain analyze $your_variable\"`\n",
    "\n",
    "Take a look at the following sample query plan.\n",
    "\n",
    "![title](data/sample_query.png)\n",
    "\n",
    "It is highly recommended to read through [this article](https://www.cybertec-postgresql.com/en/how-to-interpret-postgresql-explain-analyze-output/) to see how you can interpret the output above. Everything before \"Tools to interpret Explain Analyze output\" is useful.\n",
    "\n",
    "Here are some key things to note:\n",
    "- There are two cost values: the first is the **startup cost** (cost to return the first row) and the second is the **total cost** (cost to return all rows).\n",
    "- The unit for the estimated query cost is arbitrary (1 is the cost for reading an 8kB page during a sequential scan)\n",
    "- When we ask you to identify the query cost, we are looking for the **total cost**\n",
    "- When we ask you to identify the query time, we are looking for the **execution time** (in ms)\n",
    "- Feel free to round the query cost / time to the nearest integer, but we'll accept anything more exact\n",
    "- We recognzie that the execution time may vary between different cell executions, so the autograder will tolerate a reasonable range\n",
    "\n",
    "Now, inspect the query plan above, and record the **cost** and **time** for the sample query.\n",
    "\n",
    "<!--\n",
    "BEGIN QUESTION\n",
    "name: q0\n",
    "points: 1\n",
    "-->"
   ]
  },
  {
   "cell_type": "code",
   "execution_count": 6,
   "metadata": {},
   "outputs": [],
   "source": [
    "sample_query_cost = 1193.88\n",
    "sample_query_timing = 185.896"
   ]
  },
  {
   "cell_type": "code",
   "execution_count": 7,
   "metadata": {
    "deletable": false,
    "editable": false
   },
   "outputs": [
    {
     "data": {
      "text/html": [
       "<p><strong><pre style='display: inline;'>q0</pre></strong> passed!</p>"
      ],
      "text/plain": [
       "q0 results: All test cases passed!"
      ]
     },
     "execution_count": 7,
     "metadata": {},
     "output_type": "execute_result"
    }
   ],
   "source": [
    "grader.check(\"q0\")"
   ]
  },
  {
   "cell_type": "markdown",
   "metadata": {},
   "source": [
    "## Question 1: Queries and Views\n",
    "### Question 1a:\n",
    "Write a query that finds `namefirst`, `namelast`, `playerid` and `yearid` of all people who were successfully inducted into the Hall of Fame. **Note**: Your query should **NOT** use any sub-queries."
   ]
  },
  {
   "cell_type": "code",
   "execution_count": 17,
   "metadata": {},
   "outputs": [
    {
     "name": "stdout",
     "output_type": "stream",
     "text": [
      " * postgresql://jovyan@127.0.0.1:5432/baseball\n",
      "   postgresql://jovyan@127.0.0.1:5432/postgres\n",
      "323 rows affected.\n",
      "Returning data to local variable result_1a\n"
     ]
    }
   ],
   "source": [
    "%%sql result_1a <<\n",
    "SELECT namefirst,namelast, a.playerid, yearid \n",
    "FROM halloffame AS a, people AS b \n",
    "WHERE a.playerid = b.playerid AND a.inducted = 'Y';"
   ]
  },
  {
   "cell_type": "code",
   "execution_count": 19,
   "metadata": {},
   "outputs": [
    {
     "data": {
      "text/html": [
       "<table>\n",
       "    <tr>\n",
       "        <th>namefirst</th>\n",
       "        <th>namelast</th>\n",
       "        <th>playerid</th>\n",
       "        <th>yearid</th>\n",
       "    </tr>\n",
       "    <tr>\n",
       "        <td>Ty</td>\n",
       "        <td>Cobb</td>\n",
       "        <td>cobbty01</td>\n",
       "        <td>1936</td>\n",
       "    </tr>\n",
       "    <tr>\n",
       "        <td>Babe</td>\n",
       "        <td>Ruth</td>\n",
       "        <td>ruthba01</td>\n",
       "        <td>1936</td>\n",
       "    </tr>\n",
       "    <tr>\n",
       "        <td>Honus</td>\n",
       "        <td>Wagner</td>\n",
       "        <td>wagneho01</td>\n",
       "        <td>1936</td>\n",
       "    </tr>\n",
       "    <tr>\n",
       "        <td>Christy</td>\n",
       "        <td>Mathewson</td>\n",
       "        <td>mathech01</td>\n",
       "        <td>1936</td>\n",
       "    </tr>\n",
       "    <tr>\n",
       "        <td>Walter</td>\n",
       "        <td>Johnson</td>\n",
       "        <td>johnswa01</td>\n",
       "        <td>1936</td>\n",
       "    </tr>\n",
       "    <tr>\n",
       "        <td>Nap</td>\n",
       "        <td>Lajoie</td>\n",
       "        <td>lajoina01</td>\n",
       "        <td>1937</td>\n",
       "    </tr>\n",
       "    <tr>\n",
       "        <td>Tris</td>\n",
       "        <td>Speaker</td>\n",
       "        <td>speaktr01</td>\n",
       "        <td>1937</td>\n",
       "    </tr>\n",
       "    <tr>\n",
       "        <td>Cy</td>\n",
       "        <td>Young</td>\n",
       "        <td>youngcy01</td>\n",
       "        <td>1937</td>\n",
       "    </tr>\n",
       "    <tr>\n",
       "        <td>Morgan</td>\n",
       "        <td>Bulkeley</td>\n",
       "        <td>bulkemo99</td>\n",
       "        <td>1937</td>\n",
       "    </tr>\n",
       "    <tr>\n",
       "        <td>Ban</td>\n",
       "        <td>Johnson</td>\n",
       "        <td>johnsba99</td>\n",
       "        <td>1937</td>\n",
       "    </tr>\n",
       "    <tr>\n",
       "        <td>Connie</td>\n",
       "        <td>Mack</td>\n",
       "        <td>mackco01</td>\n",
       "        <td>1937</td>\n",
       "    </tr>\n",
       "    <tr>\n",
       "        <td>John</td>\n",
       "        <td>McGraw</td>\n",
       "        <td>mcgrajo01</td>\n",
       "        <td>1937</td>\n",
       "    </tr>\n",
       "    <tr>\n",
       "        <td>George</td>\n",
       "        <td>Wright</td>\n",
       "        <td>wrighge01</td>\n",
       "        <td>1937</td>\n",
       "    </tr>\n",
       "    <tr>\n",
       "        <td>Pete</td>\n",
       "        <td>Alexander</td>\n",
       "        <td>alexape01</td>\n",
       "        <td>1938</td>\n",
       "    </tr>\n",
       "    <tr>\n",
       "        <td>Alexander</td>\n",
       "        <td>Cartwright</td>\n",
       "        <td>cartwal99</td>\n",
       "        <td>1938</td>\n",
       "    </tr>\n",
       "    <tr>\n",
       "        <td>Henry</td>\n",
       "        <td>Chadwick</td>\n",
       "        <td>chadwhe99</td>\n",
       "        <td>1938</td>\n",
       "    </tr>\n",
       "    <tr>\n",
       "        <td>George</td>\n",
       "        <td>Sisler</td>\n",
       "        <td>sislege01</td>\n",
       "        <td>1939</td>\n",
       "    </tr>\n",
       "    <tr>\n",
       "        <td>Eddie</td>\n",
       "        <td>Collins</td>\n",
       "        <td>collied01</td>\n",
       "        <td>1939</td>\n",
       "    </tr>\n",
       "    <tr>\n",
       "        <td>Willie</td>\n",
       "        <td>Keeler</td>\n",
       "        <td>keelewi01</td>\n",
       "        <td>1939</td>\n",
       "    </tr>\n",
       "    <tr>\n",
       "        <td>Cap</td>\n",
       "        <td>Anson</td>\n",
       "        <td>ansonca01</td>\n",
       "        <td>1939</td>\n",
       "    </tr>\n",
       "    <tr>\n",
       "        <td>Charlie</td>\n",
       "        <td>Comiskey</td>\n",
       "        <td>comisch01</td>\n",
       "        <td>1939</td>\n",
       "    </tr>\n",
       "    <tr>\n",
       "        <td>Candy</td>\n",
       "        <td>Cummings</td>\n",
       "        <td>cummica01</td>\n",
       "        <td>1939</td>\n",
       "    </tr>\n",
       "    <tr>\n",
       "        <td>Buck</td>\n",
       "        <td>Ewing</td>\n",
       "        <td>ewingbu01</td>\n",
       "        <td>1939</td>\n",
       "    </tr>\n",
       "    <tr>\n",
       "        <td>Lou</td>\n",
       "        <td>Gehrig</td>\n",
       "        <td>gehrilo01</td>\n",
       "        <td>1939</td>\n",
       "    </tr>\n",
       "    <tr>\n",
       "        <td>Old Hoss</td>\n",
       "        <td>Radbourn</td>\n",
       "        <td>radboch01</td>\n",
       "        <td>1939</td>\n",
       "    </tr>\n",
       "    <tr>\n",
       "        <td>Al</td>\n",
       "        <td>Spalding</td>\n",
       "        <td>spaldal01</td>\n",
       "        <td>1939</td>\n",
       "    </tr>\n",
       "    <tr>\n",
       "        <td>Rogers</td>\n",
       "        <td>Hornsby</td>\n",
       "        <td>hornsro01</td>\n",
       "        <td>1942</td>\n",
       "    </tr>\n",
       "    <tr>\n",
       "        <td>Kenesaw</td>\n",
       "        <td>Landis</td>\n",
       "        <td>landike99</td>\n",
       "        <td>1944</td>\n",
       "    </tr>\n",
       "    <tr>\n",
       "        <td>Roger</td>\n",
       "        <td>Bresnahan</td>\n",
       "        <td>bresnro01</td>\n",
       "        <td>1945</td>\n",
       "    </tr>\n",
       "    <tr>\n",
       "        <td>Dan</td>\n",
       "        <td>Brouthers</td>\n",
       "        <td>broutda01</td>\n",
       "        <td>1945</td>\n",
       "    </tr>\n",
       "    <tr>\n",
       "        <td>Fred</td>\n",
       "        <td>Clarke</td>\n",
       "        <td>clarkfr01</td>\n",
       "        <td>1945</td>\n",
       "    </tr>\n",
       "    <tr>\n",
       "        <td>Jimmy</td>\n",
       "        <td>Collins</td>\n",
       "        <td>colliji01</td>\n",
       "        <td>1945</td>\n",
       "    </tr>\n",
       "    <tr>\n",
       "        <td>Ed</td>\n",
       "        <td>Delahanty</td>\n",
       "        <td>delahed01</td>\n",
       "        <td>1945</td>\n",
       "    </tr>\n",
       "    <tr>\n",
       "        <td>Hugh</td>\n",
       "        <td>Duffy</td>\n",
       "        <td>duffyhu01</td>\n",
       "        <td>1945</td>\n",
       "    </tr>\n",
       "    <tr>\n",
       "        <td>Hughie</td>\n",
       "        <td>Jennings</td>\n",
       "        <td>jennihu01</td>\n",
       "        <td>1945</td>\n",
       "    </tr>\n",
       "    <tr>\n",
       "        <td>King</td>\n",
       "        <td>Kelly</td>\n",
       "        <td>kellyki01</td>\n",
       "        <td>1945</td>\n",
       "    </tr>\n",
       "    <tr>\n",
       "        <td>Jim</td>\n",
       "        <td>O&#x27;Rourke</td>\n",
       "        <td>orourji01</td>\n",
       "        <td>1945</td>\n",
       "    </tr>\n",
       "    <tr>\n",
       "        <td>Wilbert</td>\n",
       "        <td>Robinson</td>\n",
       "        <td>robinwi01</td>\n",
       "        <td>1945</td>\n",
       "    </tr>\n",
       "    <tr>\n",
       "        <td>Jesse</td>\n",
       "        <td>Burkett</td>\n",
       "        <td>burkeje01</td>\n",
       "        <td>1946</td>\n",
       "    </tr>\n",
       "    <tr>\n",
       "        <td>Frank</td>\n",
       "        <td>Chance</td>\n",
       "        <td>chancfr01</td>\n",
       "        <td>1946</td>\n",
       "    </tr>\n",
       "    <tr>\n",
       "        <td>Jack</td>\n",
       "        <td>Chesbro</td>\n",
       "        <td>chesbja01</td>\n",
       "        <td>1946</td>\n",
       "    </tr>\n",
       "    <tr>\n",
       "        <td>Johnny</td>\n",
       "        <td>Evers</td>\n",
       "        <td>eversjo01</td>\n",
       "        <td>1946</td>\n",
       "    </tr>\n",
       "    <tr>\n",
       "        <td>Clark</td>\n",
       "        <td>Griffith</td>\n",
       "        <td>griffcl01</td>\n",
       "        <td>1946</td>\n",
       "    </tr>\n",
       "    <tr>\n",
       "        <td>Tommy</td>\n",
       "        <td>McCarthy</td>\n",
       "        <td>mccarto01</td>\n",
       "        <td>1946</td>\n",
       "    </tr>\n",
       "    <tr>\n",
       "        <td>Joe</td>\n",
       "        <td>McGinnity</td>\n",
       "        <td>mcginjo01</td>\n",
       "        <td>1946</td>\n",
       "    </tr>\n",
       "    <tr>\n",
       "        <td>Eddie</td>\n",
       "        <td>Plank</td>\n",
       "        <td>planked01</td>\n",
       "        <td>1946</td>\n",
       "    </tr>\n",
       "    <tr>\n",
       "        <td>Joe</td>\n",
       "        <td>Tinker</td>\n",
       "        <td>tinkejo01</td>\n",
       "        <td>1946</td>\n",
       "    </tr>\n",
       "    <tr>\n",
       "        <td>Rube</td>\n",
       "        <td>Waddell</td>\n",
       "        <td>wadderu01</td>\n",
       "        <td>1946</td>\n",
       "    </tr>\n",
       "    <tr>\n",
       "        <td>Ed</td>\n",
       "        <td>Walsh</td>\n",
       "        <td>walshed01</td>\n",
       "        <td>1946</td>\n",
       "    </tr>\n",
       "    <tr>\n",
       "        <td>Carl</td>\n",
       "        <td>Hubbell</td>\n",
       "        <td>hubbeca01</td>\n",
       "        <td>1947</td>\n",
       "    </tr>\n",
       "    <tr>\n",
       "        <td>Frankie</td>\n",
       "        <td>Frisch</td>\n",
       "        <td>friscfr01</td>\n",
       "        <td>1947</td>\n",
       "    </tr>\n",
       "    <tr>\n",
       "        <td>Mickey</td>\n",
       "        <td>Cochrane</td>\n",
       "        <td>cochrmi01</td>\n",
       "        <td>1947</td>\n",
       "    </tr>\n",
       "    <tr>\n",
       "        <td>Lefty</td>\n",
       "        <td>Grove</td>\n",
       "        <td>grovele01</td>\n",
       "        <td>1947</td>\n",
       "    </tr>\n",
       "    <tr>\n",
       "        <td>Herb</td>\n",
       "        <td>Pennock</td>\n",
       "        <td>pennohe01</td>\n",
       "        <td>1948</td>\n",
       "    </tr>\n",
       "    <tr>\n",
       "        <td>Pie</td>\n",
       "        <td>Traynor</td>\n",
       "        <td>traynpi01</td>\n",
       "        <td>1948</td>\n",
       "    </tr>\n",
       "    <tr>\n",
       "        <td>Charlie</td>\n",
       "        <td>Gehringer</td>\n",
       "        <td>gehrich01</td>\n",
       "        <td>1949</td>\n",
       "    </tr>\n",
       "    <tr>\n",
       "        <td>Mordecai</td>\n",
       "        <td>Brown</td>\n",
       "        <td>brownmo01</td>\n",
       "        <td>1949</td>\n",
       "    </tr>\n",
       "    <tr>\n",
       "        <td>Kid</td>\n",
       "        <td>Nichols</td>\n",
       "        <td>nichoki01</td>\n",
       "        <td>1949</td>\n",
       "    </tr>\n",
       "    <tr>\n",
       "        <td>Mel</td>\n",
       "        <td>Ott</td>\n",
       "        <td>ottme01</td>\n",
       "        <td>1951</td>\n",
       "    </tr>\n",
       "    <tr>\n",
       "        <td>Jimmie</td>\n",
       "        <td>Foxx</td>\n",
       "        <td>foxxji01</td>\n",
       "        <td>1951</td>\n",
       "    </tr>\n",
       "    <tr>\n",
       "        <td>Harry</td>\n",
       "        <td>Heilmann</td>\n",
       "        <td>heilmha01</td>\n",
       "        <td>1952</td>\n",
       "    </tr>\n",
       "    <tr>\n",
       "        <td>Paul</td>\n",
       "        <td>Waner</td>\n",
       "        <td>wanerpa01</td>\n",
       "        <td>1952</td>\n",
       "    </tr>\n",
       "    <tr>\n",
       "        <td>Dizzy</td>\n",
       "        <td>Dean</td>\n",
       "        <td>deandi01</td>\n",
       "        <td>1953</td>\n",
       "    </tr>\n",
       "    <tr>\n",
       "        <td>Al</td>\n",
       "        <td>Simmons</td>\n",
       "        <td>simmoal01</td>\n",
       "        <td>1953</td>\n",
       "    </tr>\n",
       "    <tr>\n",
       "        <td>Ed</td>\n",
       "        <td>Barrow</td>\n",
       "        <td>barroed99</td>\n",
       "        <td>1953</td>\n",
       "    </tr>\n",
       "    <tr>\n",
       "        <td>Chief</td>\n",
       "        <td>Bender</td>\n",
       "        <td>bendech01</td>\n",
       "        <td>1953</td>\n",
       "    </tr>\n",
       "    <tr>\n",
       "        <td>Tommy</td>\n",
       "        <td>Connolly</td>\n",
       "        <td>connoto99</td>\n",
       "        <td>1953</td>\n",
       "    </tr>\n",
       "    <tr>\n",
       "        <td>Bill</td>\n",
       "        <td>Klem</td>\n",
       "        <td>klembi99</td>\n",
       "        <td>1953</td>\n",
       "    </tr>\n",
       "    <tr>\n",
       "        <td>Bobby</td>\n",
       "        <td>Wallace</td>\n",
       "        <td>wallabo01</td>\n",
       "        <td>1953</td>\n",
       "    </tr>\n",
       "    <tr>\n",
       "        <td>Harry</td>\n",
       "        <td>Wright</td>\n",
       "        <td>wrighha01</td>\n",
       "        <td>1953</td>\n",
       "    </tr>\n",
       "    <tr>\n",
       "        <td>Rabbit</td>\n",
       "        <td>Maranville</td>\n",
       "        <td>maranra01</td>\n",
       "        <td>1954</td>\n",
       "    </tr>\n",
       "    <tr>\n",
       "        <td>Bill</td>\n",
       "        <td>Dickey</td>\n",
       "        <td>dickebi01</td>\n",
       "        <td>1954</td>\n",
       "    </tr>\n",
       "    <tr>\n",
       "        <td>Bill</td>\n",
       "        <td>Terry</td>\n",
       "        <td>terrybi01</td>\n",
       "        <td>1954</td>\n",
       "    </tr>\n",
       "    <tr>\n",
       "        <td>Joe</td>\n",
       "        <td>DiMaggio</td>\n",
       "        <td>dimagjo01</td>\n",
       "        <td>1955</td>\n",
       "    </tr>\n",
       "    <tr>\n",
       "        <td>Ted</td>\n",
       "        <td>Lyons</td>\n",
       "        <td>lyonste01</td>\n",
       "        <td>1955</td>\n",
       "    </tr>\n",
       "    <tr>\n",
       "        <td>Dazzy</td>\n",
       "        <td>Vance</td>\n",
       "        <td>vanceda01</td>\n",
       "        <td>1955</td>\n",
       "    </tr>\n",
       "    <tr>\n",
       "        <td>Gabby</td>\n",
       "        <td>Hartnett</td>\n",
       "        <td>hartnga01</td>\n",
       "        <td>1955</td>\n",
       "    </tr>\n",
       "    <tr>\n",
       "        <td>Home Run</td>\n",
       "        <td>Baker</td>\n",
       "        <td>bakerfr01</td>\n",
       "        <td>1955</td>\n",
       "    </tr>\n",
       "    <tr>\n",
       "        <td>Ray</td>\n",
       "        <td>Schalk</td>\n",
       "        <td>schalra01</td>\n",
       "        <td>1955</td>\n",
       "    </tr>\n",
       "    <tr>\n",
       "        <td>Hank</td>\n",
       "        <td>Greenberg</td>\n",
       "        <td>greenha01</td>\n",
       "        <td>1956</td>\n",
       "    </tr>\n",
       "    <tr>\n",
       "        <td>Joe</td>\n",
       "        <td>Cronin</td>\n",
       "        <td>cronijo01</td>\n",
       "        <td>1956</td>\n",
       "    </tr>\n",
       "    <tr>\n",
       "        <td>Sam</td>\n",
       "        <td>Crawford</td>\n",
       "        <td>crawfsa01</td>\n",
       "        <td>1957</td>\n",
       "    </tr>\n",
       "    <tr>\n",
       "        <td>Joe</td>\n",
       "        <td>McCarthy</td>\n",
       "        <td>mccarjo99</td>\n",
       "        <td>1957</td>\n",
       "    </tr>\n",
       "    <tr>\n",
       "        <td>Zack</td>\n",
       "        <td>Wheat</td>\n",
       "        <td>wheatza01</td>\n",
       "        <td>1959</td>\n",
       "    </tr>\n",
       "    <tr>\n",
       "        <td>Max</td>\n",
       "        <td>Carey</td>\n",
       "        <td>careyma01</td>\n",
       "        <td>1961</td>\n",
       "    </tr>\n",
       "    <tr>\n",
       "        <td>Billy</td>\n",
       "        <td>Hamilton</td>\n",
       "        <td>hamilbi01</td>\n",
       "        <td>1961</td>\n",
       "    </tr>\n",
       "    <tr>\n",
       "        <td>Bob</td>\n",
       "        <td>Feller</td>\n",
       "        <td>fellebo01</td>\n",
       "        <td>1962</td>\n",
       "    </tr>\n",
       "    <tr>\n",
       "        <td>Jackie</td>\n",
       "        <td>Robinson</td>\n",
       "        <td>robinja02</td>\n",
       "        <td>1962</td>\n",
       "    </tr>\n",
       "    <tr>\n",
       "        <td>Bill</td>\n",
       "        <td>McKechnie</td>\n",
       "        <td>mckecbi01</td>\n",
       "        <td>1962</td>\n",
       "    </tr>\n",
       "    <tr>\n",
       "        <td>Edd</td>\n",
       "        <td>Roush</td>\n",
       "        <td>roushed01</td>\n",
       "        <td>1962</td>\n",
       "    </tr>\n",
       "    <tr>\n",
       "        <td>John</td>\n",
       "        <td>Clarkson</td>\n",
       "        <td>clarkjo01</td>\n",
       "        <td>1963</td>\n",
       "    </tr>\n",
       "    <tr>\n",
       "        <td>Elmer</td>\n",
       "        <td>Flick</td>\n",
       "        <td>flickel01</td>\n",
       "        <td>1963</td>\n",
       "    </tr>\n",
       "    <tr>\n",
       "        <td>Sam</td>\n",
       "        <td>Rice</td>\n",
       "        <td>ricesa01</td>\n",
       "        <td>1963</td>\n",
       "    </tr>\n",
       "    <tr>\n",
       "        <td>Eppa</td>\n",
       "        <td>Rixey</td>\n",
       "        <td>rixeyep01</td>\n",
       "        <td>1963</td>\n",
       "    </tr>\n",
       "    <tr>\n",
       "        <td>Luke</td>\n",
       "        <td>Appling</td>\n",
       "        <td>applilu01</td>\n",
       "        <td>1964</td>\n",
       "    </tr>\n",
       "    <tr>\n",
       "        <td>Red</td>\n",
       "        <td>Faber</td>\n",
       "        <td>faberre01</td>\n",
       "        <td>1964</td>\n",
       "    </tr>\n",
       "    <tr>\n",
       "        <td>Burleigh</td>\n",
       "        <td>Grimes</td>\n",
       "        <td>grimebu01</td>\n",
       "        <td>1964</td>\n",
       "    </tr>\n",
       "    <tr>\n",
       "        <td>Miller</td>\n",
       "        <td>Huggins</td>\n",
       "        <td>huggimi01</td>\n",
       "        <td>1964</td>\n",
       "    </tr>\n",
       "    <tr>\n",
       "        <td>Tim</td>\n",
       "        <td>Keefe</td>\n",
       "        <td>keefeti01</td>\n",
       "        <td>1964</td>\n",
       "    </tr>\n",
       "    <tr>\n",
       "        <td>Heinie</td>\n",
       "        <td>Manush</td>\n",
       "        <td>manushe01</td>\n",
       "        <td>1964</td>\n",
       "    </tr>\n",
       "    <tr>\n",
       "        <td>John</td>\n",
       "        <td>Ward</td>\n",
       "        <td>wardjo01</td>\n",
       "        <td>1964</td>\n",
       "    </tr>\n",
       "    <tr>\n",
       "        <td>Pud</td>\n",
       "        <td>Galvin</td>\n",
       "        <td>galvipu01</td>\n",
       "        <td>1965</td>\n",
       "    </tr>\n",
       "    <tr>\n",
       "        <td>Ted</td>\n",
       "        <td>Williams</td>\n",
       "        <td>willite01</td>\n",
       "        <td>1966</td>\n",
       "    </tr>\n",
       "    <tr>\n",
       "        <td>Casey</td>\n",
       "        <td>Stengel</td>\n",
       "        <td>stengca01</td>\n",
       "        <td>1966</td>\n",
       "    </tr>\n",
       "    <tr>\n",
       "        <td>Red</td>\n",
       "        <td>Ruffing</td>\n",
       "        <td>ruffire01</td>\n",
       "        <td>1967</td>\n",
       "    </tr>\n",
       "    <tr>\n",
       "        <td>Branch</td>\n",
       "        <td>Rickey</td>\n",
       "        <td>rickebr01</td>\n",
       "        <td>1967</td>\n",
       "    </tr>\n",
       "    <tr>\n",
       "        <td>Lloyd</td>\n",
       "        <td>Waner</td>\n",
       "        <td>wanerll01</td>\n",
       "        <td>1967</td>\n",
       "    </tr>\n",
       "    <tr>\n",
       "        <td>Joe</td>\n",
       "        <td>Medwick</td>\n",
       "        <td>medwijo01</td>\n",
       "        <td>1968</td>\n",
       "    </tr>\n",
       "    <tr>\n",
       "        <td>Kiki</td>\n",
       "        <td>Cuyler</td>\n",
       "        <td>cuyleki01</td>\n",
       "        <td>1968</td>\n",
       "    </tr>\n",
       "    <tr>\n",
       "        <td>Goose</td>\n",
       "        <td>Goslin</td>\n",
       "        <td>gosligo01</td>\n",
       "        <td>1968</td>\n",
       "    </tr>\n",
       "    <tr>\n",
       "        <td>Stan</td>\n",
       "        <td>Musial</td>\n",
       "        <td>musiast01</td>\n",
       "        <td>1969</td>\n",
       "    </tr>\n",
       "    <tr>\n",
       "        <td>Roy</td>\n",
       "        <td>Campanella</td>\n",
       "        <td>camparo01</td>\n",
       "        <td>1969</td>\n",
       "    </tr>\n",
       "    <tr>\n",
       "        <td>Stan</td>\n",
       "        <td>Coveleski</td>\n",
       "        <td>covelst01</td>\n",
       "        <td>1969</td>\n",
       "    </tr>\n",
       "    <tr>\n",
       "        <td>Waite</td>\n",
       "        <td>Hoyt</td>\n",
       "        <td>hoytwa01</td>\n",
       "        <td>1969</td>\n",
       "    </tr>\n",
       "    <tr>\n",
       "        <td>Lou</td>\n",
       "        <td>Boudreau</td>\n",
       "        <td>boudrlo01</td>\n",
       "        <td>1970</td>\n",
       "    </tr>\n",
       "    <tr>\n",
       "        <td>Earle</td>\n",
       "        <td>Combs</td>\n",
       "        <td>combsea01</td>\n",
       "        <td>1970</td>\n",
       "    </tr>\n",
       "    <tr>\n",
       "        <td>Ford</td>\n",
       "        <td>Frick</td>\n",
       "        <td>frickfo99</td>\n",
       "        <td>1970</td>\n",
       "    </tr>\n",
       "    <tr>\n",
       "        <td>Jesse</td>\n",
       "        <td>Haines</td>\n",
       "        <td>haineje01</td>\n",
       "        <td>1970</td>\n",
       "    </tr>\n",
       "    <tr>\n",
       "        <td>Dave</td>\n",
       "        <td>Bancroft</td>\n",
       "        <td>bancrda01</td>\n",
       "        <td>1971</td>\n",
       "    </tr>\n",
       "    <tr>\n",
       "        <td>Jake</td>\n",
       "        <td>Beckley</td>\n",
       "        <td>becklja01</td>\n",
       "        <td>1971</td>\n",
       "    </tr>\n",
       "    <tr>\n",
       "        <td>Chick</td>\n",
       "        <td>Hafey</td>\n",
       "        <td>hafeych01</td>\n",
       "        <td>1971</td>\n",
       "    </tr>\n",
       "    <tr>\n",
       "        <td>Harry</td>\n",
       "        <td>Hooper</td>\n",
       "        <td>hoopeha01</td>\n",
       "        <td>1971</td>\n",
       "    </tr>\n",
       "    <tr>\n",
       "        <td>Joe</td>\n",
       "        <td>Kelley</td>\n",
       "        <td>kellejo01</td>\n",
       "        <td>1971</td>\n",
       "    </tr>\n",
       "    <tr>\n",
       "        <td>Rube</td>\n",
       "        <td>Marquard</td>\n",
       "        <td>marquru01</td>\n",
       "        <td>1971</td>\n",
       "    </tr>\n",
       "    <tr>\n",
       "        <td>Satchel</td>\n",
       "        <td>Paige</td>\n",
       "        <td>paigesa01</td>\n",
       "        <td>1971</td>\n",
       "    </tr>\n",
       "    <tr>\n",
       "        <td>George</td>\n",
       "        <td>Weiss</td>\n",
       "        <td>weissge99</td>\n",
       "        <td>1971</td>\n",
       "    </tr>\n",
       "    <tr>\n",
       "        <td>Sandy</td>\n",
       "        <td>Koufax</td>\n",
       "        <td>koufasa01</td>\n",
       "        <td>1972</td>\n",
       "    </tr>\n",
       "    <tr>\n",
       "        <td>Yogi</td>\n",
       "        <td>Berra</td>\n",
       "        <td>berrayo01</td>\n",
       "        <td>1972</td>\n",
       "    </tr>\n",
       "    <tr>\n",
       "        <td>Early</td>\n",
       "        <td>Wynn</td>\n",
       "        <td>wynnea01</td>\n",
       "        <td>1972</td>\n",
       "    </tr>\n",
       "    <tr>\n",
       "        <td>Josh</td>\n",
       "        <td>Gibson</td>\n",
       "        <td>gibsojo99</td>\n",
       "        <td>1972</td>\n",
       "    </tr>\n",
       "    <tr>\n",
       "        <td>Lefty</td>\n",
       "        <td>Gomez</td>\n",
       "        <td>gomezle01</td>\n",
       "        <td>1972</td>\n",
       "    </tr>\n",
       "    <tr>\n",
       "        <td>Will</td>\n",
       "        <td>Harridge</td>\n",
       "        <td>harriwi99</td>\n",
       "        <td>1972</td>\n",
       "    </tr>\n",
       "    <tr>\n",
       "        <td>Buck</td>\n",
       "        <td>Leonard</td>\n",
       "        <td>leonabu99</td>\n",
       "        <td>1972</td>\n",
       "    </tr>\n",
       "    <tr>\n",
       "        <td>Ross</td>\n",
       "        <td>Youngs</td>\n",
       "        <td>youngro01</td>\n",
       "        <td>1972</td>\n",
       "    </tr>\n",
       "    <tr>\n",
       "        <td>Warren</td>\n",
       "        <td>Spahn</td>\n",
       "        <td>spahnwa01</td>\n",
       "        <td>1973</td>\n",
       "    </tr>\n",
       "    <tr>\n",
       "        <td>Roberto</td>\n",
       "        <td>Clemente</td>\n",
       "        <td>clemero01</td>\n",
       "        <td>1973</td>\n",
       "    </tr>\n",
       "    <tr>\n",
       "        <td>Billy</td>\n",
       "        <td>Evans</td>\n",
       "        <td>evansbi99</td>\n",
       "        <td>1973</td>\n",
       "    </tr>\n",
       "    <tr>\n",
       "        <td>Monte</td>\n",
       "        <td>Irvin</td>\n",
       "        <td>irvinmo01</td>\n",
       "        <td>1973</td>\n",
       "    </tr>\n",
       "    <tr>\n",
       "        <td>High Pockets</td>\n",
       "        <td>Kelly</td>\n",
       "        <td>kellyge01</td>\n",
       "        <td>1973</td>\n",
       "    </tr>\n",
       "    <tr>\n",
       "        <td>Mickey</td>\n",
       "        <td>Welch</td>\n",
       "        <td>welchmi01</td>\n",
       "        <td>1973</td>\n",
       "    </tr>\n",
       "    <tr>\n",
       "        <td>Mickey</td>\n",
       "        <td>Mantle</td>\n",
       "        <td>mantlmi01</td>\n",
       "        <td>1974</td>\n",
       "    </tr>\n",
       "    <tr>\n",
       "        <td>Whitey</td>\n",
       "        <td>Ford</td>\n",
       "        <td>fordwh01</td>\n",
       "        <td>1974</td>\n",
       "    </tr>\n",
       "    <tr>\n",
       "        <td>Cool Papa</td>\n",
       "        <td>Bell</td>\n",
       "        <td>bellco99</td>\n",
       "        <td>1974</td>\n",
       "    </tr>\n",
       "    <tr>\n",
       "        <td>Jim</td>\n",
       "        <td>Bottomley</td>\n",
       "        <td>bottoji01</td>\n",
       "        <td>1974</td>\n",
       "    </tr>\n",
       "    <tr>\n",
       "        <td>Jocko</td>\n",
       "        <td>Conlan</td>\n",
       "        <td>conlajo01</td>\n",
       "        <td>1974</td>\n",
       "    </tr>\n",
       "    <tr>\n",
       "        <td>Sam</td>\n",
       "        <td>Thompson</td>\n",
       "        <td>thompsa01</td>\n",
       "        <td>1974</td>\n",
       "    </tr>\n",
       "    <tr>\n",
       "        <td>Ralph</td>\n",
       "        <td>Kiner</td>\n",
       "        <td>kinerra01</td>\n",
       "        <td>1975</td>\n",
       "    </tr>\n",
       "    <tr>\n",
       "        <td>Earl</td>\n",
       "        <td>Averill</td>\n",
       "        <td>averiea01</td>\n",
       "        <td>1975</td>\n",
       "    </tr>\n",
       "    <tr>\n",
       "        <td>Bucky</td>\n",
       "        <td>Harris</td>\n",
       "        <td>harribu01</td>\n",
       "        <td>1975</td>\n",
       "    </tr>\n",
       "    <tr>\n",
       "        <td>Billy</td>\n",
       "        <td>Herman</td>\n",
       "        <td>hermabi01</td>\n",
       "        <td>1975</td>\n",
       "    </tr>\n",
       "    <tr>\n",
       "        <td>Judy</td>\n",
       "        <td>Johnson</td>\n",
       "        <td>johnsju99</td>\n",
       "        <td>1975</td>\n",
       "    </tr>\n",
       "    <tr>\n",
       "        <td>Robin</td>\n",
       "        <td>Roberts</td>\n",
       "        <td>roberro01</td>\n",
       "        <td>1976</td>\n",
       "    </tr>\n",
       "    <tr>\n",
       "        <td>Bob</td>\n",
       "        <td>Lemon</td>\n",
       "        <td>lemonbo01</td>\n",
       "        <td>1976</td>\n",
       "    </tr>\n",
       "    <tr>\n",
       "        <td>Oscar</td>\n",
       "        <td>Charleston</td>\n",
       "        <td>charlos99</td>\n",
       "        <td>1976</td>\n",
       "    </tr>\n",
       "    <tr>\n",
       "        <td>Roger</td>\n",
       "        <td>Connor</td>\n",
       "        <td>connoro01</td>\n",
       "        <td>1976</td>\n",
       "    </tr>\n",
       "    <tr>\n",
       "        <td>Cal</td>\n",
       "        <td>Hubbard</td>\n",
       "        <td>hubbaca99</td>\n",
       "        <td>1976</td>\n",
       "    </tr>\n",
       "    <tr>\n",
       "        <td>Freddie</td>\n",
       "        <td>Lindstrom</td>\n",
       "        <td>lindsfr01</td>\n",
       "        <td>1976</td>\n",
       "    </tr>\n",
       "    <tr>\n",
       "        <td>Ernie</td>\n",
       "        <td>Banks</td>\n",
       "        <td>bankser01</td>\n",
       "        <td>1977</td>\n",
       "    </tr>\n",
       "    <tr>\n",
       "        <td>Martin</td>\n",
       "        <td>Dihigo</td>\n",
       "        <td>dihigma99</td>\n",
       "        <td>1977</td>\n",
       "    </tr>\n",
       "    <tr>\n",
       "        <td>Pop</td>\n",
       "        <td>Lloyd</td>\n",
       "        <td>lloydpo99</td>\n",
       "        <td>1977</td>\n",
       "    </tr>\n",
       "    <tr>\n",
       "        <td>Al</td>\n",
       "        <td>Lopez</td>\n",
       "        <td>lopezal01</td>\n",
       "        <td>1977</td>\n",
       "    </tr>\n",
       "    <tr>\n",
       "        <td>Amos</td>\n",
       "        <td>Rusie</td>\n",
       "        <td>rusieam01</td>\n",
       "        <td>1977</td>\n",
       "    </tr>\n",
       "    <tr>\n",
       "        <td>Joe</td>\n",
       "        <td>Sewell</td>\n",
       "        <td>seweljo01</td>\n",
       "        <td>1977</td>\n",
       "    </tr>\n",
       "    <tr>\n",
       "        <td>Eddie</td>\n",
       "        <td>Mathews</td>\n",
       "        <td>matheed01</td>\n",
       "        <td>1978</td>\n",
       "    </tr>\n",
       "    <tr>\n",
       "        <td>Addie</td>\n",
       "        <td>Joss</td>\n",
       "        <td>jossad01</td>\n",
       "        <td>1978</td>\n",
       "    </tr>\n",
       "    <tr>\n",
       "        <td>Larry</td>\n",
       "        <td>MacPhail</td>\n",
       "        <td>macphla99</td>\n",
       "        <td>1978</td>\n",
       "    </tr>\n",
       "    <tr>\n",
       "        <td>Willie</td>\n",
       "        <td>Mays</td>\n",
       "        <td>mayswi01</td>\n",
       "        <td>1979</td>\n",
       "    </tr>\n",
       "    <tr>\n",
       "        <td>Warren</td>\n",
       "        <td>Giles</td>\n",
       "        <td>gileswa99</td>\n",
       "        <td>1979</td>\n",
       "    </tr>\n",
       "    <tr>\n",
       "        <td>Hack</td>\n",
       "        <td>Wilson</td>\n",
       "        <td>wilsoha01</td>\n",
       "        <td>1979</td>\n",
       "    </tr>\n",
       "    <tr>\n",
       "        <td>Al</td>\n",
       "        <td>Kaline</td>\n",
       "        <td>kalinal01</td>\n",
       "        <td>1980</td>\n",
       "    </tr>\n",
       "    <tr>\n",
       "        <td>Duke</td>\n",
       "        <td>Snider</td>\n",
       "        <td>snidedu01</td>\n",
       "        <td>1980</td>\n",
       "    </tr>\n",
       "    <tr>\n",
       "        <td>Chuck</td>\n",
       "        <td>Klein</td>\n",
       "        <td>kleinch01</td>\n",
       "        <td>1980</td>\n",
       "    </tr>\n",
       "    <tr>\n",
       "        <td>Tom</td>\n",
       "        <td>Yawkey</td>\n",
       "        <td>yawketo99</td>\n",
       "        <td>1980</td>\n",
       "    </tr>\n",
       "    <tr>\n",
       "        <td>Bob</td>\n",
       "        <td>Gibson</td>\n",
       "        <td>gibsobo01</td>\n",
       "        <td>1981</td>\n",
       "    </tr>\n",
       "    <tr>\n",
       "        <td>Rube</td>\n",
       "        <td>Foster</td>\n",
       "        <td>fosteru99</td>\n",
       "        <td>1981</td>\n",
       "    </tr>\n",
       "    <tr>\n",
       "        <td>Johnny</td>\n",
       "        <td>Mize</td>\n",
       "        <td>mizejo01</td>\n",
       "        <td>1981</td>\n",
       "    </tr>\n",
       "    <tr>\n",
       "        <td>Hank</td>\n",
       "        <td>Aaron</td>\n",
       "        <td>aaronha01</td>\n",
       "        <td>1982</td>\n",
       "    </tr>\n",
       "    <tr>\n",
       "        <td>Frank</td>\n",
       "        <td>Robinson</td>\n",
       "        <td>robinfr02</td>\n",
       "        <td>1982</td>\n",
       "    </tr>\n",
       "    <tr>\n",
       "        <td>Happy</td>\n",
       "        <td>Chandler</td>\n",
       "        <td>chandha99</td>\n",
       "        <td>1982</td>\n",
       "    </tr>\n",
       "    <tr>\n",
       "        <td>Travis</td>\n",
       "        <td>Jackson</td>\n",
       "        <td>jackstr01</td>\n",
       "        <td>1982</td>\n",
       "    </tr>\n",
       "    <tr>\n",
       "        <td>Brooks</td>\n",
       "        <td>Robinson</td>\n",
       "        <td>robinbr01</td>\n",
       "        <td>1983</td>\n",
       "    </tr>\n",
       "    <tr>\n",
       "        <td>Juan</td>\n",
       "        <td>Marichal</td>\n",
       "        <td>maricju01</td>\n",
       "        <td>1983</td>\n",
       "    </tr>\n",
       "    <tr>\n",
       "        <td>Walter</td>\n",
       "        <td>Alston</td>\n",
       "        <td>alstowa01</td>\n",
       "        <td>1983</td>\n",
       "    </tr>\n",
       "    <tr>\n",
       "        <td>George</td>\n",
       "        <td>Kell</td>\n",
       "        <td>kellge01</td>\n",
       "        <td>1983</td>\n",
       "    </tr>\n",
       "    <tr>\n",
       "        <td>Luis</td>\n",
       "        <td>Aparicio</td>\n",
       "        <td>aparilu01</td>\n",
       "        <td>1984</td>\n",
       "    </tr>\n",
       "    <tr>\n",
       "        <td>Harmon</td>\n",
       "        <td>Killebrew</td>\n",
       "        <td>killeha01</td>\n",
       "        <td>1984</td>\n",
       "    </tr>\n",
       "    <tr>\n",
       "        <td>Don</td>\n",
       "        <td>Drysdale</td>\n",
       "        <td>drysddo01</td>\n",
       "        <td>1984</td>\n",
       "    </tr>\n",
       "    <tr>\n",
       "        <td>Rick</td>\n",
       "        <td>Ferrell</td>\n",
       "        <td>ferreri01</td>\n",
       "        <td>1984</td>\n",
       "    </tr>\n",
       "    <tr>\n",
       "        <td>Pee Wee</td>\n",
       "        <td>Reese</td>\n",
       "        <td>reesepe01</td>\n",
       "        <td>1984</td>\n",
       "    </tr>\n",
       "    <tr>\n",
       "        <td>Hoyt</td>\n",
       "        <td>Wilhelm</td>\n",
       "        <td>wilheho01</td>\n",
       "        <td>1985</td>\n",
       "    </tr>\n",
       "    <tr>\n",
       "        <td>Lou</td>\n",
       "        <td>Brock</td>\n",
       "        <td>brocklo01</td>\n",
       "        <td>1985</td>\n",
       "    </tr>\n",
       "    <tr>\n",
       "        <td>Enos</td>\n",
       "        <td>Slaughter</td>\n",
       "        <td>slaugen01</td>\n",
       "        <td>1985</td>\n",
       "    </tr>\n",
       "    <tr>\n",
       "        <td>Arky</td>\n",
       "        <td>Vaughan</td>\n",
       "        <td>vaughar01</td>\n",
       "        <td>1985</td>\n",
       "    </tr>\n",
       "    <tr>\n",
       "        <td>Willie</td>\n",
       "        <td>McCovey</td>\n",
       "        <td>mccovwi01</td>\n",
       "        <td>1986</td>\n",
       "    </tr>\n",
       "    <tr>\n",
       "        <td>Bobby</td>\n",
       "        <td>Doerr</td>\n",
       "        <td>doerrbo01</td>\n",
       "        <td>1986</td>\n",
       "    </tr>\n",
       "    <tr>\n",
       "        <td>Ernie</td>\n",
       "        <td>Lombardi</td>\n",
       "        <td>lombaer01</td>\n",
       "        <td>1986</td>\n",
       "    </tr>\n",
       "    <tr>\n",
       "        <td>Billy</td>\n",
       "        <td>Williams</td>\n",
       "        <td>willibi01</td>\n",
       "        <td>1987</td>\n",
       "    </tr>\n",
       "    <tr>\n",
       "        <td>Catfish</td>\n",
       "        <td>Hunter</td>\n",
       "        <td>hunteca01</td>\n",
       "        <td>1987</td>\n",
       "    </tr>\n",
       "    <tr>\n",
       "        <td>Ray</td>\n",
       "        <td>Dandridge</td>\n",
       "        <td>dandrra99</td>\n",
       "        <td>1987</td>\n",
       "    </tr>\n",
       "    <tr>\n",
       "        <td>Willie</td>\n",
       "        <td>Stargell</td>\n",
       "        <td>stargwi01</td>\n",
       "        <td>1988</td>\n",
       "    </tr>\n",
       "    <tr>\n",
       "        <td>Johnny</td>\n",
       "        <td>Bench</td>\n",
       "        <td>benchjo01</td>\n",
       "        <td>1989</td>\n",
       "    </tr>\n",
       "    <tr>\n",
       "        <td>Carl</td>\n",
       "        <td>Yastrzemski</td>\n",
       "        <td>yastrca01</td>\n",
       "        <td>1989</td>\n",
       "    </tr>\n",
       "    <tr>\n",
       "        <td>Al</td>\n",
       "        <td>Barlick</td>\n",
       "        <td>barlial99</td>\n",
       "        <td>1989</td>\n",
       "    </tr>\n",
       "    <tr>\n",
       "        <td>Red</td>\n",
       "        <td>Schoendienst</td>\n",
       "        <td>schoere01</td>\n",
       "        <td>1989</td>\n",
       "    </tr>\n",
       "    <tr>\n",
       "        <td>Jim</td>\n",
       "        <td>Palmer</td>\n",
       "        <td>palmeji01</td>\n",
       "        <td>1990</td>\n",
       "    </tr>\n",
       "    <tr>\n",
       "        <td>Joe</td>\n",
       "        <td>Morgan</td>\n",
       "        <td>morgajo02</td>\n",
       "        <td>1990</td>\n",
       "    </tr>\n",
       "    <tr>\n",
       "        <td>Rod</td>\n",
       "        <td>Carew</td>\n",
       "        <td>carewro01</td>\n",
       "        <td>1991</td>\n",
       "    </tr>\n",
       "    <tr>\n",
       "        <td>Gaylord</td>\n",
       "        <td>Perry</td>\n",
       "        <td>perryga01</td>\n",
       "        <td>1991</td>\n",
       "    </tr>\n",
       "    <tr>\n",
       "        <td>Fergie</td>\n",
       "        <td>Jenkins</td>\n",
       "        <td>jenkife01</td>\n",
       "        <td>1991</td>\n",
       "    </tr>\n",
       "    <tr>\n",
       "        <td>Tony</td>\n",
       "        <td>Lazzeri</td>\n",
       "        <td>lazzeto01</td>\n",
       "        <td>1991</td>\n",
       "    </tr>\n",
       "    <tr>\n",
       "        <td>Bill</td>\n",
       "        <td>Veeck</td>\n",
       "        <td>veeckbi99</td>\n",
       "        <td>1991</td>\n",
       "    </tr>\n",
       "    <tr>\n",
       "        <td>Tom</td>\n",
       "        <td>Seaver</td>\n",
       "        <td>seaveto01</td>\n",
       "        <td>1992</td>\n",
       "    </tr>\n",
       "    <tr>\n",
       "        <td>Rollie</td>\n",
       "        <td>Fingers</td>\n",
       "        <td>fingero01</td>\n",
       "        <td>1992</td>\n",
       "    </tr>\n",
       "    <tr>\n",
       "        <td>Bill</td>\n",
       "        <td>McGowan</td>\n",
       "        <td>mcgowbi99</td>\n",
       "        <td>1992</td>\n",
       "    </tr>\n",
       "    <tr>\n",
       "        <td>Hal</td>\n",
       "        <td>Newhouser</td>\n",
       "        <td>newhoha01</td>\n",
       "        <td>1992</td>\n",
       "    </tr>\n",
       "    <tr>\n",
       "        <td>Reggie</td>\n",
       "        <td>Jackson</td>\n",
       "        <td>jacksre01</td>\n",
       "        <td>1993</td>\n",
       "    </tr>\n",
       "    <tr>\n",
       "        <td>Steve</td>\n",
       "        <td>Carlton</td>\n",
       "        <td>carltst01</td>\n",
       "        <td>1994</td>\n",
       "    </tr>\n",
       "    <tr>\n",
       "        <td>Leo</td>\n",
       "        <td>Durocher</td>\n",
       "        <td>durocle01</td>\n",
       "        <td>1994</td>\n",
       "    </tr>\n",
       "    <tr>\n",
       "        <td>Phil</td>\n",
       "        <td>Rizzuto</td>\n",
       "        <td>rizzuph01</td>\n",
       "        <td>1994</td>\n",
       "    </tr>\n",
       "    <tr>\n",
       "        <td>Mike</td>\n",
       "        <td>Schmidt</td>\n",
       "        <td>schmimi01</td>\n",
       "        <td>1995</td>\n",
       "    </tr>\n",
       "    <tr>\n",
       "        <td>Richie</td>\n",
       "        <td>Ashburn</td>\n",
       "        <td>ashburi01</td>\n",
       "        <td>1995</td>\n",
       "    </tr>\n",
       "    <tr>\n",
       "        <td>Leon</td>\n",
       "        <td>Day</td>\n",
       "        <td>dayle99</td>\n",
       "        <td>1995</td>\n",
       "    </tr>\n",
       "    <tr>\n",
       "        <td>William</td>\n",
       "        <td>Hulbert</td>\n",
       "        <td>hulbewi99</td>\n",
       "        <td>1995</td>\n",
       "    </tr>\n",
       "    <tr>\n",
       "        <td>Vic</td>\n",
       "        <td>Willis</td>\n",
       "        <td>willivi01</td>\n",
       "        <td>1995</td>\n",
       "    </tr>\n",
       "    <tr>\n",
       "        <td>Jim</td>\n",
       "        <td>Bunning</td>\n",
       "        <td>bunniji01</td>\n",
       "        <td>1996</td>\n",
       "    </tr>\n",
       "    <tr>\n",
       "        <td>Bill</td>\n",
       "        <td>Foster</td>\n",
       "        <td>fostebi99</td>\n",
       "        <td>1996</td>\n",
       "    </tr>\n",
       "    <tr>\n",
       "        <td>Ned</td>\n",
       "        <td>Hanlon</td>\n",
       "        <td>hanlone01</td>\n",
       "        <td>1996</td>\n",
       "    </tr>\n",
       "    <tr>\n",
       "        <td>Earl</td>\n",
       "        <td>Weaver</td>\n",
       "        <td>weaveea99</td>\n",
       "        <td>1996</td>\n",
       "    </tr>\n",
       "    <tr>\n",
       "        <td>Phil</td>\n",
       "        <td>Niekro</td>\n",
       "        <td>niekrph01</td>\n",
       "        <td>1997</td>\n",
       "    </tr>\n",
       "    <tr>\n",
       "        <td>Nellie</td>\n",
       "        <td>Fox</td>\n",
       "        <td>foxne01</td>\n",
       "        <td>1997</td>\n",
       "    </tr>\n",
       "    <tr>\n",
       "        <td>Tom</td>\n",
       "        <td>Lasorda</td>\n",
       "        <td>lasorto01</td>\n",
       "        <td>1997</td>\n",
       "    </tr>\n",
       "    <tr>\n",
       "        <td>Willie</td>\n",
       "        <td>Wells</td>\n",
       "        <td>wellswi99</td>\n",
       "        <td>1997</td>\n",
       "    </tr>\n",
       "    <tr>\n",
       "        <td>Don</td>\n",
       "        <td>Sutton</td>\n",
       "        <td>suttodo01</td>\n",
       "        <td>1998</td>\n",
       "    </tr>\n",
       "    <tr>\n",
       "        <td>George</td>\n",
       "        <td>Davis</td>\n",
       "        <td>davisge01</td>\n",
       "        <td>1998</td>\n",
       "    </tr>\n",
       "    <tr>\n",
       "        <td>Larry</td>\n",
       "        <td>Doby</td>\n",
       "        <td>dobyla01</td>\n",
       "        <td>1998</td>\n",
       "    </tr>\n",
       "    <tr>\n",
       "        <td>Lee</td>\n",
       "        <td>MacPhail</td>\n",
       "        <td>macphle99</td>\n",
       "        <td>1998</td>\n",
       "    </tr>\n",
       "    <tr>\n",
       "        <td>Bullet</td>\n",
       "        <td>Rogan</td>\n",
       "        <td>roganbu99</td>\n",
       "        <td>1998</td>\n",
       "    </tr>\n",
       "    <tr>\n",
       "        <td>Nolan</td>\n",
       "        <td>Ryan</td>\n",
       "        <td>ryanno01</td>\n",
       "        <td>1999</td>\n",
       "    </tr>\n",
       "    <tr>\n",
       "        <td>George</td>\n",
       "        <td>Brett</td>\n",
       "        <td>brettge01</td>\n",
       "        <td>1999</td>\n",
       "    </tr>\n",
       "    <tr>\n",
       "        <td>Robin</td>\n",
       "        <td>Yount</td>\n",
       "        <td>yountro01</td>\n",
       "        <td>1999</td>\n",
       "    </tr>\n",
       "    <tr>\n",
       "        <td>Orlando</td>\n",
       "        <td>Cepeda</td>\n",
       "        <td>cepedor01</td>\n",
       "        <td>1999</td>\n",
       "    </tr>\n",
       "    <tr>\n",
       "        <td>Nestor</td>\n",
       "        <td>Chylak</td>\n",
       "        <td>chylane99</td>\n",
       "        <td>1999</td>\n",
       "    </tr>\n",
       "    <tr>\n",
       "        <td>Frank</td>\n",
       "        <td>Selee</td>\n",
       "        <td>seleefr99</td>\n",
       "        <td>1999</td>\n",
       "    </tr>\n",
       "    <tr>\n",
       "        <td>Smokey Joe</td>\n",
       "        <td>Williams</td>\n",
       "        <td>willijo99</td>\n",
       "        <td>1999</td>\n",
       "    </tr>\n",
       "    <tr>\n",
       "        <td>Carlton</td>\n",
       "        <td>Fisk</td>\n",
       "        <td>fiskca01</td>\n",
       "        <td>2000</td>\n",
       "    </tr>\n",
       "    <tr>\n",
       "        <td>Tony</td>\n",
       "        <td>Perez</td>\n",
       "        <td>perezto01</td>\n",
       "        <td>2000</td>\n",
       "    </tr>\n",
       "    <tr>\n",
       "        <td>Sparky</td>\n",
       "        <td>Anderson</td>\n",
       "        <td>andersp01</td>\n",
       "        <td>2000</td>\n",
       "    </tr>\n",
       "    <tr>\n",
       "        <td>Bid</td>\n",
       "        <td>McPhee</td>\n",
       "        <td>mcphebi01</td>\n",
       "        <td>2000</td>\n",
       "    </tr>\n",
       "    <tr>\n",
       "        <td>Turkey</td>\n",
       "        <td>Stearnes</td>\n",
       "        <td>steartu99</td>\n",
       "        <td>2000</td>\n",
       "    </tr>\n",
       "    <tr>\n",
       "        <td>Dave</td>\n",
       "        <td>Winfield</td>\n",
       "        <td>winfida01</td>\n",
       "        <td>2001</td>\n",
       "    </tr>\n",
       "    <tr>\n",
       "        <td>Kirby</td>\n",
       "        <td>Puckett</td>\n",
       "        <td>puckeki01</td>\n",
       "        <td>2001</td>\n",
       "    </tr>\n",
       "    <tr>\n",
       "        <td>Bill</td>\n",
       "        <td>Mazeroski</td>\n",
       "        <td>mazerbi01</td>\n",
       "        <td>2001</td>\n",
       "    </tr>\n",
       "    <tr>\n",
       "        <td>Hilton</td>\n",
       "        <td>Smith</td>\n",
       "        <td>smithhi99</td>\n",
       "        <td>2001</td>\n",
       "    </tr>\n",
       "    <tr>\n",
       "        <td>Ozzie</td>\n",
       "        <td>Smith</td>\n",
       "        <td>smithoz01</td>\n",
       "        <td>2002</td>\n",
       "    </tr>\n",
       "    <tr>\n",
       "        <td>Eddie</td>\n",
       "        <td>Murray</td>\n",
       "        <td>murraed02</td>\n",
       "        <td>2003</td>\n",
       "    </tr>\n",
       "    <tr>\n",
       "        <td>Gary</td>\n",
       "        <td>Carter</td>\n",
       "        <td>cartega01</td>\n",
       "        <td>2003</td>\n",
       "    </tr>\n",
       "    <tr>\n",
       "        <td>Paul</td>\n",
       "        <td>Molitor</td>\n",
       "        <td>molitpa01</td>\n",
       "        <td>2004</td>\n",
       "    </tr>\n",
       "    <tr>\n",
       "        <td>Dennis</td>\n",
       "        <td>Eckersley</td>\n",
       "        <td>eckerde01</td>\n",
       "        <td>2004</td>\n",
       "    </tr>\n",
       "    <tr>\n",
       "        <td>Wade</td>\n",
       "        <td>Boggs</td>\n",
       "        <td>boggswa01</td>\n",
       "        <td>2005</td>\n",
       "    </tr>\n",
       "    <tr>\n",
       "        <td>Ryne</td>\n",
       "        <td>Sandberg</td>\n",
       "        <td>sandbry01</td>\n",
       "        <td>2005</td>\n",
       "    </tr>\n",
       "    <tr>\n",
       "        <td>Bruce</td>\n",
       "        <td>Sutter</td>\n",
       "        <td>suttebr01</td>\n",
       "        <td>2006</td>\n",
       "    </tr>\n",
       "    <tr>\n",
       "        <td>Ray</td>\n",
       "        <td>Brown</td>\n",
       "        <td>brownra99</td>\n",
       "        <td>2006</td>\n",
       "    </tr>\n",
       "    <tr>\n",
       "        <td>Willard</td>\n",
       "        <td>Brown</td>\n",
       "        <td>brownwi02</td>\n",
       "        <td>2006</td>\n",
       "    </tr>\n",
       "    <tr>\n",
       "        <td>Andy</td>\n",
       "        <td>Cooper</td>\n",
       "        <td>coopean99</td>\n",
       "        <td>2006</td>\n",
       "    </tr>\n",
       "    <tr>\n",
       "        <td>Frank</td>\n",
       "        <td>Grant</td>\n",
       "        <td>grantfr99</td>\n",
       "        <td>2006</td>\n",
       "    </tr>\n",
       "    <tr>\n",
       "        <td>Pete</td>\n",
       "        <td>Hill</td>\n",
       "        <td>hillpe99</td>\n",
       "        <td>2006</td>\n",
       "    </tr>\n",
       "    <tr>\n",
       "        <td>Biz</td>\n",
       "        <td>Mackey</td>\n",
       "        <td>mackebi99</td>\n",
       "        <td>2006</td>\n",
       "    </tr>\n",
       "    <tr>\n",
       "        <td>Effa</td>\n",
       "        <td>Manley</td>\n",
       "        <td>manleef99</td>\n",
       "        <td>2006</td>\n",
       "    </tr>\n",
       "    <tr>\n",
       "        <td>Jose</td>\n",
       "        <td>Mendez</td>\n",
       "        <td>mendejo99</td>\n",
       "        <td>2006</td>\n",
       "    </tr>\n",
       "    <tr>\n",
       "        <td>Alex</td>\n",
       "        <td>Pompez</td>\n",
       "        <td>pompeal99</td>\n",
       "        <td>2006</td>\n",
       "    </tr>\n",
       "    <tr>\n",
       "        <td>Cum</td>\n",
       "        <td>Posey</td>\n",
       "        <td>poseycu99</td>\n",
       "        <td>2006</td>\n",
       "    </tr>\n",
       "    <tr>\n",
       "        <td>Louis</td>\n",
       "        <td>Santop</td>\n",
       "        <td>santolo99</td>\n",
       "        <td>2006</td>\n",
       "    </tr>\n",
       "    <tr>\n",
       "        <td>Mule</td>\n",
       "        <td>Suttles</td>\n",
       "        <td>suttlmu99</td>\n",
       "        <td>2006</td>\n",
       "    </tr>\n",
       "    <tr>\n",
       "        <td>Ben</td>\n",
       "        <td>Taylor</td>\n",
       "        <td>taylobe99</td>\n",
       "        <td>2006</td>\n",
       "    </tr>\n",
       "    <tr>\n",
       "        <td>Cristobal</td>\n",
       "        <td>Torriente</td>\n",
       "        <td>torricr99</td>\n",
       "        <td>2006</td>\n",
       "    </tr>\n",
       "    <tr>\n",
       "        <td>Sol</td>\n",
       "        <td>White</td>\n",
       "        <td>whiteso99</td>\n",
       "        <td>2006</td>\n",
       "    </tr>\n",
       "    <tr>\n",
       "        <td>J. L.</td>\n",
       "        <td>Wilkinson</td>\n",
       "        <td>wilkijl99</td>\n",
       "        <td>2006</td>\n",
       "    </tr>\n",
       "    <tr>\n",
       "        <td>Jud</td>\n",
       "        <td>Wilson</td>\n",
       "        <td>wilsoju99</td>\n",
       "        <td>2006</td>\n",
       "    </tr>\n",
       "    <tr>\n",
       "        <td>Cal</td>\n",
       "        <td>Ripken</td>\n",
       "        <td>ripkeca01</td>\n",
       "        <td>2007</td>\n",
       "    </tr>\n",
       "    <tr>\n",
       "        <td>Tony</td>\n",
       "        <td>Gwynn</td>\n",
       "        <td>gwynnto01</td>\n",
       "        <td>2007</td>\n",
       "    </tr>\n",
       "    <tr>\n",
       "        <td>Rich</td>\n",
       "        <td>Gossage</td>\n",
       "        <td>gossari01</td>\n",
       "        <td>2008</td>\n",
       "    </tr>\n",
       "    <tr>\n",
       "        <td>Barney</td>\n",
       "        <td>Dreyfuss</td>\n",
       "        <td>dreyfba99</td>\n",
       "        <td>2008</td>\n",
       "    </tr>\n",
       "    <tr>\n",
       "        <td>Bowie</td>\n",
       "        <td>Kuhn</td>\n",
       "        <td>kuhnbo99</td>\n",
       "        <td>2008</td>\n",
       "    </tr>\n",
       "    <tr>\n",
       "        <td>Walter</td>\n",
       "        <td>O&#x27;Malley</td>\n",
       "        <td>omallwa99</td>\n",
       "        <td>2008</td>\n",
       "    </tr>\n",
       "    <tr>\n",
       "        <td>Billy</td>\n",
       "        <td>Southworth</td>\n",
       "        <td>southbi01</td>\n",
       "        <td>2008</td>\n",
       "    </tr>\n",
       "    <tr>\n",
       "        <td>Dick</td>\n",
       "        <td>Williams</td>\n",
       "        <td>willidi02</td>\n",
       "        <td>2008</td>\n",
       "    </tr>\n",
       "    <tr>\n",
       "        <td>Rickey</td>\n",
       "        <td>Henderson</td>\n",
       "        <td>henderi01</td>\n",
       "        <td>2009</td>\n",
       "    </tr>\n",
       "    <tr>\n",
       "        <td>Jim</td>\n",
       "        <td>Rice</td>\n",
       "        <td>riceji01</td>\n",
       "        <td>2009</td>\n",
       "    </tr>\n",
       "    <tr>\n",
       "        <td>Joe</td>\n",
       "        <td>Gordon</td>\n",
       "        <td>gordojo01</td>\n",
       "        <td>2009</td>\n",
       "    </tr>\n",
       "    <tr>\n",
       "        <td>Andre</td>\n",
       "        <td>Dawson</td>\n",
       "        <td>dawsoan01</td>\n",
       "        <td>2010</td>\n",
       "    </tr>\n",
       "    <tr>\n",
       "        <td>Whitey</td>\n",
       "        <td>Herzog</td>\n",
       "        <td>herzowh01</td>\n",
       "        <td>2010</td>\n",
       "    </tr>\n",
       "    <tr>\n",
       "        <td>Doug</td>\n",
       "        <td>Harvey</td>\n",
       "        <td>harvedo99</td>\n",
       "        <td>2010</td>\n",
       "    </tr>\n",
       "    <tr>\n",
       "        <td>Roberto</td>\n",
       "        <td>Alomar</td>\n",
       "        <td>alomaro01</td>\n",
       "        <td>2011</td>\n",
       "    </tr>\n",
       "    <tr>\n",
       "        <td>Bert</td>\n",
       "        <td>Blyleven</td>\n",
       "        <td>blylebe01</td>\n",
       "        <td>2011</td>\n",
       "    </tr>\n",
       "    <tr>\n",
       "        <td>Pat</td>\n",
       "        <td>Gillick</td>\n",
       "        <td>gillipa99</td>\n",
       "        <td>2011</td>\n",
       "    </tr>\n",
       "    <tr>\n",
       "        <td>Barry</td>\n",
       "        <td>Larkin</td>\n",
       "        <td>larkiba01</td>\n",
       "        <td>2012</td>\n",
       "    </tr>\n",
       "    <tr>\n",
       "        <td>Ron</td>\n",
       "        <td>Santo</td>\n",
       "        <td>santoro01</td>\n",
       "        <td>2012</td>\n",
       "    </tr>\n",
       "    <tr>\n",
       "        <td>Jacob</td>\n",
       "        <td>Ruppert</td>\n",
       "        <td>ruperja99</td>\n",
       "        <td>2013</td>\n",
       "    </tr>\n",
       "    <tr>\n",
       "        <td>Hank</td>\n",
       "        <td>O&#x27;Day</td>\n",
       "        <td>odayha01</td>\n",
       "        <td>2013</td>\n",
       "    </tr>\n",
       "    <tr>\n",
       "        <td>Deacon</td>\n",
       "        <td>White</td>\n",
       "        <td>whitede01</td>\n",
       "        <td>2013</td>\n",
       "    </tr>\n",
       "    <tr>\n",
       "        <td>Bobby</td>\n",
       "        <td>Cox</td>\n",
       "        <td>coxbo01</td>\n",
       "        <td>2014</td>\n",
       "    </tr>\n",
       "    <tr>\n",
       "        <td>Tony</td>\n",
       "        <td>LaRussa</td>\n",
       "        <td>larusto01</td>\n",
       "        <td>2014</td>\n",
       "    </tr>\n",
       "    <tr>\n",
       "        <td>Joe</td>\n",
       "        <td>Torre</td>\n",
       "        <td>torrejo01</td>\n",
       "        <td>2014</td>\n",
       "    </tr>\n",
       "    <tr>\n",
       "        <td>Greg</td>\n",
       "        <td>Maddux</td>\n",
       "        <td>maddugr01</td>\n",
       "        <td>2014</td>\n",
       "    </tr>\n",
       "    <tr>\n",
       "        <td>Tom</td>\n",
       "        <td>Glavine</td>\n",
       "        <td>glavito02</td>\n",
       "        <td>2014</td>\n",
       "    </tr>\n",
       "    <tr>\n",
       "        <td>Frank</td>\n",
       "        <td>Thomas</td>\n",
       "        <td>thomafr04</td>\n",
       "        <td>2014</td>\n",
       "    </tr>\n",
       "    <tr>\n",
       "        <td>Randy</td>\n",
       "        <td>Johnson</td>\n",
       "        <td>johnsra05</td>\n",
       "        <td>2015</td>\n",
       "    </tr>\n",
       "    <tr>\n",
       "        <td>Pedro</td>\n",
       "        <td>Martinez</td>\n",
       "        <td>martipe02</td>\n",
       "        <td>2015</td>\n",
       "    </tr>\n",
       "    <tr>\n",
       "        <td>John</td>\n",
       "        <td>Smoltz</td>\n",
       "        <td>smoltjo01</td>\n",
       "        <td>2015</td>\n",
       "    </tr>\n",
       "    <tr>\n",
       "        <td>Craig</td>\n",
       "        <td>Biggio</td>\n",
       "        <td>biggicr01</td>\n",
       "        <td>2015</td>\n",
       "    </tr>\n",
       "    <tr>\n",
       "        <td>Ken</td>\n",
       "        <td>Griffey</td>\n",
       "        <td>griffke02</td>\n",
       "        <td>2016</td>\n",
       "    </tr>\n",
       "    <tr>\n",
       "        <td>Mike</td>\n",
       "        <td>Piazza</td>\n",
       "        <td>piazzmi01</td>\n",
       "        <td>2016</td>\n",
       "    </tr>\n",
       "    <tr>\n",
       "        <td>Jeff</td>\n",
       "        <td>Bagwell</td>\n",
       "        <td>bagweje01</td>\n",
       "        <td>2017</td>\n",
       "    </tr>\n",
       "    <tr>\n",
       "        <td>Tim</td>\n",
       "        <td>Raines</td>\n",
       "        <td>raineti01</td>\n",
       "        <td>2017</td>\n",
       "    </tr>\n",
       "    <tr>\n",
       "        <td>Ivan</td>\n",
       "        <td>Rodriguez</td>\n",
       "        <td>rodriiv01</td>\n",
       "        <td>2017</td>\n",
       "    </tr>\n",
       "    <tr>\n",
       "        <td>Bud</td>\n",
       "        <td>Selig</td>\n",
       "        <td>seligbu99</td>\n",
       "        <td>2017</td>\n",
       "    </tr>\n",
       "    <tr>\n",
       "        <td>John</td>\n",
       "        <td>Schuerholz</td>\n",
       "        <td>schurjo99</td>\n",
       "        <td>2017</td>\n",
       "    </tr>\n",
       "    <tr>\n",
       "        <td>Chipper</td>\n",
       "        <td>Jones</td>\n",
       "        <td>jonesch06</td>\n",
       "        <td>2018</td>\n",
       "    </tr>\n",
       "    <tr>\n",
       "        <td>Vladimir</td>\n",
       "        <td>Guerrero</td>\n",
       "        <td>guerrvl01</td>\n",
       "        <td>2018</td>\n",
       "    </tr>\n",
       "    <tr>\n",
       "        <td>Jim</td>\n",
       "        <td>Thome</td>\n",
       "        <td>thomeji01</td>\n",
       "        <td>2018</td>\n",
       "    </tr>\n",
       "    <tr>\n",
       "        <td>Trevor</td>\n",
       "        <td>Hoffman</td>\n",
       "        <td>hoffmtr01</td>\n",
       "        <td>2018</td>\n",
       "    </tr>\n",
       "    <tr>\n",
       "        <td>Jack</td>\n",
       "        <td>Morris</td>\n",
       "        <td>morrija02</td>\n",
       "        <td>2018</td>\n",
       "    </tr>\n",
       "    <tr>\n",
       "        <td>Alan</td>\n",
       "        <td>Trammell</td>\n",
       "        <td>trammal01</td>\n",
       "        <td>2018</td>\n",
       "    </tr>\n",
       "</table>"
      ],
      "text/plain": [
       "[('Ty', 'Cobb', 'cobbty01', 1936),\n",
       " ('Babe', 'Ruth', 'ruthba01', 1936),\n",
       " ('Honus', 'Wagner', 'wagneho01', 1936),\n",
       " ('Christy', 'Mathewson', 'mathech01', 1936),\n",
       " ('Walter', 'Johnson', 'johnswa01', 1936),\n",
       " ('Nap', 'Lajoie', 'lajoina01', 1937),\n",
       " ('Tris', 'Speaker', 'speaktr01', 1937),\n",
       " ('Cy', 'Young', 'youngcy01', 1937),\n",
       " ('Morgan', 'Bulkeley', 'bulkemo99', 1937),\n",
       " ('Ban', 'Johnson', 'johnsba99', 1937),\n",
       " ('Connie', 'Mack', 'mackco01', 1937),\n",
       " ('John', 'McGraw', 'mcgrajo01', 1937),\n",
       " ('George', 'Wright', 'wrighge01', 1937),\n",
       " ('Pete', 'Alexander', 'alexape01', 1938),\n",
       " ('Alexander', 'Cartwright', 'cartwal99', 1938),\n",
       " ('Henry', 'Chadwick', 'chadwhe99', 1938),\n",
       " ('George', 'Sisler', 'sislege01', 1939),\n",
       " ('Eddie', 'Collins', 'collied01', 1939),\n",
       " ('Willie', 'Keeler', 'keelewi01', 1939),\n",
       " ('Cap', 'Anson', 'ansonca01', 1939),\n",
       " ('Charlie', 'Comiskey', 'comisch01', 1939),\n",
       " ('Candy', 'Cummings', 'cummica01', 1939),\n",
       " ('Buck', 'Ewing', 'ewingbu01', 1939),\n",
       " ('Lou', 'Gehrig', 'gehrilo01', 1939),\n",
       " ('Old Hoss', 'Radbourn', 'radboch01', 1939),\n",
       " ('Al', 'Spalding', 'spaldal01', 1939),\n",
       " ('Rogers', 'Hornsby', 'hornsro01', 1942),\n",
       " ('Kenesaw', 'Landis', 'landike99', 1944),\n",
       " ('Roger', 'Bresnahan', 'bresnro01', 1945),\n",
       " ('Dan', 'Brouthers', 'broutda01', 1945),\n",
       " ('Fred', 'Clarke', 'clarkfr01', 1945),\n",
       " ('Jimmy', 'Collins', 'colliji01', 1945),\n",
       " ('Ed', 'Delahanty', 'delahed01', 1945),\n",
       " ('Hugh', 'Duffy', 'duffyhu01', 1945),\n",
       " ('Hughie', 'Jennings', 'jennihu01', 1945),\n",
       " ('King', 'Kelly', 'kellyki01', 1945),\n",
       " ('Jim', \"O'Rourke\", 'orourji01', 1945),\n",
       " ('Wilbert', 'Robinson', 'robinwi01', 1945),\n",
       " ('Jesse', 'Burkett', 'burkeje01', 1946),\n",
       " ('Frank', 'Chance', 'chancfr01', 1946),\n",
       " ('Jack', 'Chesbro', 'chesbja01', 1946),\n",
       " ('Johnny', 'Evers', 'eversjo01', 1946),\n",
       " ('Clark', 'Griffith', 'griffcl01', 1946),\n",
       " ('Tommy', 'McCarthy', 'mccarto01', 1946),\n",
       " ('Joe', 'McGinnity', 'mcginjo01', 1946),\n",
       " ('Eddie', 'Plank', 'planked01', 1946),\n",
       " ('Joe', 'Tinker', 'tinkejo01', 1946),\n",
       " ('Rube', 'Waddell', 'wadderu01', 1946),\n",
       " ('Ed', 'Walsh', 'walshed01', 1946),\n",
       " ('Carl', 'Hubbell', 'hubbeca01', 1947),\n",
       " ('Frankie', 'Frisch', 'friscfr01', 1947),\n",
       " ('Mickey', 'Cochrane', 'cochrmi01', 1947),\n",
       " ('Lefty', 'Grove', 'grovele01', 1947),\n",
       " ('Herb', 'Pennock', 'pennohe01', 1948),\n",
       " ('Pie', 'Traynor', 'traynpi01', 1948),\n",
       " ('Charlie', 'Gehringer', 'gehrich01', 1949),\n",
       " ('Mordecai', 'Brown', 'brownmo01', 1949),\n",
       " ('Kid', 'Nichols', 'nichoki01', 1949),\n",
       " ('Mel', 'Ott', 'ottme01', 1951),\n",
       " ('Jimmie', 'Foxx', 'foxxji01', 1951),\n",
       " ('Harry', 'Heilmann', 'heilmha01', 1952),\n",
       " ('Paul', 'Waner', 'wanerpa01', 1952),\n",
       " ('Dizzy', 'Dean', 'deandi01', 1953),\n",
       " ('Al', 'Simmons', 'simmoal01', 1953),\n",
       " ('Ed', 'Barrow', 'barroed99', 1953),\n",
       " ('Chief', 'Bender', 'bendech01', 1953),\n",
       " ('Tommy', 'Connolly', 'connoto99', 1953),\n",
       " ('Bill', 'Klem', 'klembi99', 1953),\n",
       " ('Bobby', 'Wallace', 'wallabo01', 1953),\n",
       " ('Harry', 'Wright', 'wrighha01', 1953),\n",
       " ('Rabbit', 'Maranville', 'maranra01', 1954),\n",
       " ('Bill', 'Dickey', 'dickebi01', 1954),\n",
       " ('Bill', 'Terry', 'terrybi01', 1954),\n",
       " ('Joe', 'DiMaggio', 'dimagjo01', 1955),\n",
       " ('Ted', 'Lyons', 'lyonste01', 1955),\n",
       " ('Dazzy', 'Vance', 'vanceda01', 1955),\n",
       " ('Gabby', 'Hartnett', 'hartnga01', 1955),\n",
       " ('Home Run', 'Baker', 'bakerfr01', 1955),\n",
       " ('Ray', 'Schalk', 'schalra01', 1955),\n",
       " ('Hank', 'Greenberg', 'greenha01', 1956),\n",
       " ('Joe', 'Cronin', 'cronijo01', 1956),\n",
       " ('Sam', 'Crawford', 'crawfsa01', 1957),\n",
       " ('Joe', 'McCarthy', 'mccarjo99', 1957),\n",
       " ('Zack', 'Wheat', 'wheatza01', 1959),\n",
       " ('Max', 'Carey', 'careyma01', 1961),\n",
       " ('Billy', 'Hamilton', 'hamilbi01', 1961),\n",
       " ('Bob', 'Feller', 'fellebo01', 1962),\n",
       " ('Jackie', 'Robinson', 'robinja02', 1962),\n",
       " ('Bill', 'McKechnie', 'mckecbi01', 1962),\n",
       " ('Edd', 'Roush', 'roushed01', 1962),\n",
       " ('John', 'Clarkson', 'clarkjo01', 1963),\n",
       " ('Elmer', 'Flick', 'flickel01', 1963),\n",
       " ('Sam', 'Rice', 'ricesa01', 1963),\n",
       " ('Eppa', 'Rixey', 'rixeyep01', 1963),\n",
       " ('Luke', 'Appling', 'applilu01', 1964),\n",
       " ('Red', 'Faber', 'faberre01', 1964),\n",
       " ('Burleigh', 'Grimes', 'grimebu01', 1964),\n",
       " ('Miller', 'Huggins', 'huggimi01', 1964),\n",
       " ('Tim', 'Keefe', 'keefeti01', 1964),\n",
       " ('Heinie', 'Manush', 'manushe01', 1964),\n",
       " ('John', 'Ward', 'wardjo01', 1964),\n",
       " ('Pud', 'Galvin', 'galvipu01', 1965),\n",
       " ('Ted', 'Williams', 'willite01', 1966),\n",
       " ('Casey', 'Stengel', 'stengca01', 1966),\n",
       " ('Red', 'Ruffing', 'ruffire01', 1967),\n",
       " ('Branch', 'Rickey', 'rickebr01', 1967),\n",
       " ('Lloyd', 'Waner', 'wanerll01', 1967),\n",
       " ('Joe', 'Medwick', 'medwijo01', 1968),\n",
       " ('Kiki', 'Cuyler', 'cuyleki01', 1968),\n",
       " ('Goose', 'Goslin', 'gosligo01', 1968),\n",
       " ('Stan', 'Musial', 'musiast01', 1969),\n",
       " ('Roy', 'Campanella', 'camparo01', 1969),\n",
       " ('Stan', 'Coveleski', 'covelst01', 1969),\n",
       " ('Waite', 'Hoyt', 'hoytwa01', 1969),\n",
       " ('Lou', 'Boudreau', 'boudrlo01', 1970),\n",
       " ('Earle', 'Combs', 'combsea01', 1970),\n",
       " ('Ford', 'Frick', 'frickfo99', 1970),\n",
       " ('Jesse', 'Haines', 'haineje01', 1970),\n",
       " ('Dave', 'Bancroft', 'bancrda01', 1971),\n",
       " ('Jake', 'Beckley', 'becklja01', 1971),\n",
       " ('Chick', 'Hafey', 'hafeych01', 1971),\n",
       " ('Harry', 'Hooper', 'hoopeha01', 1971),\n",
       " ('Joe', 'Kelley', 'kellejo01', 1971),\n",
       " ('Rube', 'Marquard', 'marquru01', 1971),\n",
       " ('Satchel', 'Paige', 'paigesa01', 1971),\n",
       " ('George', 'Weiss', 'weissge99', 1971),\n",
       " ('Sandy', 'Koufax', 'koufasa01', 1972),\n",
       " ('Yogi', 'Berra', 'berrayo01', 1972),\n",
       " ('Early', 'Wynn', 'wynnea01', 1972),\n",
       " ('Josh', 'Gibson', 'gibsojo99', 1972),\n",
       " ('Lefty', 'Gomez', 'gomezle01', 1972),\n",
       " ('Will', 'Harridge', 'harriwi99', 1972),\n",
       " ('Buck', 'Leonard', 'leonabu99', 1972),\n",
       " ('Ross', 'Youngs', 'youngro01', 1972),\n",
       " ('Warren', 'Spahn', 'spahnwa01', 1973),\n",
       " ('Roberto', 'Clemente', 'clemero01', 1973),\n",
       " ('Billy', 'Evans', 'evansbi99', 1973),\n",
       " ('Monte', 'Irvin', 'irvinmo01', 1973),\n",
       " ('High Pockets', 'Kelly', 'kellyge01', 1973),\n",
       " ('Mickey', 'Welch', 'welchmi01', 1973),\n",
       " ('Mickey', 'Mantle', 'mantlmi01', 1974),\n",
       " ('Whitey', 'Ford', 'fordwh01', 1974),\n",
       " ('Cool Papa', 'Bell', 'bellco99', 1974),\n",
       " ('Jim', 'Bottomley', 'bottoji01', 1974),\n",
       " ('Jocko', 'Conlan', 'conlajo01', 1974),\n",
       " ('Sam', 'Thompson', 'thompsa01', 1974),\n",
       " ('Ralph', 'Kiner', 'kinerra01', 1975),\n",
       " ('Earl', 'Averill', 'averiea01', 1975),\n",
       " ('Bucky', 'Harris', 'harribu01', 1975),\n",
       " ('Billy', 'Herman', 'hermabi01', 1975),\n",
       " ('Judy', 'Johnson', 'johnsju99', 1975),\n",
       " ('Robin', 'Roberts', 'roberro01', 1976),\n",
       " ('Bob', 'Lemon', 'lemonbo01', 1976),\n",
       " ('Oscar', 'Charleston', 'charlos99', 1976),\n",
       " ('Roger', 'Connor', 'connoro01', 1976),\n",
       " ('Cal', 'Hubbard', 'hubbaca99', 1976),\n",
       " ('Freddie', 'Lindstrom', 'lindsfr01', 1976),\n",
       " ('Ernie', 'Banks', 'bankser01', 1977),\n",
       " ('Martin', 'Dihigo', 'dihigma99', 1977),\n",
       " ('Pop', 'Lloyd', 'lloydpo99', 1977),\n",
       " ('Al', 'Lopez', 'lopezal01', 1977),\n",
       " ('Amos', 'Rusie', 'rusieam01', 1977),\n",
       " ('Joe', 'Sewell', 'seweljo01', 1977),\n",
       " ('Eddie', 'Mathews', 'matheed01', 1978),\n",
       " ('Addie', 'Joss', 'jossad01', 1978),\n",
       " ('Larry', 'MacPhail', 'macphla99', 1978),\n",
       " ('Willie', 'Mays', 'mayswi01', 1979),\n",
       " ('Warren', 'Giles', 'gileswa99', 1979),\n",
       " ('Hack', 'Wilson', 'wilsoha01', 1979),\n",
       " ('Al', 'Kaline', 'kalinal01', 1980),\n",
       " ('Duke', 'Snider', 'snidedu01', 1980),\n",
       " ('Chuck', 'Klein', 'kleinch01', 1980),\n",
       " ('Tom', 'Yawkey', 'yawketo99', 1980),\n",
       " ('Bob', 'Gibson', 'gibsobo01', 1981),\n",
       " ('Rube', 'Foster', 'fosteru99', 1981),\n",
       " ('Johnny', 'Mize', 'mizejo01', 1981),\n",
       " ('Hank', 'Aaron', 'aaronha01', 1982),\n",
       " ('Frank', 'Robinson', 'robinfr02', 1982),\n",
       " ('Happy', 'Chandler', 'chandha99', 1982),\n",
       " ('Travis', 'Jackson', 'jackstr01', 1982),\n",
       " ('Brooks', 'Robinson', 'robinbr01', 1983),\n",
       " ('Juan', 'Marichal', 'maricju01', 1983),\n",
       " ('Walter', 'Alston', 'alstowa01', 1983),\n",
       " ('George', 'Kell', 'kellge01', 1983),\n",
       " ('Luis', 'Aparicio', 'aparilu01', 1984),\n",
       " ('Harmon', 'Killebrew', 'killeha01', 1984),\n",
       " ('Don', 'Drysdale', 'drysddo01', 1984),\n",
       " ('Rick', 'Ferrell', 'ferreri01', 1984),\n",
       " ('Pee Wee', 'Reese', 'reesepe01', 1984),\n",
       " ('Hoyt', 'Wilhelm', 'wilheho01', 1985),\n",
       " ('Lou', 'Brock', 'brocklo01', 1985),\n",
       " ('Enos', 'Slaughter', 'slaugen01', 1985),\n",
       " ('Arky', 'Vaughan', 'vaughar01', 1985),\n",
       " ('Willie', 'McCovey', 'mccovwi01', 1986),\n",
       " ('Bobby', 'Doerr', 'doerrbo01', 1986),\n",
       " ('Ernie', 'Lombardi', 'lombaer01', 1986),\n",
       " ('Billy', 'Williams', 'willibi01', 1987),\n",
       " ('Catfish', 'Hunter', 'hunteca01', 1987),\n",
       " ('Ray', 'Dandridge', 'dandrra99', 1987),\n",
       " ('Willie', 'Stargell', 'stargwi01', 1988),\n",
       " ('Johnny', 'Bench', 'benchjo01', 1989),\n",
       " ('Carl', 'Yastrzemski', 'yastrca01', 1989),\n",
       " ('Al', 'Barlick', 'barlial99', 1989),\n",
       " ('Red', 'Schoendienst', 'schoere01', 1989),\n",
       " ('Jim', 'Palmer', 'palmeji01', 1990),\n",
       " ('Joe', 'Morgan', 'morgajo02', 1990),\n",
       " ('Rod', 'Carew', 'carewro01', 1991),\n",
       " ('Gaylord', 'Perry', 'perryga01', 1991),\n",
       " ('Fergie', 'Jenkins', 'jenkife01', 1991),\n",
       " ('Tony', 'Lazzeri', 'lazzeto01', 1991),\n",
       " ('Bill', 'Veeck', 'veeckbi99', 1991),\n",
       " ('Tom', 'Seaver', 'seaveto01', 1992),\n",
       " ('Rollie', 'Fingers', 'fingero01', 1992),\n",
       " ('Bill', 'McGowan', 'mcgowbi99', 1992),\n",
       " ('Hal', 'Newhouser', 'newhoha01', 1992),\n",
       " ('Reggie', 'Jackson', 'jacksre01', 1993),\n",
       " ('Steve', 'Carlton', 'carltst01', 1994),\n",
       " ('Leo', 'Durocher', 'durocle01', 1994),\n",
       " ('Phil', 'Rizzuto', 'rizzuph01', 1994),\n",
       " ('Mike', 'Schmidt', 'schmimi01', 1995),\n",
       " ('Richie', 'Ashburn', 'ashburi01', 1995),\n",
       " ('Leon', 'Day', 'dayle99', 1995),\n",
       " ('William', 'Hulbert', 'hulbewi99', 1995),\n",
       " ('Vic', 'Willis', 'willivi01', 1995),\n",
       " ('Jim', 'Bunning', 'bunniji01', 1996),\n",
       " ('Bill', 'Foster', 'fostebi99', 1996),\n",
       " ('Ned', 'Hanlon', 'hanlone01', 1996),\n",
       " ('Earl', 'Weaver', 'weaveea99', 1996),\n",
       " ('Phil', 'Niekro', 'niekrph01', 1997),\n",
       " ('Nellie', 'Fox', 'foxne01', 1997),\n",
       " ('Tom', 'Lasorda', 'lasorto01', 1997),\n",
       " ('Willie', 'Wells', 'wellswi99', 1997),\n",
       " ('Don', 'Sutton', 'suttodo01', 1998),\n",
       " ('George', 'Davis', 'davisge01', 1998),\n",
       " ('Larry', 'Doby', 'dobyla01', 1998),\n",
       " ('Lee', 'MacPhail', 'macphle99', 1998),\n",
       " ('Bullet', 'Rogan', 'roganbu99', 1998),\n",
       " ('Nolan', 'Ryan', 'ryanno01', 1999),\n",
       " ('George', 'Brett', 'brettge01', 1999),\n",
       " ('Robin', 'Yount', 'yountro01', 1999),\n",
       " ('Orlando', 'Cepeda', 'cepedor01', 1999),\n",
       " ('Nestor', 'Chylak', 'chylane99', 1999),\n",
       " ('Frank', 'Selee', 'seleefr99', 1999),\n",
       " ('Smokey Joe', 'Williams', 'willijo99', 1999),\n",
       " ('Carlton', 'Fisk', 'fiskca01', 2000),\n",
       " ('Tony', 'Perez', 'perezto01', 2000),\n",
       " ('Sparky', 'Anderson', 'andersp01', 2000),\n",
       " ('Bid', 'McPhee', 'mcphebi01', 2000),\n",
       " ('Turkey', 'Stearnes', 'steartu99', 2000),\n",
       " ('Dave', 'Winfield', 'winfida01', 2001),\n",
       " ('Kirby', 'Puckett', 'puckeki01', 2001),\n",
       " ('Bill', 'Mazeroski', 'mazerbi01', 2001),\n",
       " ('Hilton', 'Smith', 'smithhi99', 2001),\n",
       " ('Ozzie', 'Smith', 'smithoz01', 2002),\n",
       " ('Eddie', 'Murray', 'murraed02', 2003),\n",
       " ('Gary', 'Carter', 'cartega01', 2003),\n",
       " ('Paul', 'Molitor', 'molitpa01', 2004),\n",
       " ('Dennis', 'Eckersley', 'eckerde01', 2004),\n",
       " ('Wade', 'Boggs', 'boggswa01', 2005),\n",
       " ('Ryne', 'Sandberg', 'sandbry01', 2005),\n",
       " ('Bruce', 'Sutter', 'suttebr01', 2006),\n",
       " ('Ray', 'Brown', 'brownra99', 2006),\n",
       " ('Willard', 'Brown', 'brownwi02', 2006),\n",
       " ('Andy', 'Cooper', 'coopean99', 2006),\n",
       " ('Frank', 'Grant', 'grantfr99', 2006),\n",
       " ('Pete', 'Hill', 'hillpe99', 2006),\n",
       " ('Biz', 'Mackey', 'mackebi99', 2006),\n",
       " ('Effa', 'Manley', 'manleef99', 2006),\n",
       " ('Jose', 'Mendez', 'mendejo99', 2006),\n",
       " ('Alex', 'Pompez', 'pompeal99', 2006),\n",
       " ('Cum', 'Posey', 'poseycu99', 2006),\n",
       " ('Louis', 'Santop', 'santolo99', 2006),\n",
       " ('Mule', 'Suttles', 'suttlmu99', 2006),\n",
       " ('Ben', 'Taylor', 'taylobe99', 2006),\n",
       " ('Cristobal', 'Torriente', 'torricr99', 2006),\n",
       " ('Sol', 'White', 'whiteso99', 2006),\n",
       " ('J. L.', 'Wilkinson', 'wilkijl99', 2006),\n",
       " ('Jud', 'Wilson', 'wilsoju99', 2006),\n",
       " ('Cal', 'Ripken', 'ripkeca01', 2007),\n",
       " ('Tony', 'Gwynn', 'gwynnto01', 2007),\n",
       " ('Rich', 'Gossage', 'gossari01', 2008),\n",
       " ('Barney', 'Dreyfuss', 'dreyfba99', 2008),\n",
       " ('Bowie', 'Kuhn', 'kuhnbo99', 2008),\n",
       " ('Walter', \"O'Malley\", 'omallwa99', 2008),\n",
       " ('Billy', 'Southworth', 'southbi01', 2008),\n",
       " ('Dick', 'Williams', 'willidi02', 2008),\n",
       " ('Rickey', 'Henderson', 'henderi01', 2009),\n",
       " ('Jim', 'Rice', 'riceji01', 2009),\n",
       " ('Joe', 'Gordon', 'gordojo01', 2009),\n",
       " ('Andre', 'Dawson', 'dawsoan01', 2010),\n",
       " ('Whitey', 'Herzog', 'herzowh01', 2010),\n",
       " ('Doug', 'Harvey', 'harvedo99', 2010),\n",
       " ('Roberto', 'Alomar', 'alomaro01', 2011),\n",
       " ('Bert', 'Blyleven', 'blylebe01', 2011),\n",
       " ('Pat', 'Gillick', 'gillipa99', 2011),\n",
       " ('Barry', 'Larkin', 'larkiba01', 2012),\n",
       " ('Ron', 'Santo', 'santoro01', 2012),\n",
       " ('Jacob', 'Ruppert', 'ruperja99', 2013),\n",
       " ('Hank', \"O'Day\", 'odayha01', 2013),\n",
       " ('Deacon', 'White', 'whitede01', 2013),\n",
       " ('Bobby', 'Cox', 'coxbo01', 2014),\n",
       " ('Tony', 'LaRussa', 'larusto01', 2014),\n",
       " ('Joe', 'Torre', 'torrejo01', 2014),\n",
       " ('Greg', 'Maddux', 'maddugr01', 2014),\n",
       " ('Tom', 'Glavine', 'glavito02', 2014),\n",
       " ('Frank', 'Thomas', 'thomafr04', 2014),\n",
       " ('Randy', 'Johnson', 'johnsra05', 2015),\n",
       " ('Pedro', 'Martinez', 'martipe02', 2015),\n",
       " ('John', 'Smoltz', 'smoltjo01', 2015),\n",
       " ('Craig', 'Biggio', 'biggicr01', 2015),\n",
       " ('Ken', 'Griffey', 'griffke02', 2016),\n",
       " ('Mike', 'Piazza', 'piazzmi01', 2016),\n",
       " ('Jeff', 'Bagwell', 'bagweje01', 2017),\n",
       " ('Tim', 'Raines', 'raineti01', 2017),\n",
       " ('Ivan', 'Rodriguez', 'rodriiv01', 2017),\n",
       " ('Bud', 'Selig', 'seligbu99', 2017),\n",
       " ('John', 'Schuerholz', 'schurjo99', 2017),\n",
       " ('Chipper', 'Jones', 'jonesch06', 2018),\n",
       " ('Vladimir', 'Guerrero', 'guerrvl01', 2018),\n",
       " ('Jim', 'Thome', 'thomeji01', 2018),\n",
       " ('Trevor', 'Hoffman', 'hoffmtr01', 2018),\n",
       " ('Jack', 'Morris', 'morrija02', 2018),\n",
       " ('Alan', 'Trammell', 'trammal01', 2018)]"
      ]
     },
     "execution_count": 19,
     "metadata": {},
     "output_type": "execute_result"
    }
   ],
   "source": [
    "result_1a"
   ]
  },
  {
   "cell_type": "code",
   "execution_count": 20,
   "metadata": {},
   "outputs": [],
   "source": [
    "# Do not delete/edit this cell\n",
    "result_1a.DataFrame().sort_values(['playerid', 'yearid']).to_csv('results/result_1a.csv', index=False)"
   ]
  },
  {
   "cell_type": "code",
   "execution_count": 21,
   "metadata": {
    "deletable": false,
    "editable": false
   },
   "outputs": [
    {
     "data": {
      "text/html": [
       "<p><strong><pre style='display: inline;'>q1a</pre></strong> passed!</p>"
      ],
      "text/plain": [
       "q1a results: All test cases passed!"
      ]
     },
     "execution_count": 21,
     "metadata": {},
     "output_type": "execute_result"
    }
   ],
   "source": [
    "grader.check(\"q1a\")"
   ]
  },
  {
   "cell_type": "markdown",
   "metadata": {},
   "source": [
    "### Question 1b:\n",
    "In this question, we will compare the query you wrote in `Question 1a` against the provided query in `Question 1bi` by inspecting the query plans.\n",
    "\n",
    "#### Question 1bi: \n",
    "Inspect the query plan for `provided_query` and the query you wrote in `Question 1a`. Record the **execution time** and **cost** for each query."
   ]
  },
  {
   "cell_type": "code",
   "execution_count": 22,
   "metadata": {},
   "outputs": [
    {
     "name": "stdout",
     "output_type": "stream",
     "text": [
      " * postgresql://jovyan@127.0.0.1:5432/baseball\n",
      "   postgresql://jovyan@127.0.0.1:5432/postgres\n",
      "323 rows affected.\n",
      "Returning data to local variable provided_query\n"
     ]
    }
   ],
   "source": [
    "%%sql provided_query <<\n",
    "SELECT namefirst, namelast, p.playerid, yearid\n",
    "FROM people AS p, (SELECT * FROM halloffame WHERE inducted = 'Y') AS hof \n",
    "WHERE p.playerid = hof.playerid;"
   ]
  },
  {
   "cell_type": "code",
   "execution_count": 15,
   "metadata": {},
   "outputs": [
    {
     "name": "stdout",
     "output_type": "stream",
     "text": [
      "                                                       QUERY PLAN                                                        \r\n",
      "-------------------------------------------------------------------------------------------------------------------------\r\n",
      " Hash Join  (cost=861.83..959.06 rows=323 width=25) (actual time=12.406..13.307 rows=323 loops=1)\r\n",
      "   Hash Cond: ((halloffame.playerid)::text = (p.playerid)::text)\r\n",
      "   ->  Seq Scan on halloffame  (cost=0.00..96.39 rows=323 width=13) (actual time=0.026..0.752 rows=323 loops=1)\r\n",
      "         Filter: ((inducted)::text = 'Y'::text)\r\n",
      "         Rows Removed by Filter: 3868\r\n",
      "   ->  Hash  (cost=619.70..619.70 rows=19370 width=21) (actual time=12.137..12.139 rows=19370 loops=1)\r\n",
      "         Buckets: 32768  Batches: 1  Memory Usage: 1293kB\r\n",
      "         ->  Seq Scan on people p  (cost=0.00..619.70 rows=19370 width=21) (actual time=0.011..5.912 rows=19370 loops=1)\r\n",
      " Planning Time: 2.045 ms\r\n",
      " Execution Time: 13.433 ms\r\n",
      "(10 rows)\r\n",
      "\r\n"
     ]
    }
   ],
   "source": [
    "provided_query_str = \"SELECT namefirst, namelast, p.playerid, yearid FROM people AS p, (SELECT * FROM halloffame WHERE inducted = 'Y') AS hof WHERE hof.inducted = 'Y' AND p.playerid = hof.playerid;\"\n",
    "!psql -h localhost -d baseball -c \"explain analyze $provided_query_str\""
   ]
  },
  {
   "cell_type": "code",
   "execution_count": 16,
   "metadata": {},
   "outputs": [
    {
     "name": "stdout",
     "output_type": "stream",
     "text": [
      "                                                       QUERY PLAN                                                        \r\n",
      "-------------------------------------------------------------------------------------------------------------------------\r\n",
      " Hash Join  (cost=861.83..959.06 rows=323 width=25) (actual time=11.510..12.276 rows=323 loops=1)\r\n",
      "   Hash Cond: ((a.playerid)::text = (b.playerid)::text)\r\n",
      "   ->  Seq Scan on halloffame a  (cost=0.00..96.39 rows=323 width=13) (actual time=0.029..0.647 rows=323 loops=1)\r\n",
      "         Filter: ((inducted)::text = 'Y'::text)\r\n",
      "         Rows Removed by Filter: 3868\r\n",
      "   ->  Hash  (cost=619.70..619.70 rows=19370 width=21) (actual time=11.209..11.210 rows=19370 loops=1)\r\n",
      "         Buckets: 32768  Batches: 1  Memory Usage: 1293kB\r\n",
      "         ->  Seq Scan on people b  (cost=0.00..619.70 rows=19370 width=21) (actual time=0.014..5.689 rows=19370 loops=1)\r\n",
      " Planning Time: 1.211 ms\r\n",
      " Execution Time: 12.427 ms\r\n",
      "(10 rows)\r\n",
      "\r\n"
     ]
    }
   ],
   "source": [
    "inducted_hof_query_str = \"SELECT namefirst,namelast, a.playerid, yearid FROM halloffame AS a, people AS b WHERE a.playerid = b.playerid AND a.inducted = 'Y';\"\n",
    "!psql -h localhost -d baseball -c \"explain analyze $inducted_hof_query_str\""
   ]
  },
  {
   "cell_type": "code",
   "execution_count": 23,
   "metadata": {},
   "outputs": [],
   "source": [
    "provided_query_cost = 959.06\n",
    "provided_query_timing = 13.433\n",
    "your_query_cost = 959.06\n",
    "your_query_timing = 12.427"
   ]
  },
  {
   "cell_type": "code",
   "execution_count": 24,
   "metadata": {
    "deletable": false,
    "editable": false
   },
   "outputs": [
    {
     "data": {
      "text/html": [
       "<p><strong><pre style='display: inline;'>q1bi</pre></strong> passed!</p>"
      ],
      "text/plain": [
       "q1bi results: All test cases passed!"
      ]
     },
     "execution_count": 24,
     "metadata": {},
     "output_type": "execute_result"
    }
   ],
   "source": [
    "grader.check(\"q1bi\")"
   ]
  },
  {
   "cell_type": "markdown",
   "metadata": {
    "deletable": false,
    "editable": false
   },
   "source": [
    "#### Question 1bii:\n",
    "Given your findings from inspecting the query plans of the two queries, answer the following question. Assign the variable `q1b_part2` to a list of answer choices which are true statements.\n",
    "\n",
    "1. Consider the following statements:\n",
    "    1. Both the queries have the same cost.\n",
    "    1. The provided query has a faster execution time because it makes use of a subquery.\n",
    "    1. The query you wrote has a faster execution time because it does not make use a subquery.\n",
    "    1. The provided query has less cost because it makes use of a subquery.\n",
    "    1. The query you wrote has less cost because it does not make use a subquery.\n",
    "    1. The queries have the same output.\n",
    "    1. The queries do not have the same output.\n",
    "    \n",
    "**Note:** Your answer should look like `q1b_part2 = ['A', 'B']`\n",
    "\n",
    "<!--\n",
    "BEGIN QUESTION\n",
    "name: q1bii\n",
    "points: 2\n",
    "-->"
   ]
  },
  {
   "cell_type": "code",
   "execution_count": 25,
   "metadata": {},
   "outputs": [],
   "source": [
    "q1b_part2 = ['A', 'C', 'F']"
   ]
  },
  {
   "cell_type": "code",
   "execution_count": 26,
   "metadata": {
    "deletable": false,
    "editable": false
   },
   "outputs": [
    {
     "data": {
      "text/html": [
       "<p><strong><pre style='display: inline;'>q1bii</pre></strong> passed!</p>"
      ],
      "text/plain": [
       "q1bii results: All test cases passed!"
      ]
     },
     "execution_count": 26,
     "metadata": {},
     "output_type": "execute_result"
    }
   ],
   "source": [
    "grader.check(\"q1bii\")"
   ]
  },
  {
   "cell_type": "markdown",
   "metadata": {},
   "source": [
    "### Question 1c:\n",
    "Write a query that creates a view named `inducted_hof_ca` of the people who were successfully inducted into the Hall of Fame and played in college at a school located in California. For each player, return their `namefirst`, `namelast`, `playerid`, `schoolid`, and `yearid` ordered by the `yearid` and then the `playerid`. \n",
    "\n",
    "**Note**: For this query, `yearid` refers to player's year of induction into the Hall of Fame."
   ]
  },
  {
   "cell_type": "code",
   "execution_count": 27,
   "metadata": {},
   "outputs": [
    {
     "name": "stdout",
     "output_type": "stream",
     "text": [
      " * postgresql://jovyan@127.0.0.1:5432/baseball\n",
      "   postgresql://jovyan@127.0.0.1:5432/postgres\n",
      "Done.\n",
      "Done.\n",
      "23 rows affected.\n",
      "Returning data to local variable result_1c\n"
     ]
    }
   ],
   "source": [
    "%%sql result_1c <<\n",
    "DROP VIEW IF EXISTS inducted_hof_ca;\n",
    "CREATE VIEW inducted_hof_ca AS\n",
    "SELECT people.namefirst, people.namelast, halloffame.playerid, schools.schoolid, halloffame.yearid\n",
    "FROM halloffame \n",
    "JOIN people ON halloffame.playerid = people.playerid\n",
    "JOIN collegeplaying ON halloffame.playerid = collegeplaying.playerid\n",
    "JOIN schools ON schools.schoolid = collegeplaying.schoolid\n",
    "WHERE halloffame.inducted = 'Y' AND schools.schoolstate = 'CA'\n",
    "ORDER BY halloffame.yearid, people.playerid;\n",
    "\n",
    "\n",
    "SELECT * FROM inducted_hof_ca;"
   ]
  },
  {
   "cell_type": "code",
   "execution_count": 36,
   "metadata": {},
   "outputs": [
    {
     "data": {
      "text/html": [
       "<table>\n",
       "    <tr>\n",
       "        <th>namefirst</th>\n",
       "        <th>namelast</th>\n",
       "        <th>playerid</th>\n",
       "        <th>schoolid</th>\n",
       "        <th>yearid</th>\n",
       "    </tr>\n",
       "    <tr>\n",
       "        <td>Jackie</td>\n",
       "        <td>Robinson</td>\n",
       "        <td>robinja02</td>\n",
       "        <td>ucla</td>\n",
       "        <td>1962</td>\n",
       "    </tr>\n",
       "    <tr>\n",
       "        <td>Harry</td>\n",
       "        <td>Hooper</td>\n",
       "        <td>hoopeha01</td>\n",
       "        <td>stmarysca</td>\n",
       "        <td>1971</td>\n",
       "    </tr>\n",
       "    <tr>\n",
       "        <td>Joe</td>\n",
       "        <td>Morgan</td>\n",
       "        <td>morgajo02</td>\n",
       "        <td>camerri</td>\n",
       "        <td>1990</td>\n",
       "    </tr>\n",
       "    <tr>\n",
       "        <td>Tom</td>\n",
       "        <td>Seaver</td>\n",
       "        <td>seaveto01</td>\n",
       "        <td>usc</td>\n",
       "        <td>1992</td>\n",
       "    </tr>\n",
       "    <tr>\n",
       "        <td>Tom</td>\n",
       "        <td>Seaver</td>\n",
       "        <td>seaveto01</td>\n",
       "        <td>cafrecc</td>\n",
       "        <td>1992</td>\n",
       "    </tr>\n",
       "    <tr>\n",
       "        <td>Ozzie</td>\n",
       "        <td>Smith</td>\n",
       "        <td>smithoz01</td>\n",
       "        <td>calpoly</td>\n",
       "        <td>2002</td>\n",
       "    </tr>\n",
       "    <tr>\n",
       "        <td>Ozzie</td>\n",
       "        <td>Smith</td>\n",
       "        <td>smithoz01</td>\n",
       "        <td>calpoly</td>\n",
       "        <td>2002</td>\n",
       "    </tr>\n",
       "    <tr>\n",
       "        <td>Ozzie</td>\n",
       "        <td>Smith</td>\n",
       "        <td>smithoz01</td>\n",
       "        <td>calpoly</td>\n",
       "        <td>2002</td>\n",
       "    </tr>\n",
       "    <tr>\n",
       "        <td>Ozzie</td>\n",
       "        <td>Smith</td>\n",
       "        <td>smithoz01</td>\n",
       "        <td>calpoly</td>\n",
       "        <td>2002</td>\n",
       "    </tr>\n",
       "    <tr>\n",
       "        <td>Tony</td>\n",
       "        <td>Gwynn</td>\n",
       "        <td>gwynnto01</td>\n",
       "        <td>sandiegost</td>\n",
       "        <td>2007</td>\n",
       "    </tr>\n",
       "    <tr>\n",
       "        <td>Tony</td>\n",
       "        <td>Gwynn</td>\n",
       "        <td>gwynnto01</td>\n",
       "        <td>sandiegost</td>\n",
       "        <td>2007</td>\n",
       "    </tr>\n",
       "    <tr>\n",
       "        <td>Tony</td>\n",
       "        <td>Gwynn</td>\n",
       "        <td>gwynnto01</td>\n",
       "        <td>sandiegost</td>\n",
       "        <td>2007</td>\n",
       "    </tr>\n",
       "    <tr>\n",
       "        <td>Dick</td>\n",
       "        <td>Williams</td>\n",
       "        <td>willidi02</td>\n",
       "        <td>capasad</td>\n",
       "        <td>2008</td>\n",
       "    </tr>\n",
       "    <tr>\n",
       "        <td>Doug</td>\n",
       "        <td>Harvey</td>\n",
       "        <td>harvedo99</td>\n",
       "        <td>sandiegost</td>\n",
       "        <td>2010</td>\n",
       "    </tr>\n",
       "    <tr>\n",
       "        <td>Doug</td>\n",
       "        <td>Harvey</td>\n",
       "        <td>harvedo99</td>\n",
       "        <td>sandiegost</td>\n",
       "        <td>2010</td>\n",
       "    </tr>\n",
       "    <tr>\n",
       "        <td>Pat</td>\n",
       "        <td>Gillick</td>\n",
       "        <td>gillipa99</td>\n",
       "        <td>usc</td>\n",
       "        <td>2011</td>\n",
       "    </tr>\n",
       "    <tr>\n",
       "        <td>Pat</td>\n",
       "        <td>Gillick</td>\n",
       "        <td>gillipa99</td>\n",
       "        <td>usc</td>\n",
       "        <td>2011</td>\n",
       "    </tr>\n",
       "    <tr>\n",
       "        <td>Pat</td>\n",
       "        <td>Gillick</td>\n",
       "        <td>gillipa99</td>\n",
       "        <td>calavco</td>\n",
       "        <td>2011</td>\n",
       "    </tr>\n",
       "    <tr>\n",
       "        <td>Randy</td>\n",
       "        <td>Johnson</td>\n",
       "        <td>johnsra05</td>\n",
       "        <td>usc</td>\n",
       "        <td>2015</td>\n",
       "    </tr>\n",
       "    <tr>\n",
       "        <td>Randy</td>\n",
       "        <td>Johnson</td>\n",
       "        <td>johnsra05</td>\n",
       "        <td>usc</td>\n",
       "        <td>2015</td>\n",
       "    </tr>\n",
       "    <tr>\n",
       "        <td>Randy</td>\n",
       "        <td>Johnson</td>\n",
       "        <td>johnsra05</td>\n",
       "        <td>usc</td>\n",
       "        <td>2015</td>\n",
       "    </tr>\n",
       "    <tr>\n",
       "        <td>Trevor</td>\n",
       "        <td>Hoffman</td>\n",
       "        <td>hoffmtr01</td>\n",
       "        <td>cacypre</td>\n",
       "        <td>2018</td>\n",
       "    </tr>\n",
       "    <tr>\n",
       "        <td>Trevor</td>\n",
       "        <td>Hoffman</td>\n",
       "        <td>hoffmtr01</td>\n",
       "        <td>cacypre</td>\n",
       "        <td>2018</td>\n",
       "    </tr>\n",
       "</table>"
      ],
      "text/plain": [
       "[('Jackie', 'Robinson', 'robinja02', 'ucla', 1962),\n",
       " ('Harry', 'Hooper', 'hoopeha01', 'stmarysca', 1971),\n",
       " ('Joe', 'Morgan', 'morgajo02', 'camerri', 1990),\n",
       " ('Tom', 'Seaver', 'seaveto01', 'usc', 1992),\n",
       " ('Tom', 'Seaver', 'seaveto01', 'cafrecc', 1992),\n",
       " ('Ozzie', 'Smith', 'smithoz01', 'calpoly', 2002),\n",
       " ('Ozzie', 'Smith', 'smithoz01', 'calpoly', 2002),\n",
       " ('Ozzie', 'Smith', 'smithoz01', 'calpoly', 2002),\n",
       " ('Ozzie', 'Smith', 'smithoz01', 'calpoly', 2002),\n",
       " ('Tony', 'Gwynn', 'gwynnto01', 'sandiegost', 2007),\n",
       " ('Tony', 'Gwynn', 'gwynnto01', 'sandiegost', 2007),\n",
       " ('Tony', 'Gwynn', 'gwynnto01', 'sandiegost', 2007),\n",
       " ('Dick', 'Williams', 'willidi02', 'capasad', 2008),\n",
       " ('Doug', 'Harvey', 'harvedo99', 'sandiegost', 2010),\n",
       " ('Doug', 'Harvey', 'harvedo99', 'sandiegost', 2010),\n",
       " ('Pat', 'Gillick', 'gillipa99', 'usc', 2011),\n",
       " ('Pat', 'Gillick', 'gillipa99', 'usc', 2011),\n",
       " ('Pat', 'Gillick', 'gillipa99', 'calavco', 2011),\n",
       " ('Randy', 'Johnson', 'johnsra05', 'usc', 2015),\n",
       " ('Randy', 'Johnson', 'johnsra05', 'usc', 2015),\n",
       " ('Randy', 'Johnson', 'johnsra05', 'usc', 2015),\n",
       " ('Trevor', 'Hoffman', 'hoffmtr01', 'cacypre', 2018),\n",
       " ('Trevor', 'Hoffman', 'hoffmtr01', 'cacypre', 2018)]"
      ]
     },
     "execution_count": 36,
     "metadata": {},
     "output_type": "execute_result"
    }
   ],
   "source": [
    "result_1c"
   ]
  },
  {
   "cell_type": "code",
   "execution_count": 28,
   "metadata": {},
   "outputs": [],
   "source": [
    "# Do not delete/edit this cell\n",
    "result_1c.DataFrame().sort_values(['playerid', 'schoolid', 'yearid']).to_csv('results/result_1c.csv', index=False)"
   ]
  },
  {
   "cell_type": "code",
   "execution_count": 29,
   "metadata": {
    "deletable": false,
    "editable": false
   },
   "outputs": [
    {
     "data": {
      "text/html": [
       "<p><strong><pre style='display: inline;'>q1c</pre></strong> passed!</p>"
      ],
      "text/plain": [
       "q1c results: All test cases passed!"
      ]
     },
     "execution_count": 29,
     "metadata": {},
     "output_type": "execute_result"
    }
   ],
   "source": [
    "grader.check(\"q1c\")"
   ]
  },
  {
   "cell_type": "markdown",
   "metadata": {},
   "source": [
    "### Question 1d:\n",
    "For this question, we want to compute the count of players who were inducted into the Hall of Fame and played baseball at a college in California for each `schoolid` and `yearid` combination ordered by ascending `yearid`.\n",
    "\n",
    "#### Question 1di:\n",
    "Write two queries that accomplish this task -- one query using the view you created in the `Question 1c` and one query that does not use the view, common table expressions (CTEs), or any sub-queries."
   ]
  },
  {
   "cell_type": "code",
   "execution_count": 30,
   "metadata": {},
   "outputs": [
    {
     "name": "stdout",
     "output_type": "stream",
     "text": [
      " * postgresql://jovyan@127.0.0.1:5432/baseball\n",
      "   postgresql://jovyan@127.0.0.1:5432/postgres\n",
      "13 rows affected.\n",
      "Returning data to local variable with_view\n"
     ]
    }
   ],
   "source": [
    "%%sql with_view <<\n",
    "SELECT schoolid, yearid, COUNT(*)\n",
    "FROM inducted_hof_ca\n",
    "GROUP BY schoolid, yearid\n",
    "ORDER BY yearid"
   ]
  },
  {
   "cell_type": "code",
   "execution_count": 40,
   "metadata": {},
   "outputs": [
    {
     "data": {
      "text/html": [
       "<table>\n",
       "    <tr>\n",
       "        <th>schoolid</th>\n",
       "        <th>yearid</th>\n",
       "        <th>count</th>\n",
       "    </tr>\n",
       "    <tr>\n",
       "        <td>ucla</td>\n",
       "        <td>1962</td>\n",
       "        <td>1</td>\n",
       "    </tr>\n",
       "    <tr>\n",
       "        <td>stmarysca</td>\n",
       "        <td>1971</td>\n",
       "        <td>1</td>\n",
       "    </tr>\n",
       "    <tr>\n",
       "        <td>camerri</td>\n",
       "        <td>1990</td>\n",
       "        <td>1</td>\n",
       "    </tr>\n",
       "    <tr>\n",
       "        <td>cafrecc</td>\n",
       "        <td>1992</td>\n",
       "        <td>1</td>\n",
       "    </tr>\n",
       "    <tr>\n",
       "        <td>usc</td>\n",
       "        <td>1992</td>\n",
       "        <td>1</td>\n",
       "    </tr>\n",
       "    <tr>\n",
       "        <td>calpoly</td>\n",
       "        <td>2002</td>\n",
       "        <td>4</td>\n",
       "    </tr>\n",
       "    <tr>\n",
       "        <td>sandiegost</td>\n",
       "        <td>2007</td>\n",
       "        <td>3</td>\n",
       "    </tr>\n",
       "    <tr>\n",
       "        <td>capasad</td>\n",
       "        <td>2008</td>\n",
       "        <td>1</td>\n",
       "    </tr>\n",
       "    <tr>\n",
       "        <td>sandiegost</td>\n",
       "        <td>2010</td>\n",
       "        <td>2</td>\n",
       "    </tr>\n",
       "    <tr>\n",
       "        <td>calavco</td>\n",
       "        <td>2011</td>\n",
       "        <td>1</td>\n",
       "    </tr>\n",
       "    <tr>\n",
       "        <td>usc</td>\n",
       "        <td>2011</td>\n",
       "        <td>2</td>\n",
       "    </tr>\n",
       "    <tr>\n",
       "        <td>usc</td>\n",
       "        <td>2015</td>\n",
       "        <td>3</td>\n",
       "    </tr>\n",
       "    <tr>\n",
       "        <td>cacypre</td>\n",
       "        <td>2018</td>\n",
       "        <td>2</td>\n",
       "    </tr>\n",
       "</table>"
      ],
      "text/plain": [
       "[('ucla', 1962, 1),\n",
       " ('stmarysca', 1971, 1),\n",
       " ('camerri', 1990, 1),\n",
       " ('cafrecc', 1992, 1),\n",
       " ('usc', 1992, 1),\n",
       " ('calpoly', 2002, 4),\n",
       " ('sandiegost', 2007, 3),\n",
       " ('capasad', 2008, 1),\n",
       " ('sandiegost', 2010, 2),\n",
       " ('calavco', 2011, 1),\n",
       " ('usc', 2011, 2),\n",
       " ('usc', 2015, 3),\n",
       " ('cacypre', 2018, 2)]"
      ]
     },
     "execution_count": 40,
     "metadata": {},
     "output_type": "execute_result"
    }
   ],
   "source": [
    "with_view"
   ]
  },
  {
   "cell_type": "code",
   "execution_count": 31,
   "metadata": {},
   "outputs": [
    {
     "name": "stdout",
     "output_type": "stream",
     "text": [
      " * postgresql://jovyan@127.0.0.1:5432/baseball\n",
      "   postgresql://jovyan@127.0.0.1:5432/postgres\n",
      "13 rows affected.\n",
      "Returning data to local variable without_view\n"
     ]
    }
   ],
   "source": [
    "%%sql without_view <<\n",
    "SELECT d.schoolid, a.yearid, COUNT(*)\n",
    "FROM halloffame AS a, people AS b, schools AS c, collegeplaying AS d \n",
    "WHERE a.playerid = b.playerid AND a.playerid = d.playerid AND c.schoolid = d.schoolid\n",
    "AND a.inducted = 'Y' AND c.schoolstate = 'CA'\n",
    "GROUP BY d.schoolid, a.yearid\n",
    "ORDER BY a.yearid;"
   ]
  },
  {
   "cell_type": "code",
   "execution_count": 42,
   "metadata": {},
   "outputs": [
    {
     "data": {
      "text/html": [
       "<table>\n",
       "    <tr>\n",
       "        <th>schoolid</th>\n",
       "        <th>yearid</th>\n",
       "        <th>count</th>\n",
       "    </tr>\n",
       "    <tr>\n",
       "        <td>ucla</td>\n",
       "        <td>1962</td>\n",
       "        <td>1</td>\n",
       "    </tr>\n",
       "    <tr>\n",
       "        <td>stmarysca</td>\n",
       "        <td>1971</td>\n",
       "        <td>1</td>\n",
       "    </tr>\n",
       "    <tr>\n",
       "        <td>camerri</td>\n",
       "        <td>1990</td>\n",
       "        <td>1</td>\n",
       "    </tr>\n",
       "    <tr>\n",
       "        <td>cafrecc</td>\n",
       "        <td>1992</td>\n",
       "        <td>1</td>\n",
       "    </tr>\n",
       "    <tr>\n",
       "        <td>usc</td>\n",
       "        <td>1992</td>\n",
       "        <td>1</td>\n",
       "    </tr>\n",
       "    <tr>\n",
       "        <td>calpoly</td>\n",
       "        <td>2002</td>\n",
       "        <td>4</td>\n",
       "    </tr>\n",
       "    <tr>\n",
       "        <td>sandiegost</td>\n",
       "        <td>2007</td>\n",
       "        <td>3</td>\n",
       "    </tr>\n",
       "    <tr>\n",
       "        <td>capasad</td>\n",
       "        <td>2008</td>\n",
       "        <td>1</td>\n",
       "    </tr>\n",
       "    <tr>\n",
       "        <td>sandiegost</td>\n",
       "        <td>2010</td>\n",
       "        <td>2</td>\n",
       "    </tr>\n",
       "    <tr>\n",
       "        <td>calavco</td>\n",
       "        <td>2011</td>\n",
       "        <td>1</td>\n",
       "    </tr>\n",
       "    <tr>\n",
       "        <td>usc</td>\n",
       "        <td>2011</td>\n",
       "        <td>2</td>\n",
       "    </tr>\n",
       "    <tr>\n",
       "        <td>usc</td>\n",
       "        <td>2015</td>\n",
       "        <td>3</td>\n",
       "    </tr>\n",
       "    <tr>\n",
       "        <td>cacypre</td>\n",
       "        <td>2018</td>\n",
       "        <td>2</td>\n",
       "    </tr>\n",
       "</table>"
      ],
      "text/plain": [
       "[('ucla', 1962, 1),\n",
       " ('stmarysca', 1971, 1),\n",
       " ('camerri', 1990, 1),\n",
       " ('cafrecc', 1992, 1),\n",
       " ('usc', 1992, 1),\n",
       " ('calpoly', 2002, 4),\n",
       " ('sandiegost', 2007, 3),\n",
       " ('capasad', 2008, 1),\n",
       " ('sandiegost', 2010, 2),\n",
       " ('calavco', 2011, 1),\n",
       " ('usc', 2011, 2),\n",
       " ('usc', 2015, 3),\n",
       " ('cacypre', 2018, 2)]"
      ]
     },
     "execution_count": 42,
     "metadata": {},
     "output_type": "execute_result"
    }
   ],
   "source": [
    "without_view"
   ]
  },
  {
   "cell_type": "code",
   "execution_count": 32,
   "metadata": {},
   "outputs": [],
   "source": [
    "# Do not delete/edit this cell\n",
    "with_view.DataFrame().sort_values(['schoolid', 'yearid']).to_csv('results/result_1di_view.csv', index=False)\n",
    "without_view.DataFrame().sort_values(['schoolid', 'yearid']).to_csv('results/result_1di_no_view.csv', index=False)"
   ]
  },
  {
   "cell_type": "code",
   "execution_count": 33,
   "metadata": {
    "deletable": false,
    "editable": false
   },
   "outputs": [
    {
     "data": {
      "text/html": [
       "<p><strong><pre style='display: inline;'>q1di</pre></strong> passed!</p>"
      ],
      "text/plain": [
       "q1di results: All test cases passed!"
      ]
     },
     "execution_count": 33,
     "metadata": {},
     "output_type": "execute_result"
    }
   ],
   "source": [
    "grader.check(\"q1di\")"
   ]
  },
  {
   "cell_type": "markdown",
   "metadata": {},
   "source": [
    "#### Question 1dii:\n",
    "Fill in your queries from `Question 1di` and inspect the query plans for the two queries. Record the execution time and cost for each query."
   ]
  },
  {
   "cell_type": "code",
   "execution_count": 45,
   "metadata": {},
   "outputs": [
    {
     "name": "stdout",
     "output_type": "stream",
     "text": [
      "                                                                            QUERY PLAN                                                                             \r\n",
      "-------------------------------------------------------------------------------------------------------------------------------------------------------------------\r\n",
      " GroupAggregate  (cost=525.47..527.39 rows=96 width=20) (actual time=6.293..6.307 rows=13 loops=1)\r\n",
      "   Group Key: inducted_hof_ca.yearid, inducted_hof_ca.schoolid\r\n",
      "   ->  Sort  (cost=525.47..525.71 rows=96 width=12) (actual time=6.285..6.291 rows=23 loops=1)\r\n",
      "         Sort Key: inducted_hof_ca.yearid, inducted_hof_ca.schoolid\r\n",
      "         Sort Method: quicksort  Memory: 26kB\r\n",
      "         ->  Subquery Scan on inducted_hof_ca  (cost=521.11..522.31 rows=96 width=12) (actual time=6.230..6.240 rows=23 loops=1)\r\n",
      "               ->  Sort  (cost=521.11..521.35 rows=96 width=295) (actual time=6.228..6.234 rows=23 loops=1)\r\n",
      "                     Sort Key: halloffame.yearid, people.playerid\r\n",
      "                     Sort Method: quicksort  Memory: 26kB\r\n",
      "                     ->  Nested Loop  (cost=386.71..517.95 rows=96 width=295) (actual time=5.744..6.209 rows=23 loops=1)\r\n",
      "                           Join Filter: ((halloffame.playerid)::text = (people.playerid)::text)\r\n",
      "                           ->  Hash Join  (cost=386.42..485.79 rows=96 width=30) (actual time=5.703..6.072 rows=23 loops=1)\r\n",
      "                                 Hash Cond: ((halloffame.playerid)::text = (collegeplaying.playerid)::text)\r\n",
      "                                 ->  Seq Scan on halloffame  (cost=0.00..96.39 rows=323 width=13) (actual time=0.034..0.670 rows=323 loops=1)\r\n",
      "                                       Filter: ((inducted)::text = 'Y'::text)\r\n",
      "                                       Rows Removed by Filter: 3868\r\n",
      "                                 ->  Hash  (cost=361.99..361.99 rows=1955 width=17) (actual time=5.327..5.330 rows=2948 loops=1)\r\n",
      "                                       Buckets: 4096 (originally 2048)  Batches: 1 (originally 1)  Memory Usage: 178kB\r\n",
      "                                       ->  Hash Join  (cost=29.79..361.99 rows=1955 width=17) (actual time=0.244..4.460 rows=2948 loops=1)\r\n",
      "                                             Hash Cond: ((collegeplaying.schoolid)::text = (schools.schoolid)::text)\r\n",
      "                                             ->  Seq Scan on collegeplaying  (cost=0.00..286.50 rows=17350 width=17) (actual time=0.018..1.519 rows=17350 loops=1)\r\n",
      "                                             ->  Hash  (cost=28.09..28.09 rows=136 width=8) (actual time=0.194..0.195 rows=136 loops=1)\r\n",
      "                                                   Buckets: 1024  Batches: 1  Memory Usage: 14kB\r\n",
      "                                                   ->  Seq Scan on schools  (cost=0.00..28.09 rows=136 width=8) (actual time=0.013..0.162 rows=136 loops=1)\r\n",
      "                                                         Filter: ((schoolstate)::text = 'CA'::text)\r\n",
      "                                                         Rows Removed by Filter: 1071\r\n",
      "                           ->  Index Only Scan using master_pkey on people  (cost=0.29..0.32 rows=1 width=9) (actual time=0.005..0.005 rows=1 loops=23)\r\n",
      "                                 Index Cond: (playerid = (collegeplaying.playerid)::text)\r\n",
      "                                 Heap Fetches: 0\r\n",
      " Planning Time: 3.033 ms\r\n",
      " Execution Time: 6.534 ms\r\n",
      "(31 rows)\r\n",
      "\r\n"
     ]
    }
   ],
   "source": [
    "with_view_query_str = \"SELECT schoolid, yearid, COUNT(*) FROM inducted_hof_ca GROUP BY schoolid, yearid ORDER BY yearid\"\n",
    "!psql -h localhost -d baseball -c \"explain analyze $with_view_query_str\""
   ]
  },
  {
   "cell_type": "code",
   "execution_count": 46,
   "metadata": {},
   "outputs": [
    {
     "name": "stdout",
     "output_type": "stream",
     "text": [
      "                                                                       QUERY PLAN                                                                        \r\n",
      "---------------------------------------------------------------------------------------------------------------------------------------------------------\r\n",
      " GroupAggregate  (cost=521.11..523.03 rows=96 width=20) (actual time=5.793..5.807 rows=13 loops=1)\r\n",
      "   Group Key: a.yearid, d.schoolid\r\n",
      "   ->  Sort  (cost=521.11..521.35 rows=96 width=12) (actual time=5.786..5.791 rows=23 loops=1)\r\n",
      "         Sort Key: a.yearid, d.schoolid\r\n",
      "         Sort Method: quicksort  Memory: 26kB\r\n",
      "         ->  Nested Loop  (cost=386.71..517.95 rows=96 width=12) (actual time=5.262..5.729 rows=23 loops=1)\r\n",
      "               Join Filter: ((a.playerid)::text = (b.playerid)::text)\r\n",
      "               ->  Hash Join  (cost=386.42..485.79 rows=96 width=30) (actual time=5.226..5.600 rows=23 loops=1)\r\n",
      "                     Hash Cond: ((a.playerid)::text = (d.playerid)::text)\r\n",
      "                     ->  Seq Scan on halloffame a  (cost=0.00..96.39 rows=323 width=13) (actual time=0.021..0.623 rows=323 loops=1)\r\n",
      "                           Filter: ((inducted)::text = 'Y'::text)\r\n",
      "                           Rows Removed by Filter: 3868\r\n",
      "                     ->  Hash  (cost=361.99..361.99 rows=1955 width=17) (actual time=4.910..4.912 rows=2948 loops=1)\r\n",
      "                           Buckets: 4096 (originally 2048)  Batches: 1 (originally 1)  Memory Usage: 178kB\r\n",
      "                           ->  Hash Join  (cost=29.79..361.99 rows=1955 width=17) (actual time=0.230..4.112 rows=2948 loops=1)\r\n",
      "                                 Hash Cond: ((d.schoolid)::text = (c.schoolid)::text)\r\n",
      "                                 ->  Seq Scan on collegeplaying d  (cost=0.00..286.50 rows=17350 width=17) (actual time=0.015..1.402 rows=17350 loops=1)\r\n",
      "                                 ->  Hash  (cost=28.09..28.09 rows=136 width=8) (actual time=0.193..0.194 rows=136 loops=1)\r\n",
      "                                       Buckets: 1024  Batches: 1  Memory Usage: 14kB\r\n",
      "                                       ->  Seq Scan on schools c  (cost=0.00..28.09 rows=136 width=8) (actual time=0.013..0.162 rows=136 loops=1)\r\n",
      "                                             Filter: ((schoolstate)::text = 'CA'::text)\r\n",
      "                                             Rows Removed by Filter: 1071\r\n",
      "               ->  Index Only Scan using master_pkey on people b  (cost=0.29..0.32 rows=1 width=9) (actual time=0.005..0.005 rows=1 loops=23)\r\n",
      "                     Index Cond: (playerid = (d.playerid)::text)\r\n",
      "                     Heap Fetches: 0\r\n",
      " Planning Time: 2.761 ms\r\n",
      " Execution Time: 6.007 ms\r\n",
      "(27 rows)\r\n",
      "\r\n"
     ]
    }
   ],
   "source": [
    "without_view_query_str = \"SELECT d.schoolid, a.yearid, COUNT(*) FROM halloffame AS a, people AS b, schools AS c, collegeplaying AS d WHERE a.playerid = b.playerid AND a.playerid = d.playerid AND c.schoolid = d.schoolid AND a.inducted = 'Y' AND c.schoolstate = 'CA' GROUP BY d.schoolid, a.yearid ORDER BY yearid;\"\n",
    "!psql -h localhost -d baseball -c\"explain analyze $without_view_query_str\""
   ]
  },
  {
   "cell_type": "code",
   "execution_count": 34,
   "metadata": {},
   "outputs": [],
   "source": [
    "with_view_cost = 527.39\n",
    "with_view_timing = 6.534\n",
    "without_view_cost = 523.03\n",
    "without_view_timing = 6.007"
   ]
  },
  {
   "cell_type": "code",
   "execution_count": 35,
   "metadata": {
    "deletable": false,
    "editable": false
   },
   "outputs": [
    {
     "data": {
      "text/html": [
       "<p><strong><pre style='display: inline;'>q1dii</pre></strong> passed!</p>"
      ],
      "text/plain": [
       "q1dii results: All test cases passed!"
      ]
     },
     "execution_count": 35,
     "metadata": {},
     "output_type": "execute_result"
    }
   ],
   "source": [
    "grader.check(\"q1dii\")"
   ]
  },
  {
   "cell_type": "markdown",
   "metadata": {},
   "source": [
    "### Question 1e:\n",
    "#### Question 1ei:\n",
    "Now, let's try creating a materialized view named `inducted_hof_ca_mat` instead of the regular view from `Question 1c`."
   ]
  },
  {
   "cell_type": "code",
   "execution_count": 36,
   "metadata": {},
   "outputs": [
    {
     "name": "stdout",
     "output_type": "stream",
     "text": [
      " * postgresql://jovyan@127.0.0.1:5432/baseball\n",
      "   postgresql://jovyan@127.0.0.1:5432/postgres\n",
      "Done.\n",
      "23 rows affected.\n",
      "23 rows affected.\n",
      "Returning data to local variable inducted_hof_ca_materialized\n"
     ]
    }
   ],
   "source": [
    "%%sql inducted_hof_ca_materialized <<\n",
    "DROP MATERIALIZED VIEW IF EXISTS inducted_hof_ca_mat;\n",
    "CREATE MATERIALIZED VIEW inducted_hof_ca_mat AS\n",
    "SELECT namefirst, namelast, a.playerid, d.schoolid, a.yearid\n",
    "FROM halloffame AS a, people AS b, schools AS c, collegeplaying AS d \n",
    "WHERE a.playerid = b.playerid AND a.playerid = d.playerid AND c.schoolid = d.schoolid \n",
    "AND a.inducted = 'Y' AND c.schoolstate = 'CA'\n",
    "ORDER BY a.yearid, b.playerid;\n",
    "\n",
    "SELECT * FROM inducted_hof_ca_mat;"
   ]
  },
  {
   "cell_type": "code",
   "execution_count": 37,
   "metadata": {},
   "outputs": [],
   "source": [
    "# Do not delete/edit this cell\n",
    "inducted_hof_ca_materialized.DataFrame().sort_values(['playerid', 'schoolid', 'yearid']).to_csv('results/result_1ei.csv', index=False)"
   ]
  },
  {
   "cell_type": "code",
   "execution_count": 38,
   "metadata": {
    "deletable": false,
    "editable": false
   },
   "outputs": [
    {
     "data": {
      "text/html": [
       "<p><strong><pre style='display: inline;'>q1ei</pre></strong> passed!</p>"
      ],
      "text/plain": [
       "q1ei results: All test cases passed!"
      ]
     },
     "execution_count": 38,
     "metadata": {},
     "output_type": "execute_result"
    }
   ],
   "source": [
    "grader.check(\"q1ei\")"
   ]
  },
  {
   "cell_type": "markdown",
   "metadata": {},
   "source": [
    "#### Question 1eii:\n",
    "\n",
    "Now, rewrite the query from `Question 1d` to use the materialized view `inducted_hof_ca_mat`."
   ]
  },
  {
   "cell_type": "code",
   "execution_count": 39,
   "metadata": {},
   "outputs": [
    {
     "name": "stdout",
     "output_type": "stream",
     "text": [
      " * postgresql://jovyan@127.0.0.1:5432/baseball\n",
      "   postgresql://jovyan@127.0.0.1:5432/postgres\n",
      "13 rows affected.\n",
      "Returning data to local variable with_materialized_view\n"
     ]
    }
   ],
   "source": [
    "%%sql with_materialized_view <<\n",
    "SELECT schoolid, yearid, COUNT(*)\n",
    "FROM inducted_hof_ca_mat\n",
    "GROUP BY schoolid, yearid\n",
    "ORDER BY yearid"
   ]
  },
  {
   "cell_type": "code",
   "execution_count": 40,
   "metadata": {},
   "outputs": [],
   "source": [
    "# Do not delete/edit this cell\n",
    "with_materialized_view.DataFrame().sort_values(['schoolid', 'yearid']).to_csv('results/result_1eii.csv', index=False)"
   ]
  },
  {
   "cell_type": "code",
   "execution_count": 41,
   "metadata": {
    "deletable": false,
    "editable": false
   },
   "outputs": [
    {
     "data": {
      "text/html": [
       "<p><strong><pre style='display: inline;'>q1eii</pre></strong> passed!</p>"
      ],
      "text/plain": [
       "q1eii results: All test cases passed!"
      ]
     },
     "execution_count": 41,
     "metadata": {},
     "output_type": "execute_result"
    }
   ],
   "source": [
    "grader.check(\"q1eii\")"
   ]
  },
  {
   "cell_type": "markdown",
   "metadata": {},
   "source": [
    "#### Question 1eiii:\n",
    "Inspect the query plan and record the execution time and cost of the query that uses the materialized view."
   ]
  },
  {
   "cell_type": "code",
   "execution_count": 55,
   "metadata": {},
   "outputs": [
    {
     "name": "stdout",
     "output_type": "stream",
     "text": [
      "                                                          QUERY PLAN                                                          \r\n",
      "------------------------------------------------------------------------------------------------------------------------------\r\n",
      " Sort  (cost=23.67..24.17 rows=200 width=60) (actual time=0.071..0.073 rows=13 loops=1)\r\n",
      "   Sort Key: yearid\r\n",
      "   Sort Method: quicksort  Memory: 25kB\r\n",
      "   ->  HashAggregate  (cost=14.03..16.02 rows=200 width=60) (actual time=0.024..0.028 rows=13 loops=1)\r\n",
      "         Group Key: yearid, schoolid\r\n",
      "         Batches: 1  Memory Usage: 40kB\r\n",
      "         ->  Seq Scan on inducted_hof_ca_mat  (cost=0.00..12.30 rows=230 width=52) (actual time=0.006..0.008 rows=23 loops=1)\r\n",
      " Planning Time: 0.390 ms\r\n",
      " Execution Time: 0.212 ms\r\n",
      "(9 rows)\r\n",
      "\r\n"
     ]
    }
   ],
   "source": [
    "with_materialized_view_query_str = \"SELECT schoolid, yearid, COUNT(*) FROM inducted_hof_ca_mat GROUP BY schoolid, yearid ORDER BY yearid\"\n",
    "!psql -h localhost -d baseball -c \"explain analyze $with_materialized_view_query_str\""
   ]
  },
  {
   "cell_type": "code",
   "execution_count": 42,
   "metadata": {},
   "outputs": [],
   "source": [
    "with_materialized_view_cost = 24.17\n",
    "with_materialized_view_timing = 0.212"
   ]
  },
  {
   "cell_type": "code",
   "execution_count": 43,
   "metadata": {
    "deletable": false,
    "editable": false
   },
   "outputs": [
    {
     "data": {
      "text/html": [
       "<p><strong><pre style='display: inline;'>q1eiii</pre></strong> passed!</p>"
      ],
      "text/plain": [
       "q1eiii results: All test cases passed!"
      ]
     },
     "execution_count": 43,
     "metadata": {},
     "output_type": "execute_result"
    }
   ],
   "source": [
    "grader.check(\"q1eiii\")"
   ]
  },
  {
   "cell_type": "markdown",
   "metadata": {
    "deletable": false,
    "editable": false
   },
   "source": [
    "#### Question 1eiv:\n",
    "Given your findings from inspecting the query plans, as well as your understanding of views and materialized views from lectures, answer the following question. Assign the variable `q1e_part4` to a list of all statements which are true.\n",
    "\n",
    "1. Consider the following statements:\n",
    "    1. Views will reduce the execution time and the cost of a query.\n",
    "    1. Views will reduce the execution time of a query, but not the cost.\n",
    "    1. Views will reduce the cost of a query, but not the execution time.\n",
    "    1. Materialized views reduce the execution time and the cost of a query.\n",
    "    1. Materialized views reduce the execution time, but not cost of a query.\n",
    "    1. Materialized views reduce the cost of a query, but not the execution time.\n",
    "    1. Materialized views will result in the same query plan as a query using views.\n",
    "    1. Materialized views and views take the same time to create.\n",
    "    1. Materialized views take less time to create than a view.\n",
    "    1. Materialized views take more time to create than a view.\n",
    "    \n",
    "*Note:* Your answer should look like `q1e_part4 = ['A', 'B']`\n",
    "\n",
    "<!--\n",
    "BEGIN QUESTION\n",
    "name: q1eiv\n",
    "points: 2\n",
    "-->"
   ]
  },
  {
   "cell_type": "code",
   "execution_count": 44,
   "metadata": {},
   "outputs": [],
   "source": [
    "q1e_part4 = ['D','J']"
   ]
  },
  {
   "cell_type": "code",
   "execution_count": 45,
   "metadata": {
    "deletable": false,
    "editable": false
   },
   "outputs": [
    {
     "data": {
      "text/html": [
       "<p><strong><pre style='display: inline;'>q1eiv</pre></strong> passed!</p>"
      ],
      "text/plain": [
       "q1eiv results: All test cases passed!"
      ]
     },
     "execution_count": 45,
     "metadata": {},
     "output_type": "execute_result"
    }
   ],
   "source": [
    "grader.check(\"q1eiv\")"
   ]
  },
  {
   "cell_type": "markdown",
   "metadata": {
    "deletable": false,
    "editable": false
   },
   "source": [
    "<!-- BEGIN QUESTION -->\n",
    "\n",
    "#### Question 1ev:\n",
    "\n",
    "Explain your answer to the previous part based on your knowledge from lectures, and details from the query plans (your explanation should include why you didn't choose certain options).\n",
    "\n",
    "<!--\n",
    "BEGIN QUESTION\n",
    "name: q1ev\n",
    "manual: true\n",
    "points: 2\n",
    "-->"
   ]
  },
  {
   "cell_type": "markdown",
   "metadata": {},
   "source": [
    "In the case of virtual views, they are not saved and do not use physical memory so the cost to output all rows and the query execution time are very similar to querying the data from the tables without the view. The virtual view does not cause significant difference to execution time and cost or reduce the respective amounts. On the other hand, a materialized view results in better query performance in terms of execution time and cost signifantly reducing as the output is already stored on the disk and the data is precomputed. But when it comes to creating the actual view, materialized views take up certain storage space compared to no storage space from views so they take more time to be created than a regular view. "
   ]
  },
  {
   "cell_type": "markdown",
   "metadata": {},
   "source": [
    "<!-- END QUESTION -->\n",
    "\n",
    "\n",
    "\n",
    "## Question 2: Predicate Pushdown\n",
    "In this question, we will explore the impact of predicates on a query's execution, particularly inspecting when the optimizer applies predicates.\n",
    "\n",
    "### Question 2a:\n",
    "Recall the `inducted_hof_ca` created in `Question 1c`. Inspect the query plan for a query that that gets all rows from the view, and record the execution time and cost."
   ]
  },
  {
   "cell_type": "code",
   "execution_count": 136,
   "metadata": {},
   "outputs": [
    {
     "name": "stdout",
     "output_type": "stream",
     "text": [
      "                                                                       QUERY PLAN                                                                        \r\n",
      "---------------------------------------------------------------------------------------------------------------------------------------------------------\r\n",
      " Subquery Scan on inducted_hof_ca  (cost=530.54..531.74 rows=96 width=33) (actual time=8.539..8.550 rows=23 loops=1)\r\n",
      "   ->  Sort  (cost=530.54..530.78 rows=96 width=42) (actual time=8.537..8.542 rows=23 loops=1)\r\n",
      "         Sort Key: a.yearid, a.playerid\r\n",
      "         Sort Method: quicksort  Memory: 27kB\r\n",
      "         ->  Nested Loop  (cost=386.71..527.38 rows=96 width=42) (actual time=7.533..8.454 rows=23 loops=1)\r\n",
      "               Join Filter: ((a.playerid)::text = (b.playerid)::text)\r\n",
      "               ->  Hash Join  (cost=386.42..485.79 rows=96 width=30) (actual time=7.386..7.907 rows=23 loops=1)\r\n",
      "                     Hash Cond: ((a.playerid)::text = (d.playerid)::text)\r\n",
      "                     ->  Seq Scan on halloffame a  (cost=0.00..96.39 rows=323 width=13) (actual time=0.030..0.795 rows=323 loops=1)\r\n",
      "                           Filter: ((inducted)::text = 'Y'::text)\r\n",
      "                           Rows Removed by Filter: 3868\r\n",
      "                     ->  Hash  (cost=361.99..361.99 rows=1955 width=17) (actual time=7.019..7.021 rows=2948 loops=1)\r\n",
      "                           Buckets: 4096 (originally 2048)  Batches: 1 (originally 1)  Memory Usage: 178kB\r\n",
      "                           ->  Hash Join  (cost=29.79..361.99 rows=1955 width=17) (actual time=0.412..5.970 rows=2948 loops=1)\r\n",
      "                                 Hash Cond: ((d.schoolid)::text = (c.schoolid)::text)\r\n",
      "                                 ->  Seq Scan on collegeplaying d  (cost=0.00..286.50 rows=17350 width=17) (actual time=0.035..1.900 rows=17350 loops=1)\r\n",
      "                                 ->  Hash  (cost=28.09..28.09 rows=136 width=8) (actual time=0.336..0.337 rows=136 loops=1)\r\n",
      "                                       Buckets: 1024  Batches: 1  Memory Usage: 14kB\r\n",
      "                                       ->  Seq Scan on schools c  (cost=0.00..28.09 rows=136 width=8) (actual time=0.020..0.285 rows=136 loops=1)\r\n",
      "                                             Filter: ((schoolstate)::text = 'CA'::text)\r\n",
      "                                             Rows Removed by Filter: 1071\r\n",
      "               ->  Index Scan using master_pkey on people b  (cost=0.29..0.42 rows=1 width=21) (actual time=0.022..0.022 rows=1 loops=23)\r\n",
      "                     Index Cond: ((playerid)::text = (d.playerid)::text)\r\n",
      " Planning Time: 4.520 ms\r\n",
      " Execution Time: 8.770 ms\r\n",
      "(25 rows)\r\n",
      "\r\n"
     ]
    }
   ],
   "source": [
    "query_view_str = \"SELECT * FROM inducted_hof_ca\"\n",
    "!psql -h localhost -d baseball -c \"explain analyze $query_view_str\""
   ]
  },
  {
   "cell_type": "code",
   "execution_count": 46,
   "metadata": {},
   "outputs": [],
   "source": [
    "query_view_cost = 530.78\n",
    "query_view_timing = 8.770"
   ]
  },
  {
   "cell_type": "code",
   "execution_count": 47,
   "metadata": {
    "deletable": false,
    "editable": false
   },
   "outputs": [
    {
     "data": {
      "text/html": [
       "<p><strong><pre style='display: inline;'>q2a</pre></strong> passed!</p>"
      ],
      "text/plain": [
       "q2a results: All test cases passed!"
      ]
     },
     "execution_count": 47,
     "metadata": {},
     "output_type": "execute_result"
    }
   ],
   "source": [
    "grader.check(\"q2a\")"
   ]
  },
  {
   "cell_type": "markdown",
   "metadata": {},
   "source": [
    "### Question 2b:\n",
    "Now, add a filter to only return rows from `inducted_hof_ca` where the year is later than 2010. Inspect the query plan and record the execution time and cost."
   ]
  },
  {
   "cell_type": "code",
   "execution_count": 48,
   "metadata": {},
   "outputs": [
    {
     "name": "stdout",
     "output_type": "stream",
     "text": [
      " * postgresql://jovyan@127.0.0.1:5432/baseball\n",
      "   postgresql://jovyan@127.0.0.1:5432/postgres\n",
      "8 rows affected.\n",
      "Returning data to local variable result_2b\n"
     ]
    }
   ],
   "source": [
    "%%sql result_2b <<\n",
    "SELECT * FROM inducted_hof_ca WHERE yearid > 2010"
   ]
  },
  {
   "cell_type": "code",
   "execution_count": 49,
   "metadata": {},
   "outputs": [
    {
     "data": {
      "text/html": [
       "<table>\n",
       "    <tr>\n",
       "        <th>namefirst</th>\n",
       "        <th>namelast</th>\n",
       "        <th>playerid</th>\n",
       "        <th>schoolid</th>\n",
       "        <th>yearid</th>\n",
       "    </tr>\n",
       "    <tr>\n",
       "        <td>Pat</td>\n",
       "        <td>Gillick</td>\n",
       "        <td>gillipa99</td>\n",
       "        <td>calavco</td>\n",
       "        <td>2011</td>\n",
       "    </tr>\n",
       "    <tr>\n",
       "        <td>Pat</td>\n",
       "        <td>Gillick</td>\n",
       "        <td>gillipa99</td>\n",
       "        <td>usc</td>\n",
       "        <td>2011</td>\n",
       "    </tr>\n",
       "    <tr>\n",
       "        <td>Pat</td>\n",
       "        <td>Gillick</td>\n",
       "        <td>gillipa99</td>\n",
       "        <td>usc</td>\n",
       "        <td>2011</td>\n",
       "    </tr>\n",
       "    <tr>\n",
       "        <td>Randy</td>\n",
       "        <td>Johnson</td>\n",
       "        <td>johnsra05</td>\n",
       "        <td>usc</td>\n",
       "        <td>2015</td>\n",
       "    </tr>\n",
       "    <tr>\n",
       "        <td>Randy</td>\n",
       "        <td>Johnson</td>\n",
       "        <td>johnsra05</td>\n",
       "        <td>usc</td>\n",
       "        <td>2015</td>\n",
       "    </tr>\n",
       "    <tr>\n",
       "        <td>Randy</td>\n",
       "        <td>Johnson</td>\n",
       "        <td>johnsra05</td>\n",
       "        <td>usc</td>\n",
       "        <td>2015</td>\n",
       "    </tr>\n",
       "    <tr>\n",
       "        <td>Trevor</td>\n",
       "        <td>Hoffman</td>\n",
       "        <td>hoffmtr01</td>\n",
       "        <td>cacypre</td>\n",
       "        <td>2018</td>\n",
       "    </tr>\n",
       "    <tr>\n",
       "        <td>Trevor</td>\n",
       "        <td>Hoffman</td>\n",
       "        <td>hoffmtr01</td>\n",
       "        <td>cacypre</td>\n",
       "        <td>2018</td>\n",
       "    </tr>\n",
       "</table>"
      ],
      "text/plain": [
       "[('Pat', 'Gillick', 'gillipa99', 'calavco', 2011),\n",
       " ('Pat', 'Gillick', 'gillipa99', 'usc', 2011),\n",
       " ('Pat', 'Gillick', 'gillipa99', 'usc', 2011),\n",
       " ('Randy', 'Johnson', 'johnsra05', 'usc', 2015),\n",
       " ('Randy', 'Johnson', 'johnsra05', 'usc', 2015),\n",
       " ('Randy', 'Johnson', 'johnsra05', 'usc', 2015),\n",
       " ('Trevor', 'Hoffman', 'hoffmtr01', 'cacypre', 2018),\n",
       " ('Trevor', 'Hoffman', 'hoffmtr01', 'cacypre', 2018)]"
      ]
     },
     "execution_count": 49,
     "metadata": {},
     "output_type": "execute_result"
    }
   ],
   "source": [
    "result_2b"
   ]
  },
  {
   "cell_type": "code",
   "execution_count": 141,
   "metadata": {
    "scrolled": true
   },
   "outputs": [
    {
     "name": "stdout",
     "output_type": "stream",
     "text": [
      "                                                                                QUERY PLAN                                                                                 \r\n",
      "---------------------------------------------------------------------------------------------------------------------------------------------------------------------------\r\n",
      " Subquery Scan on inducted_hof_ca  (cost=209.92..209.99 rows=6 width=33) (actual time=0.936..0.939 rows=8 loops=1)\r\n",
      "   ->  Sort  (cost=209.92..209.93 rows=6 width=42) (actual time=0.935..0.936 rows=8 loops=1)\r\n",
      "         Sort Key: a.yearid, a.playerid\r\n",
      "         Sort Method: quicksort  Memory: 25kB\r\n",
      "         ->  Nested Loop  (cost=0.85..209.84 rows=6 width=42) (actual time=0.597..0.892 rows=8 loops=1)\r\n",
      "               Join Filter: ((a.playerid)::text = (b.playerid)::text)\r\n",
      "               ->  Nested Loop  (cost=0.56..207.24 rows=6 width=30) (actual time=0.562..0.808 rows=8 loops=1)\r\n",
      "                     ->  Nested Loop  (cost=0.29..190.63 rows=55 width=30) (actual time=0.550..0.715 rows=27 loops=1)\r\n",
      "                           ->  Seq Scan on halloffame a  (cost=0.00..106.86 rows=21 width=13) (actual time=0.515..0.551 rows=31 loops=1)\r\n",
      "                                 Filter: ((yearid > 2010) AND ((inducted)::text = 'Y'::text))\r\n",
      "                                 Rows Removed by Filter: 4160\r\n",
      "                           ->  Index Only Scan using collegeplaying_pkey on collegeplaying d  (cost=0.29..3.96 rows=3 width=17) (actual time=0.005..0.005 rows=1 loops=31)\r\n",
      "                                 Index Cond: (playerid = (a.playerid)::text)\r\n",
      "                                 Heap Fetches: 0\r\n",
      "                     ->  Index Scan using schools_pkey on schools c  (cost=0.28..0.30 rows=1 width=8) (actual time=0.003..0.003 rows=0 loops=27)\r\n",
      "                           Index Cond: ((schoolid)::text = (d.schoolid)::text)\r\n",
      "                           Filter: ((schoolstate)::text = 'CA'::text)\r\n",
      "                           Rows Removed by Filter: 1\r\n",
      "               ->  Index Scan using master_pkey on people b  (cost=0.29..0.42 rows=1 width=21) (actual time=0.010..0.010 rows=1 loops=8)\r\n",
      "                     Index Cond: ((playerid)::text = (d.playerid)::text)\r\n",
      " Planning Time: 2.570 ms\r\n",
      " Execution Time: 1.078 ms\r\n",
      "(22 rows)\r\n",
      "\r\n"
     ]
    }
   ],
   "source": [
    "query_view_with_filter_str = \"SELECT * FROM inducted_hof_ca WHERE yearid > 2010\"\n",
    "!psql -h localhost -d baseball -c \"explain analyze $query_view_with_filter_str\""
   ]
  },
  {
   "cell_type": "code",
   "execution_count": 50,
   "metadata": {},
   "outputs": [],
   "source": [
    "query_view_with_filter_cost = 209.93\n",
    "query_view_with_filter_timing = 1.078"
   ]
  },
  {
   "cell_type": "code",
   "execution_count": 51,
   "metadata": {
    "deletable": false,
    "editable": false
   },
   "outputs": [
    {
     "data": {
      "text/html": [
       "<p><strong><pre style='display: inline;'>q2b</pre></strong> passed!</p>"
      ],
      "text/plain": [
       "q2b results: All test cases passed!"
      ]
     },
     "execution_count": 51,
     "metadata": {},
     "output_type": "execute_result"
    }
   ],
   "source": [
    "grader.check(\"q2b\")"
   ]
  },
  {
   "cell_type": "markdown",
   "metadata": {
    "deletable": false,
    "editable": false
   },
   "source": [
    "### Question 2c:\n",
    "Given your findings from inspecting the query plans of queries from `Question 2a-b`, answer the following question. Assign the variable `q2c` to a list of all statements which are true.\n",
    "\n",
    "1. Consider the following statements:\n",
    "    1. Adding a filter lowered the cost.\n",
    "    1. Adding a filter increased the cost.\n",
    "    1. Adding a filter did not change the cost.\n",
    "    1. Adding a filter increased the execution time.\n",
    "    1. Adding a filter decreased the execution time.\n",
    "    1. Adding a filter did not change the execution time.\n",
    "    1. No statement is true.\n",
    "    \n",
    "    \n",
    "**Note:** Your answer should look like `q2c = ['A', 'B']`\n",
    "\n",
    "<!--\n",
    "BEGIN QUESTION\n",
    "name: q2c\n",
    "points: 2\n",
    "-->"
   ]
  },
  {
   "cell_type": "code",
   "execution_count": 52,
   "metadata": {},
   "outputs": [],
   "source": [
    "q2c = ['A', 'E']"
   ]
  },
  {
   "cell_type": "code",
   "execution_count": 53,
   "metadata": {
    "deletable": false,
    "editable": false
   },
   "outputs": [
    {
     "data": {
      "text/html": [
       "<p><strong><pre style='display: inline;'>q2c</pre></strong> passed!</p>"
      ],
      "text/plain": [
       "q2c results: All test cases passed!"
      ]
     },
     "execution_count": 53,
     "metadata": {},
     "output_type": "execute_result"
    }
   ],
   "source": [
    "grader.check(\"q2c\")"
   ]
  },
  {
   "cell_type": "markdown",
   "metadata": {
    "deletable": false,
    "editable": false
   },
   "source": [
    "<!-- BEGIN QUESTION -->\n",
    "\n",
    "#### Question 2d:\n",
    "\n",
    "Explain your answer based on your knowledge from lectures, and details from the query plans (your explanation should include why you didn't choose certain options).\n",
    "\n",
    "<!--\n",
    "BEGIN QUESTION\n",
    "name: q2d\n",
    "manual: true\n",
    "points: 2\n",
    "-->"
   ]
  },
  {
   "cell_type": "markdown",
   "metadata": {},
   "source": [
    "Filtering data to only include the observations that you need through a WHERE clause will dramatically improve query speed because the database can optimize the query using indexes and partitions which would reduce the amount of data and make operations faster in order to speed up acesss and thus reduce cost and execution time. "
   ]
  },
  {
   "cell_type": "markdown",
   "metadata": {},
   "source": [
    "<!-- END QUESTION -->\n",
    "\n",
    "\n",
    "\n",
    "## Question 3: Join Approaches\n",
    "\n",
    "In this question, we'll explore different join approaches (Nested Loop Join, Merge Join, Hash Join) and discuss how the query optimizer picks the best approach.\n",
    "\n",
    "### Question 3a:\n",
    "Perform an inner join on the `people` and `collegeplaying` tables on the `playerid` column. Project all columns."
   ]
  },
  {
   "cell_type": "code",
   "execution_count": 14,
   "metadata": {},
   "outputs": [
    {
     "name": "stdout",
     "output_type": "stream",
     "text": [
      " * postgresql://jovyan@127.0.0.1:5432/baseball\n",
      "   postgresql://jovyan@127.0.0.1:5432/postgres\n",
      "17350 rows affected.\n",
      "Returning data to local variable q3a_join\n"
     ]
    }
   ],
   "source": [
    "%%sql q3a_join <<\n",
    "SELECT * \n",
    "FROM people INNER JOIN\n",
    "collegeplaying ON people.playerid = collegeplaying.playerid"
   ]
  },
  {
   "cell_type": "markdown",
   "metadata": {},
   "source": [
    "Inspect the query plan for the query you wrote above."
   ]
  },
  {
   "cell_type": "code",
   "execution_count": 15,
   "metadata": {},
   "outputs": [
    {
     "name": "stdout",
     "output_type": "stream",
     "text": [
      "                                                       QUERY PLAN                                                        \r\n",
      "-------------------------------------------------------------------------------------------------------------------------\r\n",
      " Hash Join  (cost=861.83..1193.88 rows=17350 width=167) (actual time=15.799..31.569 rows=17350 loops=1)\r\n",
      "   Hash Cond: ((collegeplaying.playerid)::text = (people.playerid)::text)\r\n",
      "   ->  Seq Scan on collegeplaying  (cost=0.00..286.50 rows=17350 width=21) (actual time=0.016..2.238 rows=17350 loops=1)\r\n",
      "   ->  Hash  (cost=619.70..619.70 rows=19370 width=146) (actual time=15.571..15.574 rows=19370 loops=1)\r\n",
      "         Buckets: 32768  Batches: 1  Memory Usage: 3633kB\r\n",
      "         ->  Seq Scan on people  (cost=0.00..619.70 rows=19370 width=146) (actual time=0.023..3.502 rows=19370 loops=1)\r\n",
      " Planning Time: 1.277 ms\r\n",
      " Execution Time: 32.627 ms\r\n",
      "(8 rows)\r\n",
      "\r\n"
     ]
    }
   ],
   "source": [
    "q3a_query_str = \"SELECT * FROM people INNER JOIN collegeplaying ON people.playerid = collegeplaying.playerid\"\n",
    "!psql -h localhost -d baseball -c \"explain analyze $q3a_query_str\""
   ]
  },
  {
   "cell_type": "markdown",
   "metadata": {
    "deletable": false,
    "editable": false
   },
   "source": [
    "Given your findings from inspecting the query plan, answer the following question. Assign the variable `q3a` to a list of all the options which are true for the proposed statement.\n",
    "\n",
    "1. Which join approach did the query optimizer choose?\n",
    "    1. Nested Loop Join\n",
    "    1. Merge Join\n",
    "    1. Hash Join\n",
    "    1. None of the Above\n",
    "\n",
    "**Note:** Your answer should be formatted as follows: `q3a = ['A', 'B']`\n",
    "\n",
    "<!--\n",
    "BEGIN QUESTION\n",
    "name: q3a\n",
    "points: 1\n",
    "-->"
   ]
  },
  {
   "cell_type": "code",
   "execution_count": 54,
   "metadata": {},
   "outputs": [],
   "source": [
    "q3a = ['C']"
   ]
  },
  {
   "cell_type": "code",
   "execution_count": 55,
   "metadata": {
    "deletable": false,
    "editable": false
   },
   "outputs": [
    {
     "data": {
      "text/html": [
       "<p><strong><pre style='display: inline;'>q3a</pre></strong> passed!</p>"
      ],
      "text/plain": [
       "q3a results: All test cases passed!"
      ]
     },
     "execution_count": 55,
     "metadata": {},
     "output_type": "execute_result"
    }
   ],
   "source": [
    "grader.check(\"q3a\")"
   ]
  },
  {
   "cell_type": "markdown",
   "metadata": {},
   "source": [
    "### Question 3b\n",
    "\n",
    "Similar to Question 3a, perform an inner join on the `people` and `collegeplaying` tables on the `playerid` column. Project all columns.\n",
    "\n",
    "In addition, **sort your output by `playerid`.**"
   ]
  },
  {
   "cell_type": "code",
   "execution_count": 18,
   "metadata": {},
   "outputs": [
    {
     "name": "stdout",
     "output_type": "stream",
     "text": [
      " * postgresql://jovyan@127.0.0.1:5432/baseball\n",
      "   postgresql://jovyan@127.0.0.1:5432/postgres\n",
      "17350 rows affected.\n",
      "Returning data to local variable q3b_join\n"
     ]
    }
   ],
   "source": [
    "%%sql q3b_join <<\n",
    "SELECT * \n",
    "FROM people INNER JOIN\n",
    "collegeplaying ON people.playerid = collegeplaying.playerid\n",
    "ORDER BY people.playerid"
   ]
  },
  {
   "cell_type": "markdown",
   "metadata": {},
   "source": [
    "Inspect the query plan for the query you wrote above."
   ]
  },
  {
   "cell_type": "code",
   "execution_count": 19,
   "metadata": {},
   "outputs": [
    {
     "name": "stdout",
     "output_type": "stream",
     "text": [
      "                                                                        QUERY PLAN                                                                        \r\n",
      "----------------------------------------------------------------------------------------------------------------------------------------------------------\r\n",
      " Merge Join  (cost=0.57..1910.20 rows=17350 width=167) (actual time=0.042..18.210 rows=17350 loops=1)\r\n",
      "   Merge Cond: ((people.playerid)::text = (collegeplaying.playerid)::text)\r\n",
      "   ->  Index Scan using master_pkey on people  (cost=0.29..1024.36 rows=19370 width=146) (actual time=0.017..4.296 rows=19368 loops=1)\r\n",
      "   ->  Index Only Scan using collegeplaying_pkey on collegeplaying  (cost=0.29..620.54 rows=17350 width=21) (actual time=0.019..2.328 rows=17350 loops=1)\r\n",
      "         Heap Fetches: 0\r\n",
      " Planning Time: 1.063 ms\r\n",
      " Execution Time: 18.955 ms\r\n",
      "(7 rows)\r\n",
      "\r\n"
     ]
    }
   ],
   "source": [
    "q3b_query_str = \"SELECT * FROM people INNER JOIN collegeplaying ON people.playerid = collegeplaying.playerid ORDER BY people.playerid\"\n",
    "!psql -h localhost -d baseball -c \"explain analyze $q3b_query_str\""
   ]
  },
  {
   "cell_type": "markdown",
   "metadata": {
    "deletable": false,
    "editable": false
   },
   "source": [
    "Given your findings from inspecting the query plan, answer the following question. Assign the variable `q3b` to a list of all the options which are true for the proposed statement.\n",
    "\n",
    "1. Which join approach did the query optimizer choose?\n",
    "    1. Nested Loop Join\n",
    "    1. Merge Join\n",
    "    1. Hash Join\n",
    "    1. None of the Above\n",
    "\n",
    "**Note:** Your answer should be formatted as follows: `q3b = ['A', 'B']`\n",
    "\n",
    "<!--\n",
    "BEGIN QUESTION\n",
    "name: q3b\n",
    "points: 1\n",
    "-->"
   ]
  },
  {
   "cell_type": "code",
   "execution_count": 56,
   "metadata": {},
   "outputs": [],
   "source": [
    "q3b = [\"B\"]"
   ]
  },
  {
   "cell_type": "code",
   "execution_count": 57,
   "metadata": {
    "deletable": false,
    "editable": false
   },
   "outputs": [
    {
     "data": {
      "text/html": [
       "<p><strong><pre style='display: inline;'>q3b</pre></strong> passed!</p>"
      ],
      "text/plain": [
       "q3b results: All test cases passed!"
      ]
     },
     "execution_count": 57,
     "metadata": {},
     "output_type": "execute_result"
    }
   ],
   "source": [
    "grader.check(\"q3b\")"
   ]
  },
  {
   "cell_type": "markdown",
   "metadata": {},
   "source": [
    "### Question 3c\n",
    "Write a query to retrieve all possible player pair combinations. Project all columns, but **limit to 1000 rows** to ensure your query doesn't take an exorbitant amount of time to run.\n",
    "\n",
    "**Hint:** You can do this by performing an inner join of the `people` table on itself with an inequality condition."
   ]
  },
  {
   "cell_type": "code",
   "execution_count": 22,
   "metadata": {},
   "outputs": [
    {
     "name": "stdout",
     "output_type": "stream",
     "text": [
      " * postgresql://jovyan@127.0.0.1:5432/baseball\n",
      "   postgresql://jovyan@127.0.0.1:5432/postgres\n",
      "1000 rows affected.\n",
      "Returning data to local variable q3c_join\n"
     ]
    }
   ],
   "source": [
    "%%sql q3c_join <<\n",
    "SELECT * \n",
    "FROM people AS a \n",
    "INNER JOIN\n",
    "people AS b ON a.playerid != b.playerid\n",
    "LIMIT 1000"
   ]
  },
  {
   "cell_type": "markdown",
   "metadata": {},
   "source": [
    "Inspect the query plan for the query you wrote above."
   ]
  },
  {
   "cell_type": "code",
   "execution_count": 23,
   "metadata": {},
   "outputs": [
    {
     "name": "stdout",
     "output_type": "stream",
     "text": [
      "                                                          QUERY PLAN                                                           \r\n",
      "-------------------------------------------------------------------------------------------------------------------------------\r\n",
      " Limit  (cost=0.00..15.00 rows=1000 width=292) (actual time=0.034..1.059 rows=1000 loops=1)\r\n",
      "   ->  Nested Loop  (cost=0.00..5629241.33 rows=375177530 width=292) (actual time=0.033..0.988 rows=1000 loops=1)\r\n",
      "         Join Filter: ((a.playerid)::text <> (b.playerid)::text)\r\n",
      "         Rows Removed by Join Filter: 1\r\n",
      "         ->  Seq Scan on people a  (cost=0.00..619.70 rows=19370 width=146) (actual time=0.017..0.018 rows=1 loops=1)\r\n",
      "         ->  Materialize  (cost=0.00..716.55 rows=19370 width=146) (actual time=0.008..0.516 rows=1001 loops=1)\r\n",
      "               ->  Seq Scan on people b  (cost=0.00..619.70 rows=19370 width=146) (actual time=0.002..0.126 rows=1001 loops=1)\r\n",
      " Planning Time: 0.888 ms\r\n",
      " Execution Time: 1.242 ms\r\n",
      "(9 rows)\r\n",
      "\r\n"
     ]
    }
   ],
   "source": [
    "q3c_query_str = \"SELECT * FROM people AS a INNER JOIN people AS b ON a.playerid != b.playerid LIMIT 1000\"\n",
    "!psql -h localhost -d baseball -c \"explain analyze $q3c_query_str\""
   ]
  },
  {
   "cell_type": "markdown",
   "metadata": {
    "deletable": false,
    "editable": false
   },
   "source": [
    "Given your findings from inspecting the query plan, answer the following question. Assign the variable `q3c` to a list of all the options which are true for the proposed statement.\n",
    "\n",
    "1. Which join approach did the query optimizer choose?\n",
    "    1. Nested Loop Join\n",
    "    1. Merge Join\n",
    "    1. Hash Join\n",
    "    1. None of the Above\n",
    "\n",
    "**Note:** Your answer should be formatted as follows: `q3c = ['A', 'B']`\n",
    "\n",
    "<!--\n",
    "BEGIN QUESTION\n",
    "name: q3c\n",
    "points: 1\n",
    "-->"
   ]
  },
  {
   "cell_type": "code",
   "execution_count": 58,
   "metadata": {},
   "outputs": [],
   "source": [
    "q3c = ['A']"
   ]
  },
  {
   "cell_type": "code",
   "execution_count": 59,
   "metadata": {
    "deletable": false,
    "editable": false
   },
   "outputs": [
    {
     "data": {
      "text/html": [
       "<p><strong><pre style='display: inline;'>q3c</pre></strong> passed!</p>"
      ],
      "text/plain": [
       "q3c results: All test cases passed!"
      ]
     },
     "execution_count": 59,
     "metadata": {},
     "output_type": "execute_result"
    }
   ],
   "source": [
    "grader.check(\"q3c\")"
   ]
  },
  {
   "cell_type": "markdown",
   "metadata": {
    "deletable": false,
    "editable": false
   },
   "source": [
    "<!-- BEGIN QUESTION -->\n",
    "\n",
    "### Question 3d\n",
    "Please discuss your findings in the previous parts. In particular, we are interested in hearing why you think the query optimizer chooses the ultimate join approach in each of the above three scenarios. Feel free to discuss the pros and cons of each join approach as well.\n",
    "\n",
    "If you feel stuck, here are some things to consider: Does a non-equijoin constrain us to certain join approaches? What's an added benefit in regards to the output of merge join?\n",
    "\n",
    "<!--\n",
    "BEGIN QUESTION\n",
    "name: q3d\n",
    "manual: true\n",
    "points: 3\n",
    "-->"
   ]
  },
  {
   "cell_type": "markdown",
   "metadata": {},
   "source": [
    "A hash join is used in the query processor for any query in which each join has an equi-join condition where there are no indexes that can be applied to the join conditions in order to sort the columns. \n",
    "A merge join is used in the case where the projections of the joined tables are already joined on the join columns as shown in 3b where the query output is ordered by playerid. They are faster and use less memory than hash joins as shown by the the lower execution time. \n",
    "A nested loop join is the simplest implementation of joining two tables and involves takeing a first value in the first table and comparing it to every value in the second inner table to detect a match and this makes sense for our query in 3c because we are trying to find pairs with different values. By limiting the output to 1000 entries in 3c, we wer able to reduce exeuction time and it reinforces how nested loops are great for joining tables where one is  small and the other is large and is considered the inner table that is indexed on the column used for the join. "
   ]
  },
  {
   "cell_type": "markdown",
   "metadata": {},
   "source": [
    "<!-- END QUESTION -->\n",
    "\n",
    "\n",
    "\n",
    "## Question 4: Indexes\n",
    "\n",
    "### Question 4a:\n",
    "Write a query that outputs the `playerid` and average `salary` for each player that only batted in 10 games (the number of games in which a player batted can be found in the `g_batting` column of the `appearances` table). Your query should join the `salaries` and `appearances` table on all the common columns `yearid`, `teamid`, and `playerid`, so feel free to use a natural join."
   ]
  },
  {
   "cell_type": "code",
   "execution_count": 60,
   "metadata": {},
   "outputs": [
    {
     "name": "stdout",
     "output_type": "stream",
     "text": [
      " * postgresql://jovyan@127.0.0.1:5432/baseball\n",
      "   postgresql://jovyan@127.0.0.1:5432/postgres\n",
      "134 rows affected.\n",
      "Returning data to local variable result_4a\n"
     ]
    }
   ],
   "source": [
    "%%sql result_4a <<\n",
    "SELECT salaries.playerid, AVG(salary)\n",
    "FROM salaries NATURAL JOIN appearances \n",
    "WHERE g_batting = 10\n",
    "GROUP BY salaries.playerid;"
   ]
  },
  {
   "cell_type": "code",
   "execution_count": 20,
   "metadata": {},
   "outputs": [
    {
     "data": {
      "text/html": [
       "<table>\n",
       "    <tr>\n",
       "        <th>playerid</th>\n",
       "        <th>avg</th>\n",
       "    </tr>\n",
       "    <tr>\n",
       "        <td>anderla02</td>\n",
       "        <td>240000.0</td>\n",
       "    </tr>\n",
       "    <tr>\n",
       "        <td>ashbyan01</td>\n",
       "        <td>109000.0</td>\n",
       "    </tr>\n",
       "    <tr>\n",
       "        <td>ayraubo01</td>\n",
       "        <td>125000.0</td>\n",
       "    </tr>\n",
       "    <tr>\n",
       "        <td>bankswi01</td>\n",
       "        <td>240000.0</td>\n",
       "    </tr>\n",
       "    <tr>\n",
       "        <td>batchri01</td>\n",
       "        <td>157500.0</td>\n",
       "    </tr>\n",
       "    <tr>\n",
       "        <td>batiski01</td>\n",
       "        <td>100000.0</td>\n",
       "    </tr>\n",
       "    <tr>\n",
       "        <td>batismi01</td>\n",
       "        <td>153000.0</td>\n",
       "    </tr>\n",
       "    <tr>\n",
       "        <td>bautijo01</td>\n",
       "        <td>150000.0</td>\n",
       "    </tr>\n",
       "    <tr>\n",
       "        <td>beller01</td>\n",
       "        <td>145000.0</td>\n",
       "    </tr>\n",
       "    <tr>\n",
       "        <td>benesan01</td>\n",
       "        <td>68000.0</td>\n",
       "    </tr>\n",
       "    <tr>\n",
       "        <td>bennega01</td>\n",
       "        <td>825000.0</td>\n",
       "    </tr>\n",
       "    <tr>\n",
       "        <td>bereja01</td>\n",
       "        <td>1200000.0</td>\n",
       "    </tr>\n",
       "    <tr>\n",
       "        <td>blackbu02</td>\n",
       "        <td>3250000.0</td>\n",
       "    </tr>\n",
       "    <tr>\n",
       "        <td>booneaa01</td>\n",
       "        <td>750000.0</td>\n",
       "    </tr>\n",
       "    <tr>\n",
       "        <td>bouchde01</td>\n",
       "        <td>135000.0</td>\n",
       "    </tr>\n",
       "    <tr>\n",
       "        <td>bowiemi01</td>\n",
       "        <td>650000.0</td>\n",
       "    </tr>\n",
       "    <tr>\n",
       "        <td>brantje01</td>\n",
       "        <td>2800000.0</td>\n",
       "    </tr>\n",
       "    <tr>\n",
       "        <td>burrose01</td>\n",
       "        <td>525000.0</td>\n",
       "    </tr>\n",
       "    <tr>\n",
       "        <td>buterdr01</td>\n",
       "        <td>987500.0</td>\n",
       "    </tr>\n",
       "    <tr>\n",
       "        <td>canalge01</td>\n",
       "        <td>100000.0</td>\n",
       "    </tr>\n",
       "    <tr>\n",
       "        <td>carlybu01</td>\n",
       "        <td>330000.0</td>\n",
       "    </tr>\n",
       "    <tr>\n",
       "        <td>cartela02</td>\n",
       "        <td>550000.0</td>\n",
       "    </tr>\n",
       "    <tr>\n",
       "        <td>castiru01</td>\n",
       "        <td>871429.0</td>\n",
       "    </tr>\n",
       "    <tr>\n",
       "        <td>centeju01</td>\n",
       "        <td>507500.0</td>\n",
       "    </tr>\n",
       "    <tr>\n",
       "        <td>chacijh01</td>\n",
       "        <td>4850000.0</td>\n",
       "    </tr>\n",
       "    <tr>\n",
       "        <td>chicoma01</td>\n",
       "        <td>409000.0</td>\n",
       "    </tr>\n",
       "    <tr>\n",
       "        <td>chrisni01</td>\n",
       "        <td>500000.0</td>\n",
       "    </tr>\n",
       "    <tr>\n",
       "        <td>colabch01</td>\n",
       "        <td>521300.0</td>\n",
       "    </tr>\n",
       "    <tr>\n",
       "        <td>conroti01</td>\n",
       "        <td>115000.0</td>\n",
       "    </tr>\n",
       "    <tr>\n",
       "        <td>cormila01</td>\n",
       "        <td>405000.0</td>\n",
       "    </tr>\n",
       "    <tr>\n",
       "        <td>cornere01</td>\n",
       "        <td>109000.0</td>\n",
       "    </tr>\n",
       "    <tr>\n",
       "        <td>crometr01</td>\n",
       "        <td>109000.0</td>\n",
       "    </tr>\n",
       "    <tr>\n",
       "        <td>damicje01</td>\n",
       "        <td>2300000.0</td>\n",
       "    </tr>\n",
       "    <tr>\n",
       "        <td>delarjo01</td>\n",
       "        <td>10000000.0</td>\n",
       "    </tr>\n",
       "    <tr>\n",
       "        <td>dreifda01</td>\n",
       "        <td>12400000.0</td>\n",
       "    </tr>\n",
       "    <tr>\n",
       "        <td>dunnemi01</td>\n",
       "        <td>222500.0</td>\n",
       "    </tr>\n",
       "    <tr>\n",
       "        <td>edmonbr01</td>\n",
       "        <td>170000.0</td>\n",
       "    </tr>\n",
       "    <tr>\n",
       "        <td>eilanda01</td>\n",
       "        <td>135000.0</td>\n",
       "    </tr>\n",
       "    <tr>\n",
       "        <td>elartsc01</td>\n",
       "        <td>300000.0</td>\n",
       "    </tr>\n",
       "    <tr>\n",
       "        <td>elsteke01</td>\n",
       "        <td>300000.0</td>\n",
       "    </tr>\n",
       "    <tr>\n",
       "        <td>erickjo01</td>\n",
       "        <td>200000.0</td>\n",
       "    </tr>\n",
       "    <tr>\n",
       "        <td>fariepa01</td>\n",
       "        <td>122500.0</td>\n",
       "    </tr>\n",
       "    <tr>\n",
       "        <td>fasseje01</td>\n",
       "        <td>750000.0</td>\n",
       "    </tr>\n",
       "    <tr>\n",
       "        <td>fernajo02</td>\n",
       "        <td>651000.0</td>\n",
       "    </tr>\n",
       "    <tr>\n",
       "        <td>floydcl01</td>\n",
       "        <td>429500.0</td>\n",
       "    </tr>\n",
       "    <tr>\n",
       "        <td>foxer01</td>\n",
       "        <td>154000.0</td>\n",
       "    </tr>\n",
       "    <tr>\n",
       "        <td>garcifr02</td>\n",
       "        <td>10000000.0</td>\n",
       "    </tr>\n",
       "    <tr>\n",
       "        <td>gaudich01</td>\n",
       "        <td>900000.0</td>\n",
       "    </tr>\n",
       "    <tr>\n",
       "        <td>gedmari01</td>\n",
       "        <td>920000.0</td>\n",
       "    </tr>\n",
       "    <tr>\n",
       "        <td>greggto01</td>\n",
       "        <td>375000.0</td>\n",
       "    </tr>\n",
       "    <tr>\n",
       "        <td>grosski01</td>\n",
       "        <td>165000.0</td>\n",
       "    </tr>\n",
       "    <tr>\n",
       "        <td>hammoje01</td>\n",
       "        <td>8200000.0</td>\n",
       "    </tr>\n",
       "    <tr>\n",
       "        <td>haneych01</td>\n",
       "        <td>118000.0</td>\n",
       "    </tr>\n",
       "    <tr>\n",
       "        <td>hershor01</td>\n",
       "        <td>2000000.0</td>\n",
       "    </tr>\n",
       "    <tr>\n",
       "        <td>higgibo02</td>\n",
       "        <td>8850000.0</td>\n",
       "    </tr>\n",
       "    <tr>\n",
       "        <td>hillmi01</td>\n",
       "        <td>158000.0</td>\n",
       "    </tr>\n",
       "    <tr>\n",
       "        <td>hinojda01</td>\n",
       "        <td>514000.0</td>\n",
       "    </tr>\n",
       "    <tr>\n",
       "        <td>hookch01</td>\n",
       "        <td>109000.0</td>\n",
       "    </tr>\n",
       "    <tr>\n",
       "        <td>huttoma01</td>\n",
       "        <td>265000.0</td>\n",
       "    </tr>\n",
       "    <tr>\n",
       "        <td>ilslebl01</td>\n",
       "        <td>109000.0</td>\n",
       "    </tr>\n",
       "    <tr>\n",
       "        <td>jeffest01</td>\n",
       "        <td>122500.0</td>\n",
       "    </tr>\n",
       "    <tr>\n",
       "        <td>johnske05</td>\n",
       "        <td>3000000.0</td>\n",
       "    </tr>\n",
       "    <tr>\n",
       "        <td>johnsmi02</td>\n",
       "        <td>220000.0</td>\n",
       "    </tr>\n",
       "    <tr>\n",
       "        <td>johnsra05</td>\n",
       "        <td>9100546.0</td>\n",
       "    </tr>\n",
       "    <tr>\n",
       "        <td>juliojo01</td>\n",
       "        <td>3600000.0</td>\n",
       "    </tr>\n",
       "    <tr>\n",
       "        <td>jurrjja01</td>\n",
       "        <td>5500000.0</td>\n",
       "    </tr>\n",
       "    <tr>\n",
       "        <td>kellyro01</td>\n",
       "        <td>800000.0</td>\n",
       "    </tr>\n",
       "    <tr>\n",
       "        <td>lakest01</td>\n",
       "        <td>60000.0</td>\n",
       "    </tr>\n",
       "    <tr>\n",
       "        <td>landrbi01</td>\n",
       "        <td>60000.0</td>\n",
       "    </tr>\n",
       "    <tr>\n",
       "        <td>leachte01</td>\n",
       "        <td>425000.0</td>\n",
       "    </tr>\n",
       "    <tr>\n",
       "        <td>leiussc01</td>\n",
       "        <td>275000.0</td>\n",
       "    </tr>\n",
       "    <tr>\n",
       "        <td>lerouch01</td>\n",
       "        <td>486000.0</td>\n",
       "    </tr>\n",
       "    <tr>\n",
       "        <td>levisje01</td>\n",
       "        <td>400000.0</td>\n",
       "    </tr>\n",
       "    <tr>\n",
       "        <td>lylesjo01</td>\n",
       "        <td>2475000.0</td>\n",
       "    </tr>\n",
       "    <tr>\n",
       "        <td>mainejo01</td>\n",
       "        <td>3300000.0</td>\n",
       "    </tr>\n",
       "    <tr>\n",
       "        <td>martijo07</td>\n",
       "        <td>400000.0</td>\n",
       "    </tr>\n",
       "    <tr>\n",
       "        <td>martisa01</td>\n",
       "        <td>318000.0</td>\n",
       "    </tr>\n",
       "    <tr>\n",
       "        <td>marzajo01</td>\n",
       "        <td>77000.0</td>\n",
       "    </tr>\n",
       "    <tr>\n",
       "        <td>mccarbr01</td>\n",
       "        <td>12500000.0</td>\n",
       "    </tr>\n",
       "    <tr>\n",
       "        <td>mcglike01</td>\n",
       "        <td>242000.0</td>\n",
       "    </tr>\n",
       "    <tr>\n",
       "        <td>melusmi01</td>\n",
       "        <td>200000.0</td>\n",
       "    </tr>\n",
       "    <tr>\n",
       "        <td>mercelu01</td>\n",
       "        <td>120000.0</td>\n",
       "    </tr>\n",
       "    <tr>\n",
       "        <td>mlickda01</td>\n",
       "        <td>1250000.0</td>\n",
       "    </tr>\n",
       "    <tr>\n",
       "        <td>moellde01</td>\n",
       "        <td>112000.0</td>\n",
       "    </tr>\n",
       "    <tr>\n",
       "        <td>molingu01</td>\n",
       "        <td>380000.0</td>\n",
       "    </tr>\n",
       "    <tr>\n",
       "        <td>molinjo01</td>\n",
       "        <td>200000.0</td>\n",
       "    </tr>\n",
       "    <tr>\n",
       "        <td>moyerja01</td>\n",
       "        <td>1100000.0</td>\n",
       "    </tr>\n",
       "    <tr>\n",
       "        <td>natalro01</td>\n",
       "        <td>147500.0</td>\n",
       "    </tr>\n",
       "    <tr>\n",
       "        <td>nieuwki01</td>\n",
       "        <td>525415.0</td>\n",
       "    </tr>\n",
       "    <tr>\n",
       "        <td>nieveme01</td>\n",
       "        <td>118000.0</td>\n",
       "    </tr>\n",
       "    <tr>\n",
       "        <td>nixla01</td>\n",
       "        <td>390000.0</td>\n",
       "    </tr>\n",
       "    <tr>\n",
       "        <td>nokesma01</td>\n",
       "        <td>109000.0</td>\n",
       "    </tr>\n",
       "    <tr>\n",
       "        <td>ohkato01</td>\n",
       "        <td>2750000.0</td>\n",
       "    </tr>\n",
       "    <tr>\n",
       "        <td>ojedabo01</td>\n",
       "        <td>650000.0</td>\n",
       "    </tr>\n",
       "    <tr>\n",
       "        <td>ottavad01</td>\n",
       "        <td>1300000.0</td>\n",
       "    </tr>\n",
       "    <tr>\n",
       "        <td>paintla01</td>\n",
       "        <td>109000.0</td>\n",
       "    </tr>\n",
       "    <tr>\n",
       "        <td>parrila02</td>\n",
       "        <td>125000.0</td>\n",
       "    </tr>\n",
       "    <tr>\n",
       "        <td>pirklgr01</td>\n",
       "        <td>112500.0</td>\n",
       "    </tr>\n",
       "    <tr>\n",
       "        <td>pughti01</td>\n",
       "        <td>182500.0</td>\n",
       "    </tr>\n",
       "    <tr>\n",
       "        <td>ravinjo01</td>\n",
       "        <td>515000.0</td>\n",
       "    </tr>\n",
       "    <tr>\n",
       "        <td>redmama01</td>\n",
       "        <td>1000000.0</td>\n",
       "    </tr>\n",
       "    <tr>\n",
       "        <td>remlimi01</td>\n",
       "        <td>115000.0</td>\n",
       "    </tr>\n",
       "    <tr>\n",
       "        <td>reyesan01</td>\n",
       "        <td>392500.0</td>\n",
       "    </tr>\n",
       "    <tr>\n",
       "        <td>reyesca01</td>\n",
       "        <td>500000.0</td>\n",
       "    </tr>\n",
       "    <tr>\n",
       "        <td>riverma01</td>\n",
       "        <td>10500000.0</td>\n",
       "    </tr>\n",
       "    <tr>\n",
       "        <td>rosenst01</td>\n",
       "        <td>130000.0</td>\n",
       "    </tr>\n",
       "    <tr>\n",
       "        <td>ruffijo01</td>\n",
       "        <td>195000.0</td>\n",
       "    </tr>\n",
       "    <tr>\n",
       "        <td>sageraj01</td>\n",
       "        <td>109000.0</td>\n",
       "    </tr>\n",
       "    <tr>\n",
       "        <td>sanchan01</td>\n",
       "        <td>390000.0</td>\n",
       "    </tr>\n",
       "    <tr>\n",
       "        <td>schmija01</td>\n",
       "        <td>2750000.0</td>\n",
       "    </tr>\n",
       "    <tr>\n",
       "        <td>searcst01</td>\n",
       "        <td>175000.0</td>\n",
       "    </tr>\n",
       "    <tr>\n",
       "        <td>shielja02</td>\n",
       "        <td>21000000.0</td>\n",
       "    </tr>\n",
       "    <tr>\n",
       "        <td>silvajo01</td>\n",
       "        <td>650000.0</td>\n",
       "    </tr>\n",
       "    <tr>\n",
       "        <td>slatedo01</td>\n",
       "        <td>422500.0</td>\n",
       "    </tr>\n",
       "    <tr>\n",
       "        <td>smithgr02</td>\n",
       "        <td>406000.0</td>\n",
       "    </tr>\n",
       "    <tr>\n",
       "        <td>sotoge01</td>\n",
       "        <td>3050000.0</td>\n",
       "    </tr>\n",
       "    <tr>\n",
       "        <td>sternad01</td>\n",
       "        <td>335000.0</td>\n",
       "    </tr>\n",
       "    <tr>\n",
       "        <td>tabakje01</td>\n",
       "        <td>140000.0</td>\n",
       "    </tr>\n",
       "    <tr>\n",
       "        <td>tomlira01</td>\n",
       "        <td>975000.0</td>\n",
       "    </tr>\n",
       "    <tr>\n",
       "        <td>tremich01</td>\n",
       "        <td>109000.0</td>\n",
       "    </tr>\n",
       "    <tr>\n",
       "        <td>tsaoch01</td>\n",
       "        <td>317000.0</td>\n",
       "    </tr>\n",
       "    <tr>\n",
       "        <td>valdeis01</td>\n",
       "        <td>5737500.0</td>\n",
       "    </tr>\n",
       "    <tr>\n",
       "        <td>valenjo02</td>\n",
       "        <td>6350000.0</td>\n",
       "    </tr>\n",
       "    <tr>\n",
       "        <td>varvaan01</td>\n",
       "        <td>481250.0</td>\n",
       "    </tr>\n",
       "    <tr>\n",
       "        <td>veresra01</td>\n",
       "        <td>160000.0</td>\n",
       "    </tr>\n",
       "    <tr>\n",
       "        <td>wardtu01</td>\n",
       "        <td>200000.0</td>\n",
       "    </tr>\n",
       "    <tr>\n",
       "        <td>washiul01</td>\n",
       "        <td>80000.0</td>\n",
       "    </tr>\n",
       "    <tr>\n",
       "        <td>weberbe01</td>\n",
       "        <td>600000.0</td>\n",
       "    </tr>\n",
       "    <tr>\n",
       "        <td>wengedo01</td>\n",
       "        <td>240000.0</td>\n",
       "    </tr>\n",
       "    <tr>\n",
       "        <td>whitema02</td>\n",
       "        <td>272500.0</td>\n",
       "    </tr>\n",
       "    <tr>\n",
       "        <td>wiggial01</td>\n",
       "        <td>512500.0</td>\n",
       "    </tr>\n",
       "    <tr>\n",
       "        <td>willida07</td>\n",
       "        <td>234000.0</td>\n",
       "    </tr>\n",
       "    <tr>\n",
       "        <td>wilsoni01</td>\n",
       "        <td>125000.0</td>\n",
       "    </tr>\n",
       "    <tr>\n",
       "        <td>woodke02</td>\n",
       "        <td>3000000.0</td>\n",
       "    </tr>\n",
       "</table>"
      ],
      "text/plain": [
       "[('anderla02', 240000.0),\n",
       " ('ashbyan01', 109000.0),\n",
       " ('ayraubo01', 125000.0),\n",
       " ('bankswi01', 240000.0),\n",
       " ('batchri01', 157500.0),\n",
       " ('batiski01', 100000.0),\n",
       " ('batismi01', 153000.0),\n",
       " ('bautijo01', 150000.0),\n",
       " ('beller01', 145000.0),\n",
       " ('benesan01', 68000.0),\n",
       " ('bennega01', 825000.0),\n",
       " ('bereja01', 1200000.0),\n",
       " ('blackbu02', 3250000.0),\n",
       " ('booneaa01', 750000.0),\n",
       " ('bouchde01', 135000.0),\n",
       " ('bowiemi01', 650000.0),\n",
       " ('brantje01', 2800000.0),\n",
       " ('burrose01', 525000.0),\n",
       " ('buterdr01', 987500.0),\n",
       " ('canalge01', 100000.0),\n",
       " ('carlybu01', 330000.0),\n",
       " ('cartela02', 550000.0),\n",
       " ('castiru01', 871429.0),\n",
       " ('centeju01', 507500.0),\n",
       " ('chacijh01', 4850000.0),\n",
       " ('chicoma01', 409000.0),\n",
       " ('chrisni01', 500000.0),\n",
       " ('colabch01', 521300.0),\n",
       " ('conroti01', 115000.0),\n",
       " ('cormila01', 405000.0),\n",
       " ('cornere01', 109000.0),\n",
       " ('crometr01', 109000.0),\n",
       " ('damicje01', 2300000.0),\n",
       " ('delarjo01', 10000000.0),\n",
       " ('dreifda01', 12400000.0),\n",
       " ('dunnemi01', 222500.0),\n",
       " ('edmonbr01', 170000.0),\n",
       " ('eilanda01', 135000.0),\n",
       " ('elartsc01', 300000.0),\n",
       " ('elsteke01', 300000.0),\n",
       " ('erickjo01', 200000.0),\n",
       " ('fariepa01', 122500.0),\n",
       " ('fasseje01', 750000.0),\n",
       " ('fernajo02', 651000.0),\n",
       " ('floydcl01', 429500.0),\n",
       " ('foxer01', 154000.0),\n",
       " ('garcifr02', 10000000.0),\n",
       " ('gaudich01', 900000.0),\n",
       " ('gedmari01', 920000.0),\n",
       " ('greggto01', 375000.0),\n",
       " ('grosski01', 165000.0),\n",
       " ('hammoje01', 8200000.0),\n",
       " ('haneych01', 118000.0),\n",
       " ('hershor01', 2000000.0),\n",
       " ('higgibo02', 8850000.0),\n",
       " ('hillmi01', 158000.0),\n",
       " ('hinojda01', 514000.0),\n",
       " ('hookch01', 109000.0),\n",
       " ('huttoma01', 265000.0),\n",
       " ('ilslebl01', 109000.0),\n",
       " ('jeffest01', 122500.0),\n",
       " ('johnske05', 3000000.0),\n",
       " ('johnsmi02', 220000.0),\n",
       " ('johnsra05', 9100546.0),\n",
       " ('juliojo01', 3600000.0),\n",
       " ('jurrjja01', 5500000.0),\n",
       " ('kellyro01', 800000.0),\n",
       " ('lakest01', 60000.0),\n",
       " ('landrbi01', 60000.0),\n",
       " ('leachte01', 425000.0),\n",
       " ('leiussc01', 275000.0),\n",
       " ('lerouch01', 486000.0),\n",
       " ('levisje01', 400000.0),\n",
       " ('lylesjo01', 2475000.0),\n",
       " ('mainejo01', 3300000.0),\n",
       " ('martijo07', 400000.0),\n",
       " ('martisa01', 318000.0),\n",
       " ('marzajo01', 77000.0),\n",
       " ('mccarbr01', 12500000.0),\n",
       " ('mcglike01', 242000.0),\n",
       " ('melusmi01', 200000.0),\n",
       " ('mercelu01', 120000.0),\n",
       " ('mlickda01', 1250000.0),\n",
       " ('moellde01', 112000.0),\n",
       " ('molingu01', 380000.0),\n",
       " ('molinjo01', 200000.0),\n",
       " ('moyerja01', 1100000.0),\n",
       " ('natalro01', 147500.0),\n",
       " ('nieuwki01', 525415.0),\n",
       " ('nieveme01', 118000.0),\n",
       " ('nixla01', 390000.0),\n",
       " ('nokesma01', 109000.0),\n",
       " ('ohkato01', 2750000.0),\n",
       " ('ojedabo01', 650000.0),\n",
       " ('ottavad01', 1300000.0),\n",
       " ('paintla01', 109000.0),\n",
       " ('parrila02', 125000.0),\n",
       " ('pirklgr01', 112500.0),\n",
       " ('pughti01', 182500.0),\n",
       " ('ravinjo01', 515000.0),\n",
       " ('redmama01', 1000000.0),\n",
       " ('remlimi01', 115000.0),\n",
       " ('reyesan01', 392500.0),\n",
       " ('reyesca01', 500000.0),\n",
       " ('riverma01', 10500000.0),\n",
       " ('rosenst01', 130000.0),\n",
       " ('ruffijo01', 195000.0),\n",
       " ('sageraj01', 109000.0),\n",
       " ('sanchan01', 390000.0),\n",
       " ('schmija01', 2750000.0),\n",
       " ('searcst01', 175000.0),\n",
       " ('shielja02', 21000000.0),\n",
       " ('silvajo01', 650000.0),\n",
       " ('slatedo01', 422500.0),\n",
       " ('smithgr02', 406000.0),\n",
       " ('sotoge01', 3050000.0),\n",
       " ('sternad01', 335000.0),\n",
       " ('tabakje01', 140000.0),\n",
       " ('tomlira01', 975000.0),\n",
       " ('tremich01', 109000.0),\n",
       " ('tsaoch01', 317000.0),\n",
       " ('valdeis01', 5737500.0),\n",
       " ('valenjo02', 6350000.0),\n",
       " ('varvaan01', 481250.0),\n",
       " ('veresra01', 160000.0),\n",
       " ('wardtu01', 200000.0),\n",
       " ('washiul01', 80000.0),\n",
       " ('weberbe01', 600000.0),\n",
       " ('wengedo01', 240000.0),\n",
       " ('whitema02', 272500.0),\n",
       " ('wiggial01', 512500.0),\n",
       " ('willida07', 234000.0),\n",
       " ('wilsoni01', 125000.0),\n",
       " ('woodke02', 3000000.0)]"
      ]
     },
     "execution_count": 20,
     "metadata": {},
     "output_type": "execute_result"
    }
   ],
   "source": [
    "result_4a"
   ]
  },
  {
   "cell_type": "code",
   "execution_count": 61,
   "metadata": {},
   "outputs": [],
   "source": [
    "# Do not delete/edit this cell\n",
    "result_4a.DataFrame().sort_values('playerid').to_csv('results/result_4a.csv', index=False)"
   ]
  },
  {
   "cell_type": "code",
   "execution_count": 62,
   "metadata": {
    "deletable": false,
    "editable": false
   },
   "outputs": [
    {
     "data": {
      "text/html": [
       "<p><strong><pre style='display: inline;'>q4ai</pre></strong> passed!</p>"
      ],
      "text/plain": [
       "q4ai results: All test cases passed!"
      ]
     },
     "execution_count": 62,
     "metadata": {},
     "output_type": "execute_result"
    }
   ],
   "source": [
    "grader.check(\"q4ai\")"
   ]
  },
  {
   "cell_type": "markdown",
   "metadata": {},
   "source": [
    "Inspect the query plan and record the execution time and cost."
   ]
  },
  {
   "cell_type": "code",
   "execution_count": 35,
   "metadata": {},
   "outputs": [
    {
     "name": "stdout",
     "output_type": "stream",
     "text": [
      "                                                                                                                     QUERY PLAN                                                                                                                     \r\n",
      "----------------------------------------------------------------------------------------------------------------------------------------------------------------------------------------------------------------------------------------------------\r\n",
      " GroupAggregate  (cost=3638.34..3638.37 rows=1 width=17) (actual time=23.503..23.572 rows=134 loops=1)\r\n",
      "   Group Key: salaries.playerid\r\n",
      "   ->  Sort  (cost=3638.34..3638.35 rows=1 width=17) (actual time=23.486..23.497 rows=138 loops=1)\r\n",
      "         Sort Key: salaries.playerid\r\n",
      "         Sort Method: quicksort  Memory: 35kB\r\n",
      "         ->  Hash Join  (cost=2901.56..3638.33 rows=1 width=17) (actual time=14.127..23.282 rows=138 loops=1)\r\n",
      "               Hash Cond: ((salaries.yearid = appearances.yearid) AND ((salaries.teamid)::text = (appearances.teamid)::text) AND ((salaries.lgid)::text = (appearances.lgid)::text) AND ((salaries.playerid)::text = (appearances.playerid)::text))\r\n",
      "               ->  Seq Scan on salaries  (cost=0.00..459.28 rows=26428 width=28) (actual time=0.015..2.369 rows=26428 loops=1)\r\n",
      "               ->  Hash  (cost=2873.20..2873.20 rows=1418 width=20) (actual time=13.805..13.807 rows=1347 loops=1)\r\n",
      "                     Buckets: 2048  Batches: 1  Memory Usage: 86kB\r\n",
      "                     ->  Seq Scan on appearances  (cost=0.00..2873.20 rows=1418 width=20) (actual time=0.016..13.265 rows=1347 loops=1)\r\n",
      "                           Filter: (g_batting = 10)\r\n",
      "                           Rows Removed by Filter: 102909\r\n",
      " Planning Time: 1.614 ms\r\n",
      " Execution Time: 23.718 ms\r\n",
      "(15 rows)\r\n",
      "\r\n"
     ]
    }
   ],
   "source": [
    "result_4a_query_str = \"SELECT salaries.playerid, AVG(salary) FROM salaries NATURAL JOIN appearances WHERE g_batting = 10 GROUP BY salaries.playerid;\"\n",
    "!psql -h localhost -d baseball -c \"explain analyze $result_4a_query_str\""
   ]
  },
  {
   "cell_type": "code",
   "execution_count": 63,
   "metadata": {},
   "outputs": [],
   "source": [
    "result_4a_cost = 3638.37\n",
    "result_4a_timing = 23.718"
   ]
  },
  {
   "cell_type": "code",
   "execution_count": 64,
   "metadata": {
    "deletable": false,
    "editable": false
   },
   "outputs": [
    {
     "data": {
      "text/html": [
       "<p><strong><pre style='display: inline;'>q4aii</pre></strong> passed!</p>"
      ],
      "text/plain": [
       "q4aii results: All test cases passed!"
      ]
     },
     "execution_count": 64,
     "metadata": {},
     "output_type": "execute_result"
    }
   ],
   "source": [
    "grader.check(\"q4aii\")"
   ]
  },
  {
   "cell_type": "markdown",
   "metadata": {},
   "source": [
    "### Question 4b:\n",
    "Add an index with name `g_batting_idx` on the `g_batting` column of the `appearances` table."
   ]
  },
  {
   "cell_type": "code",
   "execution_count": 23,
   "metadata": {},
   "outputs": [
    {
     "name": "stdout",
     "output_type": "stream",
     "text": [
      " * postgresql://jovyan@127.0.0.1:5432/baseball\n",
      "   postgresql://jovyan@127.0.0.1:5432/postgres\n",
      "Done.\n",
      "Returning data to local variable result_4b\n"
     ]
    }
   ],
   "source": [
    "%%sql result_4b <<\n",
    "CREATE INDEX g_batting_idx ON appearances(g_batting)"
   ]
  },
  {
   "cell_type": "markdown",
   "metadata": {},
   "source": [
    "Now, re-inspect the query plan of the query from `Question 4a` and record its execution time and cost."
   ]
  },
  {
   "cell_type": "code",
   "execution_count": 46,
   "metadata": {},
   "outputs": [
    {
     "name": "stdout",
     "output_type": "stream",
     "text": [
      "                                                                                                                     QUERY PLAN                                                                                                                     \r\n",
      "----------------------------------------------------------------------------------------------------------------------------------------------------------------------------------------------------------------------------------------------------\r\n",
      " GroupAggregate  (cost=2398.02..2398.04 rows=1 width=17) (actual time=12.347..12.426 rows=134 loops=1)\r\n",
      "   Group Key: salaries.playerid\r\n",
      "   ->  Sort  (cost=2398.02..2398.02 rows=1 width=17) (actual time=12.330..12.343 rows=138 loops=1)\r\n",
      "         Sort Key: salaries.playerid\r\n",
      "         Sort Method: quicksort  Memory: 35kB\r\n",
      "         ->  Hash Join  (cost=1661.23..2398.01 rows=1 width=17) (actual time=3.423..12.130 rows=138 loops=1)\r\n",
      "               Hash Cond: ((salaries.yearid = appearances.yearid) AND ((salaries.teamid)::text = (appearances.teamid)::text) AND ((salaries.lgid)::text = (appearances.lgid)::text) AND ((salaries.playerid)::text = (appearances.playerid)::text))\r\n",
      "               ->  Seq Scan on salaries  (cost=0.00..459.28 rows=26428 width=28) (actual time=0.015..2.232 rows=26428 loops=1)\r\n",
      "               ->  Hash  (cost=1632.87..1632.87 rows=1418 width=20) (actual time=3.223..3.226 rows=1347 loops=1)\r\n",
      "                     Buckets: 2048  Batches: 1  Memory Usage: 86kB\r\n",
      "                     ->  Bitmap Heap Scan on appearances  (cost=19.28..1632.87 rows=1418 width=20) (actual time=0.351..2.789 rows=1347 loops=1)\r\n",
      "                           Recheck Cond: (g_batting = 10)\r\n",
      "                           Heap Blocks: exact=899\r\n",
      "                           ->  Bitmap Index Scan on g_batting_idx  (cost=0.00..18.93 rows=1418 width=0) (actual time=0.204..0.205 rows=1347 loops=1)\r\n",
      "                                 Index Cond: (g_batting = 10)\r\n",
      " Planning Time: 1.870 ms\r\n",
      " Execution Time: 12.603 ms\r\n",
      "(17 rows)\r\n",
      "\r\n"
     ]
    }
   ],
   "source": [
    "!psql -h localhost -d baseball -c \"explain analyze $result_4a_query_str\""
   ]
  },
  {
   "cell_type": "code",
   "execution_count": 65,
   "metadata": {},
   "outputs": [],
   "source": [
    "result_4b_cost = 2398.04\n",
    "result_4b_timing = 12.603"
   ]
  },
  {
   "cell_type": "code",
   "execution_count": 66,
   "metadata": {
    "deletable": false,
    "editable": false
   },
   "outputs": [
    {
     "data": {
      "text/html": [
       "<p><strong><pre style='display: inline;'>q4b</pre></strong> passed!</p>"
      ],
      "text/plain": [
       "q4b results: All test cases passed!"
      ]
     },
     "execution_count": 66,
     "metadata": {},
     "output_type": "execute_result"
    }
   ],
   "source": [
    "grader.check(\"q4b\")"
   ]
  },
  {
   "cell_type": "markdown",
   "metadata": {},
   "source": [
    "In the following question, we will explore adding a different index and evaluating the query from `Question 4a`. To avoid any interference by the `g_batting_idx` index, **drop the index before moving onto the next question.**"
   ]
  },
  {
   "cell_type": "code",
   "execution_count": 24,
   "metadata": {},
   "outputs": [
    {
     "name": "stdout",
     "output_type": "stream",
     "text": [
      " * postgresql://jovyan@127.0.0.1:5432/baseball\n",
      "   postgresql://jovyan@127.0.0.1:5432/postgres\n",
      "Done.\n"
     ]
    },
    {
     "data": {
      "text/plain": [
       "[]"
      ]
     },
     "execution_count": 24,
     "metadata": {},
     "output_type": "execute_result"
    }
   ],
   "source": [
    "%%sql \n",
    "DROP INDEX g_batting_idx "
   ]
  },
  {
   "cell_type": "markdown",
   "metadata": {},
   "source": [
    "### Question 4c:\n",
    "Write a query to add an index with name `salary_idx` on the `salary` column of the `salaries` table."
   ]
  },
  {
   "cell_type": "code",
   "execution_count": 25,
   "metadata": {},
   "outputs": [
    {
     "name": "stdout",
     "output_type": "stream",
     "text": [
      " * postgresql://jovyan@127.0.0.1:5432/baseball\n",
      "   postgresql://jovyan@127.0.0.1:5432/postgres\n",
      "Done.\n",
      "Returning data to local variable result_4c\n"
     ]
    }
   ],
   "source": [
    "%%sql result_4c <<\n",
    "CREATE INDEX salary_idx ON salaries(salary)"
   ]
  },
  {
   "cell_type": "markdown",
   "metadata": {},
   "source": [
    "Re-inspect the query plan of the query from the `Question 4a` and record its execution time and cost."
   ]
  },
  {
   "cell_type": "code",
   "execution_count": 51,
   "metadata": {},
   "outputs": [
    {
     "name": "stdout",
     "output_type": "stream",
     "text": [
      "                                                                                                                     QUERY PLAN                                                                                                                     \r\n",
      "----------------------------------------------------------------------------------------------------------------------------------------------------------------------------------------------------------------------------------------------------\r\n",
      " GroupAggregate  (cost=3638.34..3638.37 rows=1 width=17) (actual time=23.584..23.653 rows=134 loops=1)\r\n",
      "   Group Key: salaries.playerid\r\n",
      "   ->  Sort  (cost=3638.34..3638.35 rows=1 width=17) (actual time=23.569..23.579 rows=138 loops=1)\r\n",
      "         Sort Key: salaries.playerid\r\n",
      "         Sort Method: quicksort  Memory: 35kB\r\n",
      "         ->  Hash Join  (cost=2901.56..3638.33 rows=1 width=17) (actual time=14.571..23.381 rows=138 loops=1)\r\n",
      "               Hash Cond: ((salaries.yearid = appearances.yearid) AND ((salaries.teamid)::text = (appearances.teamid)::text) AND ((salaries.lgid)::text = (appearances.lgid)::text) AND ((salaries.playerid)::text = (appearances.playerid)::text))\r\n",
      "               ->  Seq Scan on salaries  (cost=0.00..459.28 rows=26428 width=28) (actual time=0.015..2.269 rows=26428 loops=1)\r\n",
      "               ->  Hash  (cost=2873.20..2873.20 rows=1418 width=20) (actual time=14.237..14.239 rows=1347 loops=1)\r\n",
      "                     Buckets: 2048  Batches: 1  Memory Usage: 86kB\r\n",
      "                     ->  Seq Scan on appearances  (cost=0.00..2873.20 rows=1418 width=20) (actual time=0.015..13.669 rows=1347 loops=1)\r\n",
      "                           Filter: (g_batting = 10)\r\n",
      "                           Rows Removed by Filter: 102909\r\n",
      " Planning Time: 2.331 ms\r\n",
      " Execution Time: 23.797 ms\r\n",
      "(15 rows)\r\n",
      "\r\n"
     ]
    }
   ],
   "source": [
    "!psql -h localhost -d baseball -c \"explain analyze $result_4a_query_str\""
   ]
  },
  {
   "cell_type": "code",
   "execution_count": 67,
   "metadata": {},
   "outputs": [],
   "source": [
    "result_4c_cost = 3638.37\n",
    "result_4c_timing = 23.797"
   ]
  },
  {
   "cell_type": "code",
   "execution_count": 68,
   "metadata": {
    "deletable": false,
    "editable": false
   },
   "outputs": [
    {
     "data": {
      "text/html": [
       "<p><strong><pre style='display: inline;'>q4c</pre></strong> passed!</p>"
      ],
      "text/plain": [
       "q4c results: All test cases passed!"
      ]
     },
     "execution_count": 68,
     "metadata": {},
     "output_type": "execute_result"
    }
   ],
   "source": [
    "grader.check(\"q4c\")"
   ]
  },
  {
   "cell_type": "markdown",
   "metadata": {
    "deletable": false,
    "editable": false
   },
   "source": [
    "### Question 4d:\n",
    "#### Question 4di:\n",
    "Given your findings from inspecting the query plans with no indexes, an index on `g_batting`, and an index on `salary`, answer the following question. Assign the variable `q4d_part1` to a list of all options which are true for the proposed statement.\n",
    "\n",
    "1. Consider the following statements:\n",
    "    1. Adding the `g_batting` index did not have a significant impact on the query execution time and cost.\n",
    "    1. Adding the `g_batting` index did have a significant impact on the query execution time, but not the cost.\n",
    "    1. Adding the `g_batting` index did have a significant impact on the query cost, but not the execution time.\n",
    "    1. Adding the `g_batting` index did have a significant impact on the query cost and execution time.\n",
    "    1. Adding the `salary` index did not have a significant impact on the query execution time and cost.\n",
    "    1. Adding the `salary` index did have a significant impact on the query execution time, but not the cost.\n",
    "    1. Adding the `salary` index did have a significant impact on the query cost, but not the execution time.\n",
    "    1. Adding the `salary` index did have a significant impact on the query cost and execution time.\n",
    "\n",
    "**Note:** Your answer should be formatted as follows: `q4d_part1 = ['A', 'B']`\n",
    "\n",
    "<!--\n",
    "BEGIN QUESTION\n",
    "name: q4di\n",
    "points: 2\n",
    "-->"
   ]
  },
  {
   "cell_type": "code",
   "execution_count": 69,
   "metadata": {},
   "outputs": [],
   "source": [
    "q4d_part1 = ['D','E']"
   ]
  },
  {
   "cell_type": "code",
   "execution_count": 70,
   "metadata": {
    "deletable": false,
    "editable": false
   },
   "outputs": [
    {
     "data": {
      "text/html": [
       "<p><strong><pre style='display: inline;'>q4di</pre></strong> passed!</p>"
      ],
      "text/plain": [
       "q4di results: All test cases passed!"
      ]
     },
     "execution_count": 70,
     "metadata": {},
     "output_type": "execute_result"
    }
   ],
   "source": [
    "grader.check(\"q4di\")"
   ]
  },
  {
   "cell_type": "markdown",
   "metadata": {
    "deletable": false,
    "editable": false
   },
   "source": [
    "<!-- BEGIN QUESTION -->\n",
    "\n",
    "#### Question 4dii:\n",
    "\n",
    "Explain your answer based on your knowledge from lectures, and details from inspecting the query plans (your explanation should include why you didn't choose certain options).\n",
    "\n",
    "<!--\n",
    "BEGIN QUESTION\n",
    "name: q4dii\n",
    "manual: true\n",
    "points: 2\n",
    "-->"
   ]
  },
  {
   "cell_type": "markdown",
   "metadata": {},
   "source": [
    "The original query retrieves the average salary for each player that batted in exactly 10 games and outputs both the playerid and average salary. If we we add an index on the g_batting column, it helps the query find the data quicker because we are already filtering the g_batting column and thus the execution time reduced to 12.603 and the cost dropped to 2398.04. \n",
    "\n",
    "For the salary index, it did not impact the query performance that resulted because it was still necessary to go through all salary values for each of the players that have batted in 10 games and the performance of calculating an average will always get slower the more records you have. Creating an index for the field that you want the average for isnt helpful because you dont want to do a lookup as you would want all the data as efficiently as possible"
   ]
  },
  {
   "cell_type": "markdown",
   "metadata": {},
   "source": [
    "<!-- END QUESTION -->\n",
    "\n",
    "\n",
    "\n",
    "In the following question, we will further explore the impact of indexes on query performance. To avoid any interference by the `salary_idx` index, please drop the index before moving onto the next question."
   ]
  },
  {
   "cell_type": "code",
   "execution_count": 26,
   "metadata": {},
   "outputs": [
    {
     "name": "stdout",
     "output_type": "stream",
     "text": [
      " * postgresql://jovyan@127.0.0.1:5432/baseball\n",
      "   postgresql://jovyan@127.0.0.1:5432/postgres\n",
      "Done.\n"
     ]
    },
    {
     "data": {
      "text/plain": [
       "[]"
      ]
     },
     "execution_count": 26,
     "metadata": {},
     "output_type": "execute_result"
    }
   ],
   "source": [
    "%%sql \n",
    "DROP INDEX salary_idx"
   ]
  },
  {
   "cell_type": "markdown",
   "metadata": {},
   "source": [
    "### Question 4e:\n",
    "#### Question 4ei:\n",
    "Write a query that finds the `playerid`, `yearid`, and `salary` for each player that had played 10 games and batted in 10 games (the number of games in which a player played can be found in the `g_all` column of the `appearances` table). Your query should join the `salaries` and `appearances` table on all the common columns `yearid`, `teamid`, and `playerid`, so feel free to use a natural join."
   ]
  },
  {
   "cell_type": "code",
   "execution_count": 71,
   "metadata": {},
   "outputs": [
    {
     "name": "stdout",
     "output_type": "stream",
     "text": [
      " * postgresql://jovyan@127.0.0.1:5432/baseball\n",
      "   postgresql://jovyan@127.0.0.1:5432/postgres\n",
      "120 rows affected.\n",
      "Returning data to local variable result_4ei\n"
     ]
    }
   ],
   "source": [
    "%%sql result_4ei <<\n",
    "SELECT salaries.playerid, salaries.yearid, salaries.salary\n",
    "FROM salaries NATURAL JOIN appearances \n",
    "WHERE g_batting = 10 and g_all = 10\n",
    "GROUP BY salaries.playerid,salaries.yearid,salaries.salary;"
   ]
  },
  {
   "cell_type": "code",
   "execution_count": 38,
   "metadata": {},
   "outputs": [
    {
     "data": {
      "text/html": [
       "<table>\n",
       "    <tr>\n",
       "        <th>playerid</th>\n",
       "        <th>yearid</th>\n",
       "        <th>salary</th>\n",
       "    </tr>\n",
       "    <tr>\n",
       "        <td>anderla02</td>\n",
       "        <td>1986</td>\n",
       "        <td>240000.0</td>\n",
       "    </tr>\n",
       "    <tr>\n",
       "        <td>ashbyan01</td>\n",
       "        <td>1992</td>\n",
       "        <td>109000.0</td>\n",
       "    </tr>\n",
       "    <tr>\n",
       "        <td>ayraubo01</td>\n",
       "        <td>1993</td>\n",
       "        <td>125000.0</td>\n",
       "    </tr>\n",
       "    <tr>\n",
       "        <td>bankswi01</td>\n",
       "        <td>1995</td>\n",
       "        <td>240000.0</td>\n",
       "    </tr>\n",
       "    <tr>\n",
       "        <td>batchri01</td>\n",
       "        <td>1997</td>\n",
       "        <td>157500.0</td>\n",
       "    </tr>\n",
       "    <tr>\n",
       "        <td>batiski01</td>\n",
       "        <td>1991</td>\n",
       "        <td>100000.0</td>\n",
       "    </tr>\n",
       "    <tr>\n",
       "        <td>beller01</td>\n",
       "        <td>1993</td>\n",
       "        <td>145000.0</td>\n",
       "    </tr>\n",
       "    <tr>\n",
       "        <td>benesan01</td>\n",
       "        <td>1989</td>\n",
       "        <td>68000.0</td>\n",
       "    </tr>\n",
       "    <tr>\n",
       "        <td>bennega01</td>\n",
       "        <td>2008</td>\n",
       "        <td>825000.0</td>\n",
       "    </tr>\n",
       "    <tr>\n",
       "        <td>blackbu02</td>\n",
       "        <td>1994</td>\n",
       "        <td>3250000.0</td>\n",
       "    </tr>\n",
       "    <tr>\n",
       "        <td>booneaa01</td>\n",
       "        <td>2009</td>\n",
       "        <td>750000.0</td>\n",
       "    </tr>\n",
       "    <tr>\n",
       "        <td>bouchde01</td>\n",
       "        <td>1994</td>\n",
       "        <td>135000.0</td>\n",
       "    </tr>\n",
       "    <tr>\n",
       "        <td>bowiemi01</td>\n",
       "        <td>2008</td>\n",
       "        <td>650000.0</td>\n",
       "    </tr>\n",
       "    <tr>\n",
       "        <td>brantje01</td>\n",
       "        <td>1999</td>\n",
       "        <td>2800000.0</td>\n",
       "    </tr>\n",
       "    <tr>\n",
       "        <td>burrose01</td>\n",
       "        <td>2012</td>\n",
       "        <td>525000.0</td>\n",
       "    </tr>\n",
       "    <tr>\n",
       "        <td>buterdr01</td>\n",
       "        <td>2015</td>\n",
       "        <td>987500.0</td>\n",
       "    </tr>\n",
       "    <tr>\n",
       "        <td>canalge01</td>\n",
       "        <td>1990</td>\n",
       "        <td>100000.0</td>\n",
       "    </tr>\n",
       "    <tr>\n",
       "        <td>carlybu01</td>\n",
       "        <td>2005</td>\n",
       "        <td>330000.0</td>\n",
       "    </tr>\n",
       "    <tr>\n",
       "        <td>cartela02</td>\n",
       "        <td>2006</td>\n",
       "        <td>550000.0</td>\n",
       "    </tr>\n",
       "    <tr>\n",
       "        <td>castiru01</td>\n",
       "        <td>2014</td>\n",
       "        <td>871429.0</td>\n",
       "    </tr>\n",
       "    <tr>\n",
       "        <td>centeju01</td>\n",
       "        <td>2015</td>\n",
       "        <td>507500.0</td>\n",
       "    </tr>\n",
       "    <tr>\n",
       "        <td>chrisni01</td>\n",
       "        <td>2014</td>\n",
       "        <td>500000.0</td>\n",
       "    </tr>\n",
       "    <tr>\n",
       "        <td>colabch01</td>\n",
       "        <td>2016</td>\n",
       "        <td>521300.0</td>\n",
       "    </tr>\n",
       "    <tr>\n",
       "        <td>conroti01</td>\n",
       "        <td>1987</td>\n",
       "        <td>115000.0</td>\n",
       "    </tr>\n",
       "    <tr>\n",
       "        <td>cormila01</td>\n",
       "        <td>2007</td>\n",
       "        <td>405000.0</td>\n",
       "    </tr>\n",
       "    <tr>\n",
       "        <td>cornere01</td>\n",
       "        <td>1995</td>\n",
       "        <td>109000.0</td>\n",
       "    </tr>\n",
       "    <tr>\n",
       "        <td>crometr01</td>\n",
       "        <td>1993</td>\n",
       "        <td>109000.0</td>\n",
       "    </tr>\n",
       "    <tr>\n",
       "        <td>damicje01</td>\n",
       "        <td>2001</td>\n",
       "        <td>2300000.0</td>\n",
       "    </tr>\n",
       "    <tr>\n",
       "        <td>delarjo01</td>\n",
       "        <td>2011</td>\n",
       "        <td>10000000.0</td>\n",
       "    </tr>\n",
       "    <tr>\n",
       "        <td>dreifda01</td>\n",
       "        <td>2003</td>\n",
       "        <td>12400000.0</td>\n",
       "    </tr>\n",
       "    <tr>\n",
       "        <td>dunnemi01</td>\n",
       "        <td>1990</td>\n",
       "        <td>222500.0</td>\n",
       "    </tr>\n",
       "    <tr>\n",
       "        <td>edmonbr01</td>\n",
       "        <td>1998</td>\n",
       "        <td>170000.0</td>\n",
       "    </tr>\n",
       "    <tr>\n",
       "        <td>eilanda01</td>\n",
       "        <td>1993</td>\n",
       "        <td>135000.0</td>\n",
       "    </tr>\n",
       "    <tr>\n",
       "        <td>elsteke01</td>\n",
       "        <td>1995</td>\n",
       "        <td>300000.0</td>\n",
       "    </tr>\n",
       "    <tr>\n",
       "        <td>erickjo01</td>\n",
       "        <td>1997</td>\n",
       "        <td>200000.0</td>\n",
       "    </tr>\n",
       "    <tr>\n",
       "        <td>fariepa01</td>\n",
       "        <td>1992</td>\n",
       "        <td>122500.0</td>\n",
       "    </tr>\n",
       "    <tr>\n",
       "        <td>fasseje01</td>\n",
       "        <td>2006</td>\n",
       "        <td>750000.0</td>\n",
       "    </tr>\n",
       "    <tr>\n",
       "        <td>floydcl01</td>\n",
       "        <td>1993</td>\n",
       "        <td>109000.0</td>\n",
       "    </tr>\n",
       "    <tr>\n",
       "        <td>floydcl01</td>\n",
       "        <td>2009</td>\n",
       "        <td>750000.0</td>\n",
       "    </tr>\n",
       "    <tr>\n",
       "        <td>foxer01</td>\n",
       "        <td>1995</td>\n",
       "        <td>154000.0</td>\n",
       "    </tr>\n",
       "    <tr>\n",
       "        <td>gaudich01</td>\n",
       "        <td>2011</td>\n",
       "        <td>900000.0</td>\n",
       "    </tr>\n",
       "    <tr>\n",
       "        <td>gedmari01</td>\n",
       "        <td>1990</td>\n",
       "        <td>920000.0</td>\n",
       "    </tr>\n",
       "    <tr>\n",
       "        <td>greggto01</td>\n",
       "        <td>1993</td>\n",
       "        <td>375000.0</td>\n",
       "    </tr>\n",
       "    <tr>\n",
       "        <td>grosski01</td>\n",
       "        <td>1993</td>\n",
       "        <td>165000.0</td>\n",
       "    </tr>\n",
       "    <tr>\n",
       "        <td>hammoje01</td>\n",
       "        <td>2003</td>\n",
       "        <td>8200000.0</td>\n",
       "    </tr>\n",
       "    <tr>\n",
       "        <td>haneych01</td>\n",
       "        <td>1992</td>\n",
       "        <td>118000.0</td>\n",
       "    </tr>\n",
       "    <tr>\n",
       "        <td>hershor01</td>\n",
       "        <td>2000</td>\n",
       "        <td>2000000.0</td>\n",
       "    </tr>\n",
       "    <tr>\n",
       "        <td>higgibo02</td>\n",
       "        <td>2005</td>\n",
       "        <td>8850000.0</td>\n",
       "    </tr>\n",
       "    <tr>\n",
       "        <td>hillmi01</td>\n",
       "        <td>1994</td>\n",
       "        <td>158000.0</td>\n",
       "    </tr>\n",
       "    <tr>\n",
       "        <td>hinojda01</td>\n",
       "        <td>2016</td>\n",
       "        <td>514000.0</td>\n",
       "    </tr>\n",
       "    <tr>\n",
       "        <td>hookch01</td>\n",
       "        <td>1996</td>\n",
       "        <td>109000.0</td>\n",
       "    </tr>\n",
       "    <tr>\n",
       "        <td>huttoma01</td>\n",
       "        <td>1998</td>\n",
       "        <td>265000.0</td>\n",
       "    </tr>\n",
       "    <tr>\n",
       "        <td>ilslebl01</td>\n",
       "        <td>1994</td>\n",
       "        <td>109000.0</td>\n",
       "    </tr>\n",
       "    <tr>\n",
       "        <td>jeffest01</td>\n",
       "        <td>1989</td>\n",
       "        <td>90000.0</td>\n",
       "    </tr>\n",
       "    <tr>\n",
       "        <td>jeffest01</td>\n",
       "        <td>1990</td>\n",
       "        <td>155000.0</td>\n",
       "    </tr>\n",
       "    <tr>\n",
       "        <td>johnske05</td>\n",
       "        <td>2014</td>\n",
       "        <td>3000000.0</td>\n",
       "    </tr>\n",
       "    <tr>\n",
       "        <td>johnsmi02</td>\n",
       "        <td>2001</td>\n",
       "        <td>220000.0</td>\n",
       "    </tr>\n",
       "    <tr>\n",
       "        <td>johnsra05</td>\n",
       "        <td>2007</td>\n",
       "        <td>9100546.0</td>\n",
       "    </tr>\n",
       "    <tr>\n",
       "        <td>juliojo01</td>\n",
       "        <td>2007</td>\n",
       "        <td>3600000.0</td>\n",
       "    </tr>\n",
       "    <tr>\n",
       "        <td>kellyro01</td>\n",
       "        <td>2000</td>\n",
       "        <td>800000.0</td>\n",
       "    </tr>\n",
       "    <tr>\n",
       "        <td>lakest01</td>\n",
       "        <td>1986</td>\n",
       "        <td>60000.0</td>\n",
       "    </tr>\n",
       "    <tr>\n",
       "        <td>landrbi01</td>\n",
       "        <td>1986</td>\n",
       "        <td>60000.0</td>\n",
       "    </tr>\n",
       "    <tr>\n",
       "        <td>leachte01</td>\n",
       "        <td>1989</td>\n",
       "        <td>425000.0</td>\n",
       "    </tr>\n",
       "    <tr>\n",
       "        <td>leiussc01</td>\n",
       "        <td>1993</td>\n",
       "        <td>275000.0</td>\n",
       "    </tr>\n",
       "    <tr>\n",
       "        <td>lerouch01</td>\n",
       "        <td>2012</td>\n",
       "        <td>486000.0</td>\n",
       "    </tr>\n",
       "    <tr>\n",
       "        <td>levisje01</td>\n",
       "        <td>1999</td>\n",
       "        <td>400000.0</td>\n",
       "    </tr>\n",
       "    <tr>\n",
       "        <td>mainejo01</td>\n",
       "        <td>2010</td>\n",
       "        <td>3300000.0</td>\n",
       "    </tr>\n",
       "    <tr>\n",
       "        <td>martijo07</td>\n",
       "        <td>2009</td>\n",
       "        <td>400000.0</td>\n",
       "    </tr>\n",
       "    <tr>\n",
       "        <td>martisa01</td>\n",
       "        <td>2000</td>\n",
       "        <td>318000.0</td>\n",
       "    </tr>\n",
       "    <tr>\n",
       "        <td>marzajo01</td>\n",
       "        <td>1988</td>\n",
       "        <td>77000.0</td>\n",
       "    </tr>\n",
       "    <tr>\n",
       "        <td>mccarbr01</td>\n",
       "        <td>2016</td>\n",
       "        <td>12500000.0</td>\n",
       "    </tr>\n",
       "    <tr>\n",
       "        <td>mcglike01</td>\n",
       "        <td>2000</td>\n",
       "        <td>242000.0</td>\n",
       "    </tr>\n",
       "    <tr>\n",
       "        <td>melusmi01</td>\n",
       "        <td>1999</td>\n",
       "        <td>200000.0</td>\n",
       "    </tr>\n",
       "    <tr>\n",
       "        <td>mercelu01</td>\n",
       "        <td>1993</td>\n",
       "        <td>120000.0</td>\n",
       "    </tr>\n",
       "    <tr>\n",
       "        <td>mlickda01</td>\n",
       "        <td>1998</td>\n",
       "        <td>1250000.0</td>\n",
       "    </tr>\n",
       "    <tr>\n",
       "        <td>moellde01</td>\n",
       "        <td>1993</td>\n",
       "        <td>112000.0</td>\n",
       "    </tr>\n",
       "    <tr>\n",
       "        <td>molingu01</td>\n",
       "        <td>2007</td>\n",
       "        <td>380000.0</td>\n",
       "    </tr>\n",
       "    <tr>\n",
       "        <td>molinjo01</td>\n",
       "        <td>1999</td>\n",
       "        <td>200000.0</td>\n",
       "    </tr>\n",
       "    <tr>\n",
       "        <td>moyerja01</td>\n",
       "        <td>2012</td>\n",
       "        <td>1100000.0</td>\n",
       "    </tr>\n",
       "    <tr>\n",
       "        <td>natalro01</td>\n",
       "        <td>1994</td>\n",
       "        <td>147500.0</td>\n",
       "    </tr>\n",
       "    <tr>\n",
       "        <td>nieuwki01</td>\n",
       "        <td>2015</td>\n",
       "        <td>525415.0</td>\n",
       "    </tr>\n",
       "    <tr>\n",
       "        <td>nieveme01</td>\n",
       "        <td>1994</td>\n",
       "        <td>118000.0</td>\n",
       "    </tr>\n",
       "    <tr>\n",
       "        <td>nixla01</td>\n",
       "        <td>2007</td>\n",
       "        <td>390000.0</td>\n",
       "    </tr>\n",
       "    <tr>\n",
       "        <td>nokesma01</td>\n",
       "        <td>1995</td>\n",
       "        <td>109000.0</td>\n",
       "    </tr>\n",
       "    <tr>\n",
       "        <td>ojedabo01</td>\n",
       "        <td>1987</td>\n",
       "        <td>650000.0</td>\n",
       "    </tr>\n",
       "    <tr>\n",
       "        <td>ottavad01</td>\n",
       "        <td>2015</td>\n",
       "        <td>1300000.0</td>\n",
       "    </tr>\n",
       "    <tr>\n",
       "        <td>paintla01</td>\n",
       "        <td>1993</td>\n",
       "        <td>109000.0</td>\n",
       "    </tr>\n",
       "    <tr>\n",
       "        <td>parrila02</td>\n",
       "        <td>1993</td>\n",
       "        <td>125000.0</td>\n",
       "    </tr>\n",
       "    <tr>\n",
       "        <td>pirklgr01</td>\n",
       "        <td>1995</td>\n",
       "        <td>112500.0</td>\n",
       "    </tr>\n",
       "    <tr>\n",
       "        <td>pughti01</td>\n",
       "        <td>1994</td>\n",
       "        <td>170000.0</td>\n",
       "    </tr>\n",
       "    <tr>\n",
       "        <td>pughti01</td>\n",
       "        <td>1996</td>\n",
       "        <td>195000.0</td>\n",
       "    </tr>\n",
       "    <tr>\n",
       "        <td>ravinjo01</td>\n",
       "        <td>2016</td>\n",
       "        <td>515000.0</td>\n",
       "    </tr>\n",
       "    <tr>\n",
       "        <td>redmama01</td>\n",
       "        <td>2008</td>\n",
       "        <td>1000000.0</td>\n",
       "    </tr>\n",
       "    <tr>\n",
       "        <td>remlimi01</td>\n",
       "        <td>1994</td>\n",
       "        <td>115000.0</td>\n",
       "    </tr>\n",
       "    <tr>\n",
       "        <td>reyesan01</td>\n",
       "        <td>2008</td>\n",
       "        <td>392500.0</td>\n",
       "    </tr>\n",
       "    <tr>\n",
       "        <td>reyesca01</td>\n",
       "        <td>2000</td>\n",
       "        <td>500000.0</td>\n",
       "    </tr>\n",
       "    <tr>\n",
       "        <td>rosenst01</td>\n",
       "        <td>1991</td>\n",
       "        <td>130000.0</td>\n",
       "    </tr>\n",
       "    <tr>\n",
       "        <td>ruffijo01</td>\n",
       "        <td>1995</td>\n",
       "        <td>195000.0</td>\n",
       "    </tr>\n",
       "    <tr>\n",
       "        <td>sageraj01</td>\n",
       "        <td>1995</td>\n",
       "        <td>109000.0</td>\n",
       "    </tr>\n",
       "    <tr>\n",
       "        <td>sanchan01</td>\n",
       "        <td>2008</td>\n",
       "        <td>390000.0</td>\n",
       "    </tr>\n",
       "    <tr>\n",
       "        <td>searcst01</td>\n",
       "        <td>1992</td>\n",
       "        <td>175000.0</td>\n",
       "    </tr>\n",
       "    <tr>\n",
       "        <td>smithgr02</td>\n",
       "        <td>2010</td>\n",
       "        <td>406000.0</td>\n",
       "    </tr>\n",
       "    <tr>\n",
       "        <td>sotoge01</td>\n",
       "        <td>2014</td>\n",
       "        <td>3050000.0</td>\n",
       "    </tr>\n",
       "    <tr>\n",
       "        <td>sternad01</td>\n",
       "        <td>2006</td>\n",
       "        <td>335000.0</td>\n",
       "    </tr>\n",
       "    <tr>\n",
       "        <td>tabakje01</td>\n",
       "        <td>1995</td>\n",
       "        <td>140000.0</td>\n",
       "    </tr>\n",
       "    <tr>\n",
       "        <td>tomlira01</td>\n",
       "        <td>1994</td>\n",
       "        <td>975000.0</td>\n",
       "    </tr>\n",
       "    <tr>\n",
       "        <td>tremich01</td>\n",
       "        <td>1995</td>\n",
       "        <td>109000.0</td>\n",
       "    </tr>\n",
       "    <tr>\n",
       "        <td>tsaoch01</td>\n",
       "        <td>2005</td>\n",
       "        <td>317000.0</td>\n",
       "    </tr>\n",
       "    <tr>\n",
       "        <td>valenjo02</td>\n",
       "        <td>2000</td>\n",
       "        <td>6350000.0</td>\n",
       "    </tr>\n",
       "    <tr>\n",
       "        <td>veresra01</td>\n",
       "        <td>1994</td>\n",
       "        <td>160000.0</td>\n",
       "    </tr>\n",
       "    <tr>\n",
       "        <td>wardtu01</td>\n",
       "        <td>1999</td>\n",
       "        <td>200000.0</td>\n",
       "    </tr>\n",
       "    <tr>\n",
       "        <td>washiul01</td>\n",
       "        <td>1987</td>\n",
       "        <td>80000.0</td>\n",
       "    </tr>\n",
       "    <tr>\n",
       "        <td>weberbe01</td>\n",
       "        <td>2005</td>\n",
       "        <td>600000.0</td>\n",
       "    </tr>\n",
       "    <tr>\n",
       "        <td>wengedo01</td>\n",
       "        <td>1998</td>\n",
       "        <td>240000.0</td>\n",
       "    </tr>\n",
       "    <tr>\n",
       "        <td>whitema02</td>\n",
       "        <td>1998</td>\n",
       "        <td>170000.0</td>\n",
       "    </tr>\n",
       "    <tr>\n",
       "        <td>whitema02</td>\n",
       "        <td>1999</td>\n",
       "        <td>375000.0</td>\n",
       "    </tr>\n",
       "    <tr>\n",
       "        <td>wiggial01</td>\n",
       "        <td>1985</td>\n",
       "        <td>512500.0</td>\n",
       "    </tr>\n",
       "    <tr>\n",
       "        <td>willida07</td>\n",
       "        <td>2002</td>\n",
       "        <td>234000.0</td>\n",
       "    </tr>\n",
       "    <tr>\n",
       "        <td>wilsoni01</td>\n",
       "        <td>1996</td>\n",
       "        <td>125000.0</td>\n",
       "    </tr>\n",
       "    <tr>\n",
       "        <td>woodke02</td>\n",
       "        <td>2012</td>\n",
       "        <td>3000000.0</td>\n",
       "    </tr>\n",
       "</table>"
      ],
      "text/plain": [
       "[('anderla02', 1986, 240000.0),\n",
       " ('ashbyan01', 1992, 109000.0),\n",
       " ('ayraubo01', 1993, 125000.0),\n",
       " ('bankswi01', 1995, 240000.0),\n",
       " ('batchri01', 1997, 157500.0),\n",
       " ('batiski01', 1991, 100000.0),\n",
       " ('beller01', 1993, 145000.0),\n",
       " ('benesan01', 1989, 68000.0),\n",
       " ('bennega01', 2008, 825000.0),\n",
       " ('blackbu02', 1994, 3250000.0),\n",
       " ('booneaa01', 2009, 750000.0),\n",
       " ('bouchde01', 1994, 135000.0),\n",
       " ('bowiemi01', 2008, 650000.0),\n",
       " ('brantje01', 1999, 2800000.0),\n",
       " ('burrose01', 2012, 525000.0),\n",
       " ('buterdr01', 2015, 987500.0),\n",
       " ('canalge01', 1990, 100000.0),\n",
       " ('carlybu01', 2005, 330000.0),\n",
       " ('cartela02', 2006, 550000.0),\n",
       " ('castiru01', 2014, 871429.0),\n",
       " ('centeju01', 2015, 507500.0),\n",
       " ('chrisni01', 2014, 500000.0),\n",
       " ('colabch01', 2016, 521300.0),\n",
       " ('conroti01', 1987, 115000.0),\n",
       " ('cormila01', 2007, 405000.0),\n",
       " ('cornere01', 1995, 109000.0),\n",
       " ('crometr01', 1993, 109000.0),\n",
       " ('damicje01', 2001, 2300000.0),\n",
       " ('delarjo01', 2011, 10000000.0),\n",
       " ('dreifda01', 2003, 12400000.0),\n",
       " ('dunnemi01', 1990, 222500.0),\n",
       " ('edmonbr01', 1998, 170000.0),\n",
       " ('eilanda01', 1993, 135000.0),\n",
       " ('elsteke01', 1995, 300000.0),\n",
       " ('erickjo01', 1997, 200000.0),\n",
       " ('fariepa01', 1992, 122500.0),\n",
       " ('fasseje01', 2006, 750000.0),\n",
       " ('floydcl01', 1993, 109000.0),\n",
       " ('floydcl01', 2009, 750000.0),\n",
       " ('foxer01', 1995, 154000.0),\n",
       " ('gaudich01', 2011, 900000.0),\n",
       " ('gedmari01', 1990, 920000.0),\n",
       " ('greggto01', 1993, 375000.0),\n",
       " ('grosski01', 1993, 165000.0),\n",
       " ('hammoje01', 2003, 8200000.0),\n",
       " ('haneych01', 1992, 118000.0),\n",
       " ('hershor01', 2000, 2000000.0),\n",
       " ('higgibo02', 2005, 8850000.0),\n",
       " ('hillmi01', 1994, 158000.0),\n",
       " ('hinojda01', 2016, 514000.0),\n",
       " ('hookch01', 1996, 109000.0),\n",
       " ('huttoma01', 1998, 265000.0),\n",
       " ('ilslebl01', 1994, 109000.0),\n",
       " ('jeffest01', 1989, 90000.0),\n",
       " ('jeffest01', 1990, 155000.0),\n",
       " ('johnske05', 2014, 3000000.0),\n",
       " ('johnsmi02', 2001, 220000.0),\n",
       " ('johnsra05', 2007, 9100546.0),\n",
       " ('juliojo01', 2007, 3600000.0),\n",
       " ('kellyro01', 2000, 800000.0),\n",
       " ('lakest01', 1986, 60000.0),\n",
       " ('landrbi01', 1986, 60000.0),\n",
       " ('leachte01', 1989, 425000.0),\n",
       " ('leiussc01', 1993, 275000.0),\n",
       " ('lerouch01', 2012, 486000.0),\n",
       " ('levisje01', 1999, 400000.0),\n",
       " ('mainejo01', 2010, 3300000.0),\n",
       " ('martijo07', 2009, 400000.0),\n",
       " ('martisa01', 2000, 318000.0),\n",
       " ('marzajo01', 1988, 77000.0),\n",
       " ('mccarbr01', 2016, 12500000.0),\n",
       " ('mcglike01', 2000, 242000.0),\n",
       " ('melusmi01', 1999, 200000.0),\n",
       " ('mercelu01', 1993, 120000.0),\n",
       " ('mlickda01', 1998, 1250000.0),\n",
       " ('moellde01', 1993, 112000.0),\n",
       " ('molingu01', 2007, 380000.0),\n",
       " ('molinjo01', 1999, 200000.0),\n",
       " ('moyerja01', 2012, 1100000.0),\n",
       " ('natalro01', 1994, 147500.0),\n",
       " ('nieuwki01', 2015, 525415.0),\n",
       " ('nieveme01', 1994, 118000.0),\n",
       " ('nixla01', 2007, 390000.0),\n",
       " ('nokesma01', 1995, 109000.0),\n",
       " ('ojedabo01', 1987, 650000.0),\n",
       " ('ottavad01', 2015, 1300000.0),\n",
       " ('paintla01', 1993, 109000.0),\n",
       " ('parrila02', 1993, 125000.0),\n",
       " ('pirklgr01', 1995, 112500.0),\n",
       " ('pughti01', 1994, 170000.0),\n",
       " ('pughti01', 1996, 195000.0),\n",
       " ('ravinjo01', 2016, 515000.0),\n",
       " ('redmama01', 2008, 1000000.0),\n",
       " ('remlimi01', 1994, 115000.0),\n",
       " ('reyesan01', 2008, 392500.0),\n",
       " ('reyesca01', 2000, 500000.0),\n",
       " ('rosenst01', 1991, 130000.0),\n",
       " ('ruffijo01', 1995, 195000.0),\n",
       " ('sageraj01', 1995, 109000.0),\n",
       " ('sanchan01', 2008, 390000.0),\n",
       " ('searcst01', 1992, 175000.0),\n",
       " ('smithgr02', 2010, 406000.0),\n",
       " ('sotoge01', 2014, 3050000.0),\n",
       " ('sternad01', 2006, 335000.0),\n",
       " ('tabakje01', 1995, 140000.0),\n",
       " ('tomlira01', 1994, 975000.0),\n",
       " ('tremich01', 1995, 109000.0),\n",
       " ('tsaoch01', 2005, 317000.0),\n",
       " ('valenjo02', 2000, 6350000.0),\n",
       " ('veresra01', 1994, 160000.0),\n",
       " ('wardtu01', 1999, 200000.0),\n",
       " ('washiul01', 1987, 80000.0),\n",
       " ('weberbe01', 2005, 600000.0),\n",
       " ('wengedo01', 1998, 240000.0),\n",
       " ('whitema02', 1998, 170000.0),\n",
       " ('whitema02', 1999, 375000.0),\n",
       " ('wiggial01', 1985, 512500.0),\n",
       " ('willida07', 2002, 234000.0),\n",
       " ('wilsoni01', 1996, 125000.0),\n",
       " ('woodke02', 2012, 3000000.0)]"
      ]
     },
     "execution_count": 38,
     "metadata": {},
     "output_type": "execute_result"
    }
   ],
   "source": [
    "result_4ei"
   ]
  },
  {
   "cell_type": "code",
   "execution_count": 72,
   "metadata": {},
   "outputs": [],
   "source": [
    "# Do not delete/edit this cell\n",
    "result_4ei.DataFrame().sort_values(['playerid', 'yearid']).to_csv('results/result_4ei.csv', index=False)"
   ]
  },
  {
   "cell_type": "code",
   "execution_count": 73,
   "metadata": {
    "deletable": false,
    "editable": false
   },
   "outputs": [
    {
     "data": {
      "text/html": [
       "<p><strong><pre style='display: inline;'>q4ei_part1</pre></strong> passed!</p>"
      ],
      "text/plain": [
       "q4ei_part1 results: All test cases passed!"
      ]
     },
     "execution_count": 73,
     "metadata": {},
     "output_type": "execute_result"
    }
   ],
   "source": [
    "grader.check(\"q4ei_part1\")"
   ]
  },
  {
   "cell_type": "markdown",
   "metadata": {},
   "source": [
    "Inspect the query plan and record the execution time and cost."
   ]
  },
  {
   "cell_type": "code",
   "execution_count": 41,
   "metadata": {},
   "outputs": [
    {
     "name": "stdout",
     "output_type": "stream",
     "text": [
      "                                                                                                      QUERY PLAN                                                                                                       \r\n",
      "-----------------------------------------------------------------------------------------------------------------------------------------------------------------------------------------------------------------------\r\n",
      " Group  (cost=3300.41..3300.43 rows=1 width=21) (actual time=36.505..36.555 rows=120 loops=1)\r\n",
      "   Group Key: salaries.playerid, salaries.yearid, salaries.salary\r\n",
      "   ->  Sort  (cost=3300.41..3300.42 rows=1 width=21) (actual time=36.500..36.512 rows=120 loops=1)\r\n",
      "         Sort Key: salaries.playerid, salaries.yearid, salaries.salary\r\n",
      "         Sort Method: quicksort  Memory: 34kB\r\n",
      "         ->  Nested Loop  (cost=0.29..3300.40 rows=1 width=21) (actual time=20.955..36.171 rows=120 loops=1)\r\n",
      "               ->  Seq Scan on appearances  (cost=0.00..3133.84 rows=21 width=20) (actual time=0.041..29.203 rows=1289 loops=1)\r\n",
      "                     Filter: ((g_batting = 10) AND (g_all = 10))\r\n",
      "                     Rows Removed by Filter: 102967\r\n",
      "               ->  Index Scan using salaries_pkey on salaries  (cost=0.29..7.93 rows=1 width=28) (actual time=0.005..0.005 rows=0 loops=1289)\r\n",
      "                     Index Cond: ((yearid = appearances.yearid) AND ((teamid)::text = (appearances.teamid)::text) AND ((lgid)::text = (appearances.lgid)::text) AND ((playerid)::text = (appearances.playerid)::text))\r\n",
      " Planning Time: 2.913 ms\r\n",
      " Execution Time: 36.745 ms\r\n",
      "(13 rows)\r\n",
      "\r\n"
     ]
    }
   ],
   "source": [
    "result_4ei_query_str = \"SELECT salaries.playerid, salaries.yearid, salaries.salary FROM salaries NATURAL JOIN appearances WHERE g_batting = 10 and g_all = 10 GROUP BY salaries.playerid,salaries.yearid,salaries.salary;\"\n",
    "!psql -h localhost -d baseball -c \"explain analyze $result_4ei_query_str\""
   ]
  },
  {
   "cell_type": "code",
   "execution_count": 74,
   "metadata": {},
   "outputs": [],
   "source": [
    "result_4ei_cost = 3300.43\n",
    "result_4ei_timing = 36.745"
   ]
  },
  {
   "cell_type": "code",
   "execution_count": 75,
   "metadata": {
    "deletable": false,
    "editable": false
   },
   "outputs": [
    {
     "data": {
      "text/html": [
       "<p><strong><pre style='display: inline;'>q4ei_part2</pre></strong> passed!</p>"
      ],
      "text/plain": [
       "q4ei_part2 results: All test cases passed!"
      ]
     },
     "execution_count": 75,
     "metadata": {},
     "output_type": "execute_result"
    }
   ],
   "source": [
    "grader.check(\"q4ei_part2\")"
   ]
  },
  {
   "cell_type": "markdown",
   "metadata": {},
   "source": [
    "#### Question 4eii:\n",
    "Now, let's see the impact of adding an index on the `g_batting` column. Create an index on the `g_batting` column. Re-inspect the query from `Question 4ei` and record the execution time and cost."
   ]
  },
  {
   "cell_type": "code",
   "execution_count": 47,
   "metadata": {
    "scrolled": true
   },
   "outputs": [
    {
     "name": "stdout",
     "output_type": "stream",
     "text": [
      " * postgresql://jovyan@127.0.0.1:5432/baseball\n",
      "   postgresql://jovyan@127.0.0.1:5432/postgres\n",
      "Done.\n",
      "Returning data to local variable result_4eii\n"
     ]
    }
   ],
   "source": [
    "%%sql result_4eii << \n",
    "CREATE INDEX g_batting ON appearances(g_batting)"
   ]
  },
  {
   "cell_type": "code",
   "execution_count": 48,
   "metadata": {
    "scrolled": true
   },
   "outputs": [
    {
     "name": "stdout",
     "output_type": "stream",
     "text": [
      "                                                                                                      QUERY PLAN                                                                                                       \r\n",
      "-----------------------------------------------------------------------------------------------------------------------------------------------------------------------------------------------------------------------\r\n",
      " Group  (cost=1782.41..1782.43 rows=1 width=21) (actual time=13.067..13.157 rows=120 loops=1)\r\n",
      "   Group Key: salaries.playerid, salaries.yearid, salaries.salary\r\n",
      "   ->  Sort  (cost=1782.41..1782.42 rows=1 width=21) (actual time=13.059..13.078 rows=120 loops=1)\r\n",
      "         Sort Key: salaries.playerid, salaries.yearid, salaries.salary\r\n",
      "         Sort Method: quicksort  Memory: 34kB\r\n",
      "         ->  Nested Loop  (cost=18.62..1782.40 rows=1 width=21) (actual time=6.670..11.918 rows=120 loops=1)\r\n",
      "               ->  Bitmap Heap Scan on appearances  (cost=18.33..1615.84 rows=21 width=20) (actual time=0.994..5.406 rows=1289 loops=1)\r\n",
      "                     Recheck Cond: (g_batting = 10)\r\n",
      "                     Filter: (g_all = 10)\r\n",
      "                     Rows Removed by Filter: 58\r\n",
      "                     Heap Blocks: exact=899\r\n",
      "                     ->  Bitmap Index Scan on g_batting  (cost=0.00..18.33 rows=1338 width=0) (actual time=0.784..0.786 rows=1347 loops=1)\r\n",
      "                           Index Cond: (g_batting = 10)\r\n",
      "               ->  Index Scan using salaries_pkey on salaries  (cost=0.29..7.93 rows=1 width=28) (actual time=0.004..0.004 rows=0 loops=1289)\r\n",
      "                     Index Cond: ((yearid = appearances.yearid) AND ((teamid)::text = (appearances.teamid)::text) AND ((lgid)::text = (appearances.lgid)::text) AND ((playerid)::text = (appearances.playerid)::text))\r\n",
      " Planning Time: 3.113 ms\r\n",
      " Execution Time: 13.357 ms\r\n",
      "(17 rows)\r\n",
      "\r\n"
     ]
    }
   ],
   "source": [
    "!psql -h localhost -d baseball -c \"explain analyze $result_4ei_query_str\""
   ]
  },
  {
   "cell_type": "code",
   "execution_count": 76,
   "metadata": {},
   "outputs": [],
   "source": [
    "result_4eii_with_index_cost = 1782.43\n",
    "result_4eii_with_index_timing = 13.357"
   ]
  },
  {
   "cell_type": "code",
   "execution_count": 77,
   "metadata": {
    "deletable": false,
    "editable": false
   },
   "outputs": [
    {
     "data": {
      "text/html": [
       "<p><strong><pre style='display: inline;'>q4eii</pre></strong> passed!</p>"
      ],
      "text/plain": [
       "q4eii results: All test cases passed!"
      ]
     },
     "execution_count": 77,
     "metadata": {},
     "output_type": "execute_result"
    }
   ],
   "source": [
    "grader.check(\"q4eii\")"
   ]
  },
  {
   "cell_type": "markdown",
   "metadata": {},
   "source": [
    "In the following question, we will further explore the impact of indexes on query performance. To avoid any interference from the index on the `g_batting` column, drop the index before moving onto the next question."
   ]
  },
  {
   "cell_type": "code",
   "execution_count": 51,
   "metadata": {},
   "outputs": [
    {
     "name": "stdout",
     "output_type": "stream",
     "text": [
      " * postgresql://jovyan@127.0.0.1:5432/baseball\n",
      "   postgresql://jovyan@127.0.0.1:5432/postgres\n",
      "Done.\n"
     ]
    },
    {
     "data": {
      "text/plain": [
       "[]"
      ]
     },
     "execution_count": 51,
     "metadata": {},
     "output_type": "execute_result"
    }
   ],
   "source": [
    "%%sql \n",
    "DROP INDEX g_batting"
   ]
  },
  {
   "cell_type": "markdown",
   "metadata": {},
   "source": [
    "#### Question 4eiii:\n",
    "Write a query that finds the `playerid`, `yearid`, and `salary` for each player that had played 10 games __or__ batted in 10 games. Your query should join the `salaries` and `appearances` table on all the common columns `yearid`, `teamid`, and `playerid`, so feel free to use a natural join."
   ]
  },
  {
   "cell_type": "code",
   "execution_count": 78,
   "metadata": {},
   "outputs": [
    {
     "name": "stdout",
     "output_type": "stream",
     "text": [
      " * postgresql://jovyan@127.0.0.1:5432/baseball\n",
      "   postgresql://jovyan@127.0.0.1:5432/postgres\n",
      "216 rows affected.\n",
      "Returning data to local variable result_4eiii\n"
     ]
    }
   ],
   "source": [
    "%%sql result_4eiii <<\n",
    "SELECT salaries.playerid, salaries.yearid, salaries.salary\n",
    "FROM salaries NATURAL JOIN appearances \n",
    "WHERE g_batting = 10 OR g_all = 10\n",
    "GROUP BY salaries.playerid,salaries.yearid,salaries.salary;"
   ]
  },
  {
   "cell_type": "code",
   "execution_count": 79,
   "metadata": {},
   "outputs": [],
   "source": [
    "# Do not delete/edit this cell\n",
    "result_4eiii.DataFrame().sort_values(['playerid', 'yearid']).to_csv('results/result_4eiii.csv', index=False)"
   ]
  },
  {
   "cell_type": "code",
   "execution_count": 80,
   "metadata": {
    "deletable": false,
    "editable": false
   },
   "outputs": [
    {
     "data": {
      "text/html": [
       "<p><strong><pre style='display: inline;'>q4eiii_part1</pre></strong> passed!</p>"
      ],
      "text/plain": [
       "q4eiii_part1 results: All test cases passed!"
      ]
     },
     "execution_count": 80,
     "metadata": {},
     "output_type": "execute_result"
    }
   ],
   "source": [
    "grader.check(\"q4eiii_part1\")"
   ]
  },
  {
   "cell_type": "code",
   "execution_count": 17,
   "metadata": {},
   "outputs": [
    {
     "name": "stdout",
     "output_type": "stream",
     "text": [
      "                                                                                                                     QUERY PLAN                                                                                                                     \r\n",
      "----------------------------------------------------------------------------------------------------------------------------------------------------------------------------------------------------------------------------------------------------\r\n",
      " Group  (cost=3925.04..3925.06 rows=1 width=21) (actual time=53.248..53.358 rows=216 loops=1)\r\n",
      "   Group Key: salaries.playerid, salaries.yearid, salaries.salary\r\n",
      "   ->  Sort  (cost=3925.04..3925.05 rows=1 width=21) (actual time=53.244..53.275 rows=216 loops=1)\r\n",
      "         Sort Key: salaries.playerid, salaries.yearid, salaries.salary\r\n",
      "         Sort Method: quicksort  Memory: 41kB\r\n",
      "         ->  Hash Join  (cost=3188.26..3925.03 rows=1 width=21) (actual time=36.297..52.690 rows=216 loops=1)\r\n",
      "               Hash Cond: ((salaries.yearid = appearances.yearid) AND ((salaries.teamid)::text = (appearances.teamid)::text) AND ((salaries.lgid)::text = (appearances.lgid)::text) AND ((salaries.playerid)::text = (appearances.playerid)::text))\r\n",
      "               ->  Seq Scan on salaries  (cost=0.00..459.28 rows=26428 width=28) (actual time=0.022..3.958 rows=26428 loops=1)\r\n",
      "               ->  Hash  (cost=3133.84..3133.84 rows=2721 width=20) (actual time=35.897..35.899 rows=1655 loops=1)\r\n",
      "                     Buckets: 4096  Batches: 1  Memory Usage: 118kB\r\n",
      "                     ->  Seq Scan on appearances  (cost=0.00..3133.84 rows=2721 width=20) (actual time=0.021..34.694 rows=1655 loops=1)\r\n",
      "                           Filter: ((g_batting = 10) OR (g_all = 10))\r\n",
      "                           Rows Removed by Filter: 102601\r\n",
      " Planning Time: 2.714 ms\r\n",
      " Execution Time: 53.574 ms\r\n",
      "(15 rows)\r\n",
      "\r\n"
     ]
    }
   ],
   "source": [
    "result_4eiii_query_str = \"SELECT salaries.playerid, salaries.yearid, salaries.salary FROM salaries NATURAL JOIN appearances WHERE g_batting = 10 OR g_all = 10 GROUP BY salaries.playerid,salaries.yearid,salaries.salary;\"\n",
    "!psql -h localhost -d baseball -c \"explain analyze $result_4eiii_query_str\""
   ]
  },
  {
   "cell_type": "code",
   "execution_count": 81,
   "metadata": {},
   "outputs": [],
   "source": [
    "result_4eiii_cost = 3925.06\n",
    "result_4eiii_timing = 53.574"
   ]
  },
  {
   "cell_type": "code",
   "execution_count": 82,
   "metadata": {
    "deletable": false,
    "editable": false
   },
   "outputs": [
    {
     "data": {
      "text/html": [
       "<p><strong><pre style='display: inline;'>q4eiii_part2</pre></strong> passed!</p>"
      ],
      "text/plain": [
       "q4eiii_part2 results: All test cases passed!"
      ]
     },
     "execution_count": 82,
     "metadata": {},
     "output_type": "execute_result"
    }
   ],
   "source": [
    "grader.check(\"q4eiii_part2\")"
   ]
  },
  {
   "cell_type": "markdown",
   "metadata": {},
   "source": [
    "#### Question 4eiv\n",
    "Now, let's see the impact of adding an index on `g_batting` column will have on the query. Re-create the index and re-inspect the query from `Question 4eiii` and record the execution time and cost."
   ]
  },
  {
   "cell_type": "code",
   "execution_count": 20,
   "metadata": {
    "scrolled": true
   },
   "outputs": [
    {
     "name": "stdout",
     "output_type": "stream",
     "text": [
      " * postgresql://jovyan@127.0.0.1:5432/baseball\n",
      "   postgresql://jovyan@127.0.0.1:5432/postgres\n",
      "(psycopg2.errors.DuplicateTable) relation \"g_batting\" already exists\n",
      "\n",
      "[SQL: CREATE INDEX g_batting ON appearances(g_batting)]\n",
      "(Background on this error at: https://sqlalche.me/e/14/f405)\n"
     ]
    }
   ],
   "source": [
    "%%sql result_4eiv << \n",
    "CREATE INDEX g_batting ON appearances(g_batting)"
   ]
  },
  {
   "cell_type": "code",
   "execution_count": 25,
   "metadata": {},
   "outputs": [
    {
     "name": "stdout",
     "output_type": "stream",
     "text": [
      "                                                                                                                     QUERY PLAN                                                                                                                     \r\n",
      "----------------------------------------------------------------------------------------------------------------------------------------------------------------------------------------------------------------------------------------------------\r\n",
      " Group  (cost=3925.04..3925.06 rows=1 width=21) (actual time=58.166..58.278 rows=216 loops=1)\r\n",
      "   Group Key: salaries.playerid, salaries.yearid, salaries.salary\r\n",
      "   ->  Sort  (cost=3925.04..3925.05 rows=1 width=21) (actual time=58.160..58.186 rows=216 loops=1)\r\n",
      "         Sort Key: salaries.playerid, salaries.yearid, salaries.salary\r\n",
      "         Sort Method: quicksort  Memory: 41kB\r\n",
      "         ->  Hash Join  (cost=3188.26..3925.03 rows=1 width=21) (actual time=37.425..57.494 rows=216 loops=1)\r\n",
      "               Hash Cond: ((salaries.yearid = appearances.yearid) AND ((salaries.teamid)::text = (appearances.teamid)::text) AND ((salaries.lgid)::text = (appearances.lgid)::text) AND ((salaries.playerid)::text = (appearances.playerid)::text))\r\n",
      "               ->  Seq Scan on salaries  (cost=0.00..459.28 rows=26428 width=28) (actual time=0.024..4.319 rows=26428 loops=1)\r\n",
      "               ->  Hash  (cost=3133.84..3133.84 rows=2721 width=20) (actual time=36.992..36.994 rows=1655 loops=1)\r\n",
      "                     Buckets: 4096  Batches: 1  Memory Usage: 118kB\r\n",
      "                     ->  Seq Scan on appearances  (cost=0.00..3133.84 rows=2721 width=20) (actual time=0.024..35.547 rows=1655 loops=1)\r\n",
      "                           Filter: ((g_batting = 10) OR (g_all = 10))\r\n",
      "                           Rows Removed by Filter: 102601\r\n",
      " Planning Time: 3.293 ms\r\n",
      " Execution Time: 58.533 ms\r\n",
      "(15 rows)\r\n",
      "\r\n"
     ]
    }
   ],
   "source": [
    "!psql -h localhost -d baseball -c \"explain analyze $result_4eiii_query_str\""
   ]
  },
  {
   "cell_type": "code",
   "execution_count": 83,
   "metadata": {},
   "outputs": [],
   "source": [
    "result_4eiv_with_index_cost = 3928.68\n",
    "result_4eiv_with_index_timing = 58.533"
   ]
  },
  {
   "cell_type": "code",
   "execution_count": 84,
   "metadata": {
    "deletable": false,
    "editable": false
   },
   "outputs": [
    {
     "data": {
      "text/html": [
       "<p><strong><pre style='display: inline;'>q4eiv</pre></strong> passed!</p>"
      ],
      "text/plain": [
       "q4eiv results: All test cases passed!"
      ]
     },
     "execution_count": 84,
     "metadata": {},
     "output_type": "execute_result"
    }
   ],
   "source": [
    "grader.check(\"q4eiv\")"
   ]
  },
  {
   "cell_type": "markdown",
   "metadata": {},
   "source": [
    "In the following question, we will further explore the impact of indexes on query performance. To avoid any interference from the index on the `g_batting` column, drop the index before moving onto the next question."
   ]
  },
  {
   "cell_type": "code",
   "execution_count": 18,
   "metadata": {},
   "outputs": [
    {
     "name": "stdout",
     "output_type": "stream",
     "text": [
      " * postgresql://jovyan@127.0.0.1:5432/baseball\n",
      "   postgresql://jovyan@127.0.0.1:5432/postgres\n",
      "Done.\n"
     ]
    },
    {
     "data": {
      "text/plain": [
       "[]"
      ]
     },
     "execution_count": 18,
     "metadata": {},
     "output_type": "execute_result"
    }
   ],
   "source": [
    "%%sql \n",
    "DROP INDEX g_batting"
   ]
  },
  {
   "cell_type": "markdown",
   "metadata": {},
   "source": [
    "#### Question 4ev:\n",
    "Now, create a multiple column index on `g_batting` and `g_all` called `g_batting_g_all_idx` and record the query execution time and cost."
   ]
  },
  {
   "cell_type": "code",
   "execution_count": 19,
   "metadata": {},
   "outputs": [
    {
     "name": "stdout",
     "output_type": "stream",
     "text": [
      " * postgresql://jovyan@127.0.0.1:5432/baseball\n",
      "   postgresql://jovyan@127.0.0.1:5432/postgres\n",
      "Done.\n",
      "Returning data to local variable result_4v\n"
     ]
    }
   ],
   "source": [
    "%%sql result_4v <<\n",
    "CREATE INDEX g_batting_g_all_idx ON appearances(g_batting, g_all)"
   ]
  },
  {
   "cell_type": "code",
   "execution_count": 20,
   "metadata": {},
   "outputs": [
    {
     "name": "stdout",
     "output_type": "stream",
     "text": [
      "                                                                                                                     QUERY PLAN                                                                                                                     \r\n",
      "----------------------------------------------------------------------------------------------------------------------------------------------------------------------------------------------------------------------------------------------------\r\n",
      " Group  (cost=3616.45..3616.46 rows=1 width=21) (actual time=34.257..34.351 rows=216 loops=1)\r\n",
      "   Group Key: salaries.playerid, salaries.yearid, salaries.salary\r\n",
      "   ->  Sort  (cost=3616.45..3616.46 rows=1 width=21) (actual time=34.253..34.276 rows=216 loops=1)\r\n",
      "         Sort Key: salaries.playerid, salaries.yearid, salaries.salary\r\n",
      "         Sort Method: quicksort  Memory: 41kB\r\n",
      "         ->  Hash Join  (cost=2879.67..3616.44 rows=1 width=21) (actual time=11.538..33.674 rows=216 loops=1)\r\n",
      "               Hash Cond: ((salaries.yearid = appearances.yearid) AND ((salaries.teamid)::text = (appearances.teamid)::text) AND ((salaries.lgid)::text = (appearances.lgid)::text) AND ((salaries.playerid)::text = (appearances.playerid)::text))\r\n",
      "               ->  Seq Scan on salaries  (cost=0.00..459.28 rows=26428 width=28) (actual time=0.021..5.232 rows=26428 loops=1)\r\n",
      "               ->  Hash  (cost=2821.63..2821.63 rows=2902 width=20) (actual time=11.189..11.193 rows=1655 loops=1)\r\n",
      "                     Buckets: 4096  Batches: 1  Memory Usage: 118kB\r\n",
      "                     ->  Bitmap Heap Scan on appearances  (cost=1182.04..2821.63 rows=2902 width=20) (actual time=5.105..10.230 rows=1655 loops=1)\r\n",
      "                           Recheck Cond: ((g_batting = 10) OR (g_all = 10))\r\n",
      "                           Heap Blocks: exact=1027\r\n",
      "                           ->  BitmapOr  (cost=1182.04..1182.04 rows=2923 width=0) (actual time=4.881..4.883 rows=0 loops=1)\r\n",
      "                                 ->  Bitmap Index Scan on g_batting_g_all_idx  (cost=0.00..18.38 rows=1345 width=0) (actual time=0.325..0.326 rows=1347 loops=1)\r\n",
      "                                       Index Cond: (g_batting = 10)\r\n",
      "                                 ->  Bitmap Index Scan on g_batting_g_all_idx  (cost=0.00..1162.21 rows=1578 width=0) (actual time=4.548..4.548 rows=1597 loops=1)\r\n",
      "                                       Index Cond: (g_all = 10)\r\n",
      " Planning Time: 6.969 ms\r\n",
      " Execution Time: 35.686 ms\r\n",
      "(20 rows)\r\n",
      "\r\n"
     ]
    }
   ],
   "source": [
    "!psql -h localhost -d baseball -c \"explain analyze $result_4eiii_query_str\""
   ]
  },
  {
   "cell_type": "code",
   "execution_count": 85,
   "metadata": {},
   "outputs": [],
   "source": [
    "result_4ev_multiple_col_index_cost = 3616.46\n",
    "result_4ev_multiple_col_index_timing = 35.686"
   ]
  },
  {
   "cell_type": "code",
   "execution_count": 86,
   "metadata": {
    "deletable": false,
    "editable": false
   },
   "outputs": [
    {
     "data": {
      "text/html": [
       "<p><strong><pre style='display: inline;'>q4ev</pre></strong> passed!</p>"
      ],
      "text/plain": [
       "q4ev results: All test cases passed!"
      ]
     },
     "execution_count": 86,
     "metadata": {},
     "output_type": "execute_result"
    }
   ],
   "source": [
    "grader.check(\"q4ev\")"
   ]
  },
  {
   "cell_type": "markdown",
   "metadata": {
    "deletable": false,
    "editable": false
   },
   "source": [
    "#### Question 4evi:\n",
    "Given your findings from inspecting the query plans from `Question 4e`, answer the following question. Assign the variable `q4e_part6` to a list of all statements that are true.\n",
    "\n",
    "1. Consider the following statements:\n",
    "    1. Adding an index on a column used in an AND predicate will reduce the query time, but not the execution cost.\n",
    "    1. Adding an index on a column used in an AND predicate will reduce the query cost, but not the execution time.\n",
    "    1. Adding an index on a column used in an AND predicate will reduce the query cost and the execution time.\n",
    "    1. Adding an index on a column used in an OR predicate will reduce the query time, but not the execution cost.\n",
    "    1. Adding an index on a column used in an OR predicate will reduce the query cost, but not the execution time.\n",
    "    1. Adding an index on a column used in an OR predicate will reduce the query cost and the execution time.\n",
    "    1. Adding a mutlicolumn index on columns in an OR predicate will reduce the query time, but not the execution cost.\n",
    "    1. Adding a mutlicolumn index on columns in an OR predicate will reduce the query cost, but not the execution time.\n",
    "    1. Adding a mutlicolumn index on columns in an OR predicate will reduce the query cost and the execution time.\n",
    "\n",
    "**Note:** Your answer should be formatted as follows: `q4e_part6 = ['A', 'B']`\n",
    "\n",
    "<!--\n",
    "BEGIN QUESTION\n",
    "name: q4evi\n",
    "points: 2\n",
    "-->"
   ]
  },
  {
   "cell_type": "code",
   "execution_count": 87,
   "metadata": {},
   "outputs": [],
   "source": [
    "q4e_part6 = ['C', 'I']"
   ]
  },
  {
   "cell_type": "code",
   "execution_count": 88,
   "metadata": {
    "deletable": false,
    "editable": false
   },
   "outputs": [
    {
     "data": {
      "text/html": [
       "<p><strong><pre style='display: inline;'>q4evi</pre></strong> passed!</p>"
      ],
      "text/plain": [
       "q4evi results: All test cases passed!"
      ]
     },
     "execution_count": 88,
     "metadata": {},
     "output_type": "execute_result"
    }
   ],
   "source": [
    "grader.check(\"q4evi\")"
   ]
  },
  {
   "cell_type": "markdown",
   "metadata": {
    "deletable": false,
    "editable": false
   },
   "source": [
    "<!-- BEGIN QUESTION -->\n",
    "\n",
    "#### Question 4evii\n",
    "\n",
    "Explain your answer to the previous part based on your knowledge from lectures, and details of the query plans (your explanation should include why you didn't choose certain options).\n",
    "\n",
    "<!--\n",
    "BEGIN QUESTION\n",
    "name: q4evii\n",
    "manual: true\n",
    "points: 2\n",
    "-->"
   ]
  },
  {
   "cell_type": "markdown",
   "metadata": {},
   "source": [
    "When adding an index on a column used in the AND predicate, the execution time and query cost decreased to 1882.43 and 13.357. It retrieves the data for the g_batting column at a much faster rate which improves performance for the overall query as it allows for the short-circuiting property of AND to execute much faster where the indexed column any false value in the indexed column will allow for the other column to not be considered for that specific entry. \n",
    "\n",
    "The index created for the column used in the OR predicate did not reduce the query cost or timing because both columns in the OR predicate would need to be fully checked in order to satisfy the predicate and having an indexed column does not make a difference for the query performance. \n",
    "\n",
    "A multicolumn index are very useful when filtering by multiple columns which is the situation in this case and as a result both the cost and execution time decreased for the OR predicate query. "
   ]
  },
  {
   "cell_type": "markdown",
   "metadata": {},
   "source": [
    "<!-- END QUESTION -->\n",
    "\n",
    "\n",
    "\n",
    "## Question 5: More Indexes\n",
    "### Question 5a:\n",
    "Write 2 queries: one that finds the minimum salary from the salary table and one that finds the average. Inspect the queries' query plans and record their execution times and costs."
   ]
  },
  {
   "cell_type": "code",
   "execution_count": 25,
   "metadata": {},
   "outputs": [
    {
     "name": "stdout",
     "output_type": "stream",
     "text": [
      " * postgresql://jovyan@127.0.0.1:5432/baseball\n",
      "   postgresql://jovyan@127.0.0.1:5432/postgres\n",
      "1 rows affected.\n",
      "Returning data to local variable result_5a_min\n"
     ]
    }
   ],
   "source": [
    "%%sql result_5a_min << \n",
    "SELECT MIN(salary)\n",
    "FROM salaries"
   ]
  },
  {
   "cell_type": "code",
   "execution_count": 26,
   "metadata": {},
   "outputs": [
    {
     "name": "stdout",
     "output_type": "stream",
     "text": [
      "                                                    QUERY PLAN                                                    \r\n",
      "------------------------------------------------------------------------------------------------------------------\r\n",
      " Aggregate  (cost=525.35..525.36 rows=1 width=8) (actual time=8.965..8.967 rows=1 loops=1)\r\n",
      "   ->  Seq Scan on salaries  (cost=0.00..459.28 rows=26428 width=8) (actual time=0.019..3.918 rows=26428 loops=1)\r\n",
      " Planning Time: 1.049 ms\r\n",
      " Execution Time: 9.091 ms\r\n",
      "(4 rows)\r\n",
      "\r\n"
     ]
    }
   ],
   "source": [
    "result_5a_min_query_str = \"SELECT MIN(salary) FROM salaries\"\n",
    "!psql -h localhost -d baseball -c \"explain analyze $result_5a_min_query_str\""
   ]
  },
  {
   "cell_type": "code",
   "execution_count": 89,
   "metadata": {},
   "outputs": [],
   "source": [
    "result_5a_min_query_cost = 525.36\n",
    "result_5a_min_query_timing = 9.091"
   ]
  },
  {
   "cell_type": "code",
   "execution_count": 90,
   "metadata": {
    "deletable": false,
    "editable": false
   },
   "outputs": [
    {
     "data": {
      "text/html": [
       "<p><strong><pre style='display: inline;'>q5ai</pre></strong> passed!</p>"
      ],
      "text/plain": [
       "q5ai results: All test cases passed!"
      ]
     },
     "execution_count": 90,
     "metadata": {},
     "output_type": "execute_result"
    }
   ],
   "source": [
    "grader.check(\"q5ai\")"
   ]
  },
  {
   "cell_type": "code",
   "execution_count": 29,
   "metadata": {},
   "outputs": [
    {
     "name": "stdout",
     "output_type": "stream",
     "text": [
      " * postgresql://jovyan@127.0.0.1:5432/baseball\n",
      "   postgresql://jovyan@127.0.0.1:5432/postgres\n",
      "1 rows affected.\n",
      "Returning data to local variable result_5a_avg\n"
     ]
    }
   ],
   "source": [
    "%%sql result_5a_avg <<\n",
    "SELECT AVG(salary)\n",
    "FROM salaries"
   ]
  },
  {
   "cell_type": "code",
   "execution_count": 30,
   "metadata": {},
   "outputs": [
    {
     "name": "stdout",
     "output_type": "stream",
     "text": [
      "                                                    QUERY PLAN                                                    \r\n",
      "------------------------------------------------------------------------------------------------------------------\r\n",
      " Aggregate  (cost=525.35..525.36 rows=1 width=8) (actual time=9.600..9.602 rows=1 loops=1)\r\n",
      "   ->  Seq Scan on salaries  (cost=0.00..459.28 rows=26428 width=8) (actual time=0.018..3.741 rows=26428 loops=1)\r\n",
      " Planning Time: 0.554 ms\r\n",
      " Execution Time: 9.713 ms\r\n",
      "(4 rows)\r\n",
      "\r\n"
     ]
    }
   ],
   "source": [
    "result_5a_avg_query_str = \"SELECT AVG(salary) FROM salaries\"\n",
    "!psql -h localhost -d baseball -c \"explain analyze $result_5a_avg_query_str\""
   ]
  },
  {
   "cell_type": "code",
   "execution_count": 91,
   "metadata": {},
   "outputs": [],
   "source": [
    "result_5a_avg_query_cost = 525.36\n",
    "result_5a_avg_query_timing = 9.713"
   ]
  },
  {
   "cell_type": "code",
   "execution_count": 92,
   "metadata": {
    "deletable": false,
    "editable": false
   },
   "outputs": [
    {
     "data": {
      "text/html": [
       "<p><strong><pre style='display: inline;'>q5aii</pre></strong> passed!</p>"
      ],
      "text/plain": [
       "q5aii results: All test cases passed!"
      ]
     },
     "execution_count": 92,
     "metadata": {},
     "output_type": "execute_result"
    }
   ],
   "source": [
    "grader.check(\"q5aii\")"
   ]
  },
  {
   "cell_type": "markdown",
   "metadata": {},
   "source": [
    "### Question 5b:\n",
    "Create an index on the `salary` column in the `salaries` table and re-inspect the query plans from the previous part and record the respective execution time and cost."
   ]
  },
  {
   "cell_type": "code",
   "execution_count": 42,
   "metadata": {},
   "outputs": [
    {
     "name": "stdout",
     "output_type": "stream",
     "text": [
      " * postgresql://jovyan@127.0.0.1:5432/baseball\n",
      "   postgresql://jovyan@127.0.0.1:5432/postgres\n",
      "Done.\n"
     ]
    },
    {
     "data": {
      "text/plain": [
       "[]"
      ]
     },
     "execution_count": 42,
     "metadata": {},
     "output_type": "execute_result"
    }
   ],
   "source": [
    "%%sql \n",
    "CREATE INDEX salary_idx ON salaries(salary)"
   ]
  },
  {
   "cell_type": "code",
   "execution_count": 43,
   "metadata": {},
   "outputs": [
    {
     "name": "stdout",
     "output_type": "stream",
     "text": [
      "                                                                  QUERY PLAN                                                                  \r\n",
      "----------------------------------------------------------------------------------------------------------------------------------------------\r\n",
      " Result  (cost=0.32..0.33 rows=1 width=8) (actual time=0.093..0.094 rows=1 loops=1)\r\n",
      "   InitPlan 1 (returns $0)\r\n",
      "     ->  Limit  (cost=0.29..0.32 rows=1 width=8) (actual time=0.089..0.090 rows=1 loops=1)\r\n",
      "           ->  Index Only Scan using salary_idx on salaries  (cost=0.29..762.78 rows=26428 width=8) (actual time=0.088..0.088 rows=1 loops=1)\r\n",
      "                 Index Cond: (salary IS NOT NULL)\r\n",
      "                 Heap Fetches: 0\r\n",
      " Planning Time: 1.018 ms\r\n",
      " Execution Time: 0.180 ms\r\n",
      "(8 rows)\r\n",
      "\r\n"
     ]
    }
   ],
   "source": [
    "!psql -h localhost -d baseball -c \"explain analyze $result_5a_min_query_str\""
   ]
  },
  {
   "cell_type": "code",
   "execution_count": 93,
   "metadata": {},
   "outputs": [],
   "source": [
    "result_5b_min_query_cost = .33\n",
    "result_5b_min_query_timing = .180"
   ]
  },
  {
   "cell_type": "code",
   "execution_count": 94,
   "metadata": {
    "deletable": false,
    "editable": false
   },
   "outputs": [
    {
     "data": {
      "text/html": [
       "<p><strong><pre style='display: inline;'>q5bi</pre></strong> passed!</p>"
      ],
      "text/plain": [
       "q5bi results: All test cases passed!"
      ]
     },
     "execution_count": 94,
     "metadata": {},
     "output_type": "execute_result"
    }
   ],
   "source": [
    "grader.check(\"q5bi\")"
   ]
  },
  {
   "cell_type": "code",
   "execution_count": 46,
   "metadata": {},
   "outputs": [
    {
     "name": "stdout",
     "output_type": "stream",
     "text": [
      "                                                    QUERY PLAN                                                    \r\n",
      "------------------------------------------------------------------------------------------------------------------\r\n",
      " Aggregate  (cost=525.35..525.36 rows=1 width=8) (actual time=13.433..13.435 rows=1 loops=1)\r\n",
      "   ->  Seq Scan on salaries  (cost=0.00..459.28 rows=26428 width=8) (actual time=0.020..4.541 rows=26428 loops=1)\r\n",
      " Planning Time: 0.801 ms\r\n",
      " Execution Time: 13.577 ms\r\n",
      "(4 rows)\r\n",
      "\r\n"
     ]
    }
   ],
   "source": [
    "!psql -h localhost -d baseball -c \"explain analyze $result_5a_avg_query_str\""
   ]
  },
  {
   "cell_type": "code",
   "execution_count": 95,
   "metadata": {},
   "outputs": [],
   "source": [
    "result_5b_avg_query_cost = 525.36\n",
    "result_5b_avg_query_timing = 13.577"
   ]
  },
  {
   "cell_type": "code",
   "execution_count": 96,
   "metadata": {
    "deletable": false,
    "editable": false
   },
   "outputs": [
    {
     "data": {
      "text/html": [
       "<p><strong><pre style='display: inline;'>q5bii</pre></strong> passed!</p>"
      ],
      "text/plain": [
       "q5bii results: All test cases passed!"
      ]
     },
     "execution_count": 96,
     "metadata": {},
     "output_type": "execute_result"
    }
   ],
   "source": [
    "grader.check(\"q5bii\")"
   ]
  },
  {
   "cell_type": "markdown",
   "metadata": {},
   "source": [
    "In the following questions, we will further explore the impact of indexes on query performance. To avoid any interference from the index on the `salary` column, drop the index before moving onto the next question."
   ]
  },
  {
   "cell_type": "code",
   "execution_count": 49,
   "metadata": {},
   "outputs": [
    {
     "name": "stdout",
     "output_type": "stream",
     "text": [
      " * postgresql://jovyan@127.0.0.1:5432/baseball\n",
      "   postgresql://jovyan@127.0.0.1:5432/postgres\n",
      "Done.\n"
     ]
    },
    {
     "data": {
      "text/plain": [
       "[]"
      ]
     },
     "execution_count": 49,
     "metadata": {},
     "output_type": "execute_result"
    }
   ],
   "source": [
    "%%sql \n",
    "DROP INDEX salary_idx"
   ]
  },
  {
   "cell_type": "markdown",
   "metadata": {
    "deletable": false,
    "editable": false
   },
   "source": [
    "### Question 5c:\n",
    "Given your findings from `Question 5a-b`, answer the following question. Assign the variable `q5c` to the correct answer choice.\n",
    "\n",
    "1. Which of the following statements is true?\n",
    "    1. An index on the column being aggregated in a query will always provide a performance enhancement.\n",
    "    1. A query finding the MIN(salary) will always benefit from an index on salary, but a query finding MAX(salary) will not.\n",
    "    1. A query finding the COUNT(salary) will always benefit from an index on salary, but a query finding AVG(salary) will not.\n",
    "    1. Queries finding the MIN(salary) or MAX(salary) will always benefit from an index on salary, but queries finding AVG(salary) or COUNT(salary) will not.\n",
    "\n",
    "*Note:* Your answer should be formatted as follows: `q5c = ['A', 'B']`\n",
    "\n",
    "<!--\n",
    "BEGIN QUESTION\n",
    "name: q5c\n",
    "points: 1\n",
    "-->"
   ]
  },
  {
   "cell_type": "code",
   "execution_count": 97,
   "metadata": {},
   "outputs": [],
   "source": [
    "q5c = ['D']"
   ]
  },
  {
   "cell_type": "code",
   "execution_count": 98,
   "metadata": {
    "deletable": false,
    "editable": false
   },
   "outputs": [
    {
     "data": {
      "text/html": [
       "<p><strong><pre style='display: inline;'>q5c</pre></strong> passed!</p>"
      ],
      "text/plain": [
       "q5c results: All test cases passed!"
      ]
     },
     "execution_count": 98,
     "metadata": {},
     "output_type": "execute_result"
    }
   ],
   "source": [
    "grader.check(\"q5c\")"
   ]
  },
  {
   "cell_type": "markdown",
   "metadata": {
    "deletable": false,
    "editable": false
   },
   "source": [
    "<!-- BEGIN QUESTION -->\n",
    "\n",
    "### Question 5d:\n",
    "\n",
    "Explain your answer to the previous part based on your knowledge from lectures, and your inspection of the query plans.\n",
    "\n",
    "<!--\n",
    "BEGIN QUESTION\n",
    "name: q5d\n",
    "manual: true\n",
    "points: 2\n",
    "-->"
   ]
  },
  {
   "cell_type": "markdown",
   "metadata": {},
   "source": [
    "It is shown throuh the query plans that when an index is made on salary, finding the minimum and maxmum salary has a reduced exectution time (.180) and query cost (.33). The index essentially speeds up the query by allowing you to find a certain value in a table much easier which is exactly what the min() and max() functions do. On the other hand, COUNT() and AVG() still requieres the query to look throuh each entry in the table to calculate those values so an index would not help with optimization. "
   ]
  },
  {
   "cell_type": "markdown",
   "metadata": {},
   "source": [
    "<!-- END QUESTION -->\n",
    "\n",
    "\n",
    "\n",
    "## Question 6: Clustered Indexes\n",
    "In this question, we will inspect the impact that clustering our data on an index can have on a query's performance.\n",
    "\n",
    "### Question 6a\n",
    "Write a query that finds the `playerid`, `yearid`, `teamid`, and `ab` for all players whose `ab` was above 500. Inspect the query plan and record the execution time and cost."
   ]
  },
  {
   "cell_type": "code",
   "execution_count": 99,
   "metadata": {},
   "outputs": [
    {
     "name": "stdout",
     "output_type": "stream",
     "text": [
      " * postgresql://jovyan@127.0.0.1:5432/baseball\n",
      "   postgresql://jovyan@127.0.0.1:5432/postgres\n",
      "8839 rows affected.\n",
      "Returning data to local variable result_6a\n"
     ]
    }
   ],
   "source": [
    "%%sql result_6a <<\n",
    "SELECT playerid, yearid, teamid, ab\n",
    "FROM batting\n",
    "WHERE ab > 500"
   ]
  },
  {
   "cell_type": "code",
   "execution_count": 100,
   "metadata": {},
   "outputs": [],
   "source": [
    "# Do not delete/edit this cell\n",
    "result_6a.DataFrame().sort_values(['playerid', 'yearid', 'teamid']).iloc[:1000].to_csv('results/result_6a.csv', index=False)"
   ]
  },
  {
   "cell_type": "code",
   "execution_count": 101,
   "metadata": {
    "deletable": false,
    "editable": false
   },
   "outputs": [
    {
     "data": {
      "text/html": [
       "<p><strong><pre style='display: inline;'>q6ai</pre></strong> passed!</p>"
      ],
      "text/plain": [
       "q6ai results: All test cases passed!"
      ]
     },
     "execution_count": 101,
     "metadata": {},
     "output_type": "execute_result"
    }
   ],
   "source": [
    "grader.check(\"q6ai\")"
   ]
  },
  {
   "cell_type": "code",
   "execution_count": 12,
   "metadata": {},
   "outputs": [
    {
     "name": "stdout",
     "output_type": "stream",
     "text": [
      "                                                 QUERY PLAN                                                 \r\n",
      "------------------------------------------------------------------------------------------------------------\r\n",
      " Seq Scan on batting  (cost=0.00..2884.05 rows=8922 width=21) (actual time=0.288..13.647 rows=8839 loops=1)\r\n",
      "   Filter: (ab > 500)\r\n",
      "   Rows Removed by Filter: 95485\r\n",
      " Planning Time: 0.408 ms\r\n",
      " Execution Time: 14.036 ms\r\n",
      "(5 rows)\r\n",
      "\r\n"
     ]
    }
   ],
   "source": [
    "result_6a_query_str = \"SELECT playerid, yearid, teamid, ab FROM batting WHERE ab > 500\"\n",
    "!psql -h localhost -d baseball -c \"explain analyze $result_6a_query_str\""
   ]
  },
  {
   "cell_type": "code",
   "execution_count": 102,
   "metadata": {},
   "outputs": [],
   "source": [
    "result_6a_cost = 2884.05\n",
    "result_6a_timing = 14.036"
   ]
  },
  {
   "cell_type": "code",
   "execution_count": 103,
   "metadata": {
    "deletable": false,
    "editable": false
   },
   "outputs": [
    {
     "data": {
      "text/html": [
       "<p><strong><pre style='display: inline;'>q6aii</pre></strong> passed!</p>"
      ],
      "text/plain": [
       "q6aii results: All test cases passed!"
      ]
     },
     "execution_count": 103,
     "metadata": {},
     "output_type": "execute_result"
    }
   ],
   "source": [
    "grader.check(\"q6aii\")"
   ]
  },
  {
   "cell_type": "markdown",
   "metadata": {},
   "source": [
    "### Question 6b:\n",
    "Cluster the `batting` table on its primary key (hint: use `\\di` to find out what name of the primary key is). We are able to directly cluster on the primary key (without first creating a separate index) because Postgres automatically creates an index for it. Re-inspect the query plan for the query from `Question 6a` and record the execution time and cost."
   ]
  },
  {
   "cell_type": "code",
   "execution_count": 15,
   "metadata": {},
   "outputs": [
    {
     "name": "stdout",
     "output_type": "stream",
     "text": [
      " * postgresql://jovyan@127.0.0.1:5432/baseball\n",
      "   postgresql://jovyan@127.0.0.1:5432/postgres\n",
      "Done.\n"
     ]
    },
    {
     "data": {
      "text/plain": [
       "[]"
      ]
     },
     "execution_count": 15,
     "metadata": {},
     "output_type": "execute_result"
    }
   ],
   "source": [
    "%%sql \n",
    "CLUSTER batting USING batting_pkey"
   ]
  },
  {
   "cell_type": "code",
   "execution_count": 16,
   "metadata": {},
   "outputs": [
    {
     "name": "stdout",
     "output_type": "stream",
     "text": [
      "                                                 QUERY PLAN                                                 \r\n",
      "------------------------------------------------------------------------------------------------------------\r\n",
      " Seq Scan on batting  (cost=0.00..2878.05 rows=8922 width=21) (actual time=0.016..14.241 rows=8839 loops=1)\r\n",
      "   Filter: (ab > 500)\r\n",
      "   Rows Removed by Filter: 95485\r\n",
      " Planning Time: 0.477 ms\r\n",
      " Execution Time: 14.617 ms\r\n",
      "(5 rows)\r\n",
      "\r\n"
     ]
    }
   ],
   "source": [
    "!psql -h localhost -d baseball -c \"explain analyze $result_6a_query_str\""
   ]
  },
  {
   "cell_type": "code",
   "execution_count": 104,
   "metadata": {},
   "outputs": [],
   "source": [
    "result_6b_cost = 1785.28\n",
    "result_6b_timing = 14.617"
   ]
  },
  {
   "cell_type": "code",
   "execution_count": 105,
   "metadata": {
    "deletable": false,
    "editable": false
   },
   "outputs": [
    {
     "data": {
      "text/html": [
       "<p><strong><pre style='display: inline;'>q6b</pre></strong> passed!</p>"
      ],
      "text/plain": [
       "q6b results: All test cases passed!"
      ]
     },
     "execution_count": 105,
     "metadata": {},
     "output_type": "execute_result"
    }
   ],
   "source": [
    "grader.check(\"q6b\")"
   ]
  },
  {
   "cell_type": "markdown",
   "metadata": {},
   "source": [
    "### Question 6c\n",
    "Now, let's try clustering the table based on another index. Create an index on `ab` column called `ab_idx` in the `batting` table AND cluster the `batting` table with this new index. Now, re-inspect the query plan and record the execution time and cost."
   ]
  },
  {
   "cell_type": "code",
   "execution_count": 19,
   "metadata": {},
   "outputs": [
    {
     "name": "stdout",
     "output_type": "stream",
     "text": [
      " * postgresql://jovyan@127.0.0.1:5432/baseball\n",
      "   postgresql://jovyan@127.0.0.1:5432/postgres\n",
      "Done.\n"
     ]
    },
    {
     "data": {
      "text/plain": [
       "[]"
      ]
     },
     "execution_count": 19,
     "metadata": {},
     "output_type": "execute_result"
    }
   ],
   "source": [
    "%%sql \n",
    "CREATE INDEX ab_idx on batting(ab)"
   ]
  },
  {
   "cell_type": "code",
   "execution_count": 20,
   "metadata": {},
   "outputs": [
    {
     "name": "stdout",
     "output_type": "stream",
     "text": [
      "                                                      QUERY PLAN                                                      \r\n",
      "----------------------------------------------------------------------------------------------------------------------\r\n",
      " Bitmap Heap Scan on batting  (cost=101.44..1786.96 rows=8922 width=21) (actual time=0.862..5.263 rows=8839 loops=1)\r\n",
      "   Recheck Cond: (ab > 500)\r\n",
      "   Heap Blocks: exact=1311\r\n",
      "   ->  Bitmap Index Scan on ab_idx  (cost=0.00..99.21 rows=8922 width=0) (actual time=0.660..0.661 rows=8839 loops=1)\r\n",
      "         Index Cond: (ab > 500)\r\n",
      " Planning Time: 0.464 ms\r\n",
      " Execution Time: 5.700 ms\r\n",
      "(7 rows)\r\n",
      "\r\n"
     ]
    }
   ],
   "source": [
    "!psql -h localhost -d baseball -c \"explain analyze $result_6a_query_str\""
   ]
  },
  {
   "cell_type": "code",
   "execution_count": 106,
   "metadata": {},
   "outputs": [],
   "source": [
    "result_6c_cost = 1786.96\n",
    "result_6c_timing = 5.700"
   ]
  },
  {
   "cell_type": "code",
   "execution_count": 107,
   "metadata": {
    "deletable": false,
    "editable": false
   },
   "outputs": [
    {
     "data": {
      "text/html": [
       "<p><strong><pre style='display: inline;'>q6c</pre></strong> passed!</p>"
      ],
      "text/plain": [
       "q6c results: All test cases passed!"
      ]
     },
     "execution_count": 107,
     "metadata": {},
     "output_type": "execute_result"
    }
   ],
   "source": [
    "grader.check(\"q6c\")"
   ]
  },
  {
   "cell_type": "markdown",
   "metadata": {
    "deletable": false,
    "editable": false
   },
   "source": [
    "### Question 6d\n",
    "Given your findings from inspecting the query plans from `Question 6a-c`, answer the following question. Assign the variable `q6d` to a list of all statements that are true.\n",
    "\n",
    "1. Consider the following statements:\n",
    "    1. Clustering based on the `ab_idx` decreased the cost of the query.\n",
    "    1. Clustering based on the `ab_idx` increased the cost of the query.\n",
    "    1. Clustering based on the `ab_idx` increased the execution time of the query.\n",
    "    1. Clustering based on the `ab_idx` decreased the execution time of the query.\n",
    "    1. Clustering based on the `batting_pkey` decreased the cost of the query.\n",
    "    1. Clustering based on the `batting_pkey` increased the cost of the query.\n",
    "    1. Clustering based on the `batting_pkey` increased the execution time of the query.\n",
    "    1. Clustering based on the `batting_pkey` decreased the execution time of the query.\n",
    "    1. None of the above\n",
    "    \n",
    "**Note:** Your answer should be formatted as follows: `q6d = ['A', 'B']`\n",
    "\n",
    "<!--\n",
    "BEGIN QUESTION\n",
    "name: q6d\n",
    "points: 2\n",
    "-->"
   ]
  },
  {
   "cell_type": "code",
   "execution_count": 108,
   "metadata": {},
   "outputs": [],
   "source": [
    "q6d = ['A','D', 'E', 'G']"
   ]
  },
  {
   "cell_type": "code",
   "execution_count": 109,
   "metadata": {
    "deletable": false,
    "editable": false
   },
   "outputs": [
    {
     "data": {
      "text/html": [
       "<p><strong><pre style='display: inline;'>q6d</pre></strong> passed!</p>"
      ],
      "text/plain": [
       "q6d results: All test cases passed!"
      ]
     },
     "execution_count": 109,
     "metadata": {},
     "output_type": "execute_result"
    }
   ],
   "source": [
    "grader.check(\"q6d\")"
   ]
  },
  {
   "cell_type": "markdown",
   "metadata": {
    "deletable": false,
    "editable": false
   },
   "source": [
    "<!-- BEGIN QUESTION -->\n",
    "\n",
    "### Question 6e:\n",
    "\n",
    "Explain your answer to the previous part based on your knowledge from lectures, and your inspection of the query plans (your explanation should include why you didn't choose certain options).\n",
    "\n",
    "<!--\n",
    "BEGIN QUESTION\n",
    "name: q6e\n",
    "manual: true\n",
    "points: 2\n",
    "-->"
   ]
  },
  {
   "cell_type": "markdown",
   "metadata": {},
   "source": [
    "Creating a clustered index on the primary key and the ab column did decrease the total cost of the query in 6b to 1785.28 and decreased the total cost of the query in 6c to 18=786.96. The clustering on indexes in both cases creates a sorted data structure of the table rows according to their specified index key which results in a reduction in total cost when executing the query. However, in terms of execution time, the clustering based on the batting primary key did not improve execution time because the query is filtering on another column that is not the index or in this case primary key. For the ab_idx index, the query is filtering on a column that has a clustered index built on it which leads us to expect a faster execution time. "
   ]
  },
  {
   "cell_type": "markdown",
   "metadata": {},
   "source": [
    "<!-- END QUESTION -->\n",
    "\n",
    "\n",
    "\n",
    "## Question 7: Cost of Index Management\n",
    "Until now, we have seen the positive potential impact that indexes can have on query performance, but remember in real world technologies/applications, we will be routinely receiving new data (and in large quantities) which would trigger regular updates to our tables. In this section, we will dive into the cost of managing the indexes that we create.\n",
    "\n",
    "### Question 7a:\n",
    "Record the time it takes to insert 300,000 rows into the `salaries` table when no additional index is configured."
   ]
  },
  {
   "cell_type": "markdown",
   "metadata": {},
   "source": [
    "Run the following cell to setup a column to track which rows we added as part of these inserts."
   ]
  },
  {
   "cell_type": "code",
   "execution_count": 8,
   "metadata": {},
   "outputs": [
    {
     "name": "stdout",
     "output_type": "stream",
     "text": [
      " * postgresql://jovyan@127.0.0.1:5432/baseball\n",
      "   postgresql://jovyan@127.0.0.1:5432/postgres\n",
      "Done.\n"
     ]
    },
    {
     "data": {
      "text/plain": [
       "[]"
      ]
     },
     "execution_count": 8,
     "metadata": {},
     "output_type": "execute_result"
    }
   ],
   "source": [
    "%sql ALTER TABLE salaries ADD added boolean DEFAULT False;"
   ]
  },
  {
   "cell_type": "markdown",
   "metadata": {},
   "source": [
    "Next, run the provided update script and record the **wall time**.\n",
    "\n",
    "**NOTE:** Running the below cell multiple times may result in an error, unless you first delete the rows with the cell given at the end of this subpart."
   ]
  },
  {
   "cell_type": "code",
   "execution_count": 9,
   "metadata": {},
   "outputs": [
    {
     "name": "stdout",
     "output_type": "stream",
     "text": [
      " * postgresql://jovyan@127.0.0.1:5432/baseball\n",
      "   postgresql://jovyan@127.0.0.1:5432/postgres\n",
      "Done.\n",
      "CPU times: user 3.31 ms, sys: 2.16 ms, total: 5.47 ms\n",
      "Wall time: 3.69 s\n"
     ]
    },
    {
     "data": {
      "text/plain": [
       "[]"
      ]
     },
     "execution_count": 9,
     "metadata": {},
     "output_type": "execute_result"
    }
   ],
   "source": [
    "%%time\n",
    "%%sql\n",
    "DO $$\n",
    " DECLARE counter INTEGER := 1;\n",
    " BEGIN\n",
    "     FOR counter IN 100001..400000 LOOP\n",
    "     INSERT INTO salaries (yearid, teamid, lgid, playerid, salary, added)\n",
    "         VALUES (2021, 'ATL', 'NL', 'p' || counter, RANDOM() * 1000000, true);\n",
    "     END LOOP;\n",
    "END;\n",
    "$$;"
   ]
  },
  {
   "cell_type": "code",
   "execution_count": 110,
   "metadata": {},
   "outputs": [],
   "source": [
    "result_7a_timing = 3.69"
   ]
  },
  {
   "cell_type": "code",
   "execution_count": 111,
   "metadata": {
    "deletable": false,
    "editable": false
   },
   "outputs": [
    {
     "data": {
      "text/html": [
       "<p><strong><pre style='display: inline;'>q7a</pre></strong> passed!</p>"
      ],
      "text/plain": [
       "q7a results: All test cases passed!"
      ]
     },
     "execution_count": 111,
     "metadata": {},
     "output_type": "execute_result"
    }
   ],
   "source": [
    "grader.check(\"q7a\")"
   ]
  },
  {
   "cell_type": "markdown",
   "metadata": {},
   "source": [
    "Before adding an index to the salaries table and re-timing the updates, delete all the rows that were added to the table from the update script."
   ]
  },
  {
   "cell_type": "code",
   "execution_count": 12,
   "metadata": {},
   "outputs": [
    {
     "name": "stdout",
     "output_type": "stream",
     "text": [
      " * postgresql://jovyan@127.0.0.1:5432/baseball\n",
      "   postgresql://jovyan@127.0.0.1:5432/postgres\n",
      "300000 rows affected.\n"
     ]
    },
    {
     "data": {
      "text/plain": [
       "[]"
      ]
     },
     "execution_count": 12,
     "metadata": {},
     "output_type": "execute_result"
    }
   ],
   "source": [
    "%%sql\n",
    "DELETE FROM salaries\n",
    "WHERE added = 'true';"
   ]
  },
  {
   "cell_type": "markdown",
   "metadata": {},
   "source": [
    "### Question 7b:\n",
    "Now, create an index on the `salary` column and record the **wall time** after executing the update script."
   ]
  },
  {
   "cell_type": "code",
   "execution_count": 13,
   "metadata": {},
   "outputs": [
    {
     "name": "stdout",
     "output_type": "stream",
     "text": [
      " * postgresql://jovyan@127.0.0.1:5432/baseball\n",
      "   postgresql://jovyan@127.0.0.1:5432/postgres\n",
      "Done.\n"
     ]
    },
    {
     "data": {
      "text/plain": [
       "[]"
      ]
     },
     "execution_count": 13,
     "metadata": {},
     "output_type": "execute_result"
    }
   ],
   "source": [
    "%%sql \n",
    "CREATE INDEX salary_idx ON SALARIES(salary)"
   ]
  },
  {
   "cell_type": "markdown",
   "metadata": {},
   "source": [
    "**NOTE:** Running the below cell multiple times may result in an error, unless you first delete the rows with the cell given at the end of last subpart."
   ]
  },
  {
   "cell_type": "code",
   "execution_count": 14,
   "metadata": {},
   "outputs": [
    {
     "name": "stdout",
     "output_type": "stream",
     "text": [
      " * postgresql://jovyan@127.0.0.1:5432/baseball\n",
      "   postgresql://jovyan@127.0.0.1:5432/postgres\n",
      "Done.\n",
      "CPU times: user 1.82 ms, sys: 4.4 ms, total: 6.22 ms\n",
      "Wall time: 5.38 s\n"
     ]
    },
    {
     "data": {
      "text/plain": [
       "[]"
      ]
     },
     "execution_count": 14,
     "metadata": {},
     "output_type": "execute_result"
    }
   ],
   "source": [
    "%%time\n",
    "%%sql\n",
    "DO $$\n",
    " DECLARE counter INTEGER := 1;\n",
    " BEGIN\n",
    "     FOR counter IN 100001..400000 LOOP\n",
    "     INSERT INTO salaries (yearid, teamid, lgid, playerid, salary, added)\n",
    "         VALUES (2021, 'ATL', 'NL', 'p' || counter, RANDOM() * 1000000, true);\n",
    "     END LOOP;\n",
    "END;\n",
    "$$;"
   ]
  },
  {
   "cell_type": "code",
   "execution_count": 112,
   "metadata": {},
   "outputs": [],
   "source": [
    "result_7b_timing = 5.38"
   ]
  },
  {
   "cell_type": "code",
   "execution_count": 113,
   "metadata": {
    "deletable": false,
    "editable": false
   },
   "outputs": [
    {
     "data": {
      "text/html": [
       "<p><strong><pre style='display: inline;'>q7b</pre></strong> passed!</p>"
      ],
      "text/plain": [
       "q7b results: All test cases passed!"
      ]
     },
     "execution_count": 113,
     "metadata": {},
     "output_type": "execute_result"
    }
   ],
   "source": [
    "grader.check(\"q7b\")"
   ]
  },
  {
   "cell_type": "markdown",
   "metadata": {
    "deletable": false,
    "editable": false
   },
   "source": [
    "<!-- BEGIN QUESTION -->\n",
    "\n",
    "### Question 7c:\n",
    "What difference did you notice when you added an index into the salaries table and re-timed the update? Why do you think it happened?\n",
    "\n",
    "<!--\n",
    "BEGIN QUESTION\n",
    "name: q7c\n",
    "manual: true\n",
    "points: 2\n",
    "-->"
   ]
  },
  {
   "cell_type": "markdown",
   "metadata": {},
   "source": [
    "When adding an index onto the salaries table, the wall time increased from 3.69 s to 5.38 s upon retiming the update. This happened because it is hard to keep ongoing maintanance of the salary index when there is more and more data being added as the indexes will become fragmented and will perform slower. This maintance cost will increase the wall time whether there are updates, deletes, or inserts for the data.   "
   ]
  },
  {
   "cell_type": "markdown",
   "metadata": {
    "deletable": false,
    "editable": false
   },
   "source": [
    "<!-- END QUESTION -->\n",
    "\n",
    "<!-- BEGIN QUESTION -->\n",
    "\n",
    "## Question 8: Takeaway\n",
    "\n",
    "In this project, we explored how the database system optimizes query execution and how users can futher tune the performance of their queries.\n",
    "\n",
    "Familiarizing yourself with these optimization and tuning methods will make you a better data engineer. In this question, we'll ask you to recall and summarize these concepts. Who knows? Maybe one day it will help you during an interview or on a project.\n",
    "\n",
    "In the following answer cell,\n",
    "1. Name 3 methods you learned in this project. The method can be either the optimization done by the database system, or the fine tuning done by the user.\n",
    "2. For each method, summarize how and why it can optimize query performance. Feel free to discuss any drawbacks, if applicable.\n",
    "\n",
    "<!--\n",
    "BEGIN QUESTION\n",
    "name: q8\n",
    "manual: true\n",
    "points: 6\n",
    "-->"
   ]
  },
  {
   "cell_type": "markdown",
   "metadata": {},
   "source": [
    "1.One method that was emphasized with this project was indexing and its impact on optimizing queries. Indexing helps you look for data matching certain characteristics and when we use indexes on columns that we filter in queries the query execution time and cost is often reduces especially when the relations in the query are large. Indexes are generally great but it is important to use them carefully on selective attributes like unique or primary keys or on frequently queried data that is not regularly updated. \n",
    "\n",
    "2.Multiple column indexing is another method showcased in this project which involves storing data on more than just one column. They can achiee even greater decreases in query time and overall performance due to its ability to move through the data quicker as they are structured to have a hierarchical structure where each multicolumn index has a reference to each other. Overall, you can filter multiple columns for much fewer steps to obtain certain queries on large datasets where optimization is needed. \n",
    "\n",
    "3.Clustering a table based on an index is also a very important method that optimizes queries well and includes the rows in the data set being in the same order as the rows in the index. This allows for a more effective use of caching and results in less execution time and cost when using the index. It is especiallt useful for faster performance when the query is filtering on a column that has a clustered index that is built on it. "
   ]
  },
  {
   "cell_type": "markdown",
   "metadata": {},
   "source": [
    "<!-- END QUESTION -->\n",
    "\n",
    "\n",
    "\n",
    "## Congratulations! You have finished Project 2.\n",
    "\n",
    "Run the following cell to zip and download the results of your queries. You will also need to run the export cell at the end of the notebook.\n",
    "\n",
    "**Please save your notebook before exporting (this is a good time to do it!)** Otherwise, we may not be able to register your written responses.\n",
    "\n",
    "**For submission on Gradescope, you will need to submit BOTH the proj2.zip file genreated by the export cell and the results.zip file generated by the following cell.**\n",
    "\n",
    "**Common submission issues:** You MUST submit the generated zip files (not folders) to the autograder. However, Safari is known to automatically unzip files upon downloading. You can fix this by going into Safari preferences, and deselect the box with the text \"Open safe files after downloading\" under the \"General\" tab. If you experience issues with downloading via clicking on the link, you can also navigate to the project 2 directory within JupyterHub (remove `proj2.ipynb` from the url), and manually download the generated zip files. Please post on Ed if you encounter any other submission issues."
   ]
  },
  {
   "cell_type": "code",
   "execution_count": 114,
   "metadata": {
    "scrolled": true
   },
   "outputs": [
    {
     "name": "stdout",
     "output_type": "stream",
     "text": [
      "  adding: results/ (stored 0%)\r\n",
      "  adding: results/result_1a.csv (deflated 53%)\r\n",
      "  adding: results/result_1c.csv (deflated 64%)\r\n",
      "  adding: results/result_1di_view.csv (deflated 37%)\r\n",
      "  adding: results/result_1di_no_view.csv (deflated 37%)\r\n",
      "  adding: results/result_1ei.csv (deflated 64%)\r\n",
      "  adding: results/result_1eii.csv (deflated 37%)\r\n",
      "  adding: results/result_4a.csv (deflated 59%)\r\n",
      "  adding: results/result_4ei.csv (deflated 62%)\r\n",
      "  adding: results/result_4eiii.csv (deflated 64%)\r\n",
      "  adding: results/result_6a.csv (deflated 72%)\r\n"
     ]
    },
    {
     "data": {
      "text/html": [
       "Click here to download: <a href='./results.zip' target='_blank'>./results.zip</a><br>"
      ],
      "text/plain": [
       "/home/jovyan/fa22/proj/proj2/results.zip"
      ]
     },
     "metadata": {},
     "output_type": "display_data"
    }
   ],
   "source": [
    "from IPython.display import display, FileLink\n",
    "\n",
    "!zip -r results.zip results\n",
    "results_file = FileLink('./results.zip', result_html_prefix=\"Click here to download: \")\n",
    "display(results_file)"
   ]
  },
  {
   "cell_type": "markdown",
   "metadata": {
    "deletable": false,
    "editable": false
   },
   "source": [
    "---\n",
    "\n",
    "To double-check your work, the cell below will rerun all of the autograder tests."
   ]
  },
  {
   "cell_type": "code",
   "execution_count": 115,
   "metadata": {
    "deletable": false,
    "editable": false
   },
   "outputs": [
    {
     "data": {
      "text/plain": [
       "q0 results: All test cases passed!\n",
       "\n",
       "q1a results: All test cases passed!\n",
       "\n",
       "q1bi results: All test cases passed!\n",
       "\n",
       "q1bii results: All test cases passed!\n",
       "\n",
       "q1c results: All test cases passed!\n",
       "\n",
       "q1di results: All test cases passed!\n",
       "\n",
       "q1dii results: All test cases passed!\n",
       "\n",
       "q1ei results: All test cases passed!\n",
       "\n",
       "q1eii results: All test cases passed!\n",
       "\n",
       "q1eiii results: All test cases passed!\n",
       "\n",
       "q1eiv results: All test cases passed!\n",
       "\n",
       "q2a results: All test cases passed!\n",
       "\n",
       "q2b results: All test cases passed!\n",
       "\n",
       "q2c results: All test cases passed!\n",
       "\n",
       "q3a results: All test cases passed!\n",
       "\n",
       "q3b results: All test cases passed!\n",
       "\n",
       "q3c results: All test cases passed!\n",
       "\n",
       "q4ai results: All test cases passed!\n",
       "\n",
       "q4aii results: All test cases passed!\n",
       "\n",
       "q4b results: All test cases passed!\n",
       "\n",
       "q4c results: All test cases passed!\n",
       "\n",
       "q4di results: All test cases passed!\n",
       "\n",
       "q4ei_part1 results: All test cases passed!\n",
       "\n",
       "q4ei_part2 results: All test cases passed!\n",
       "\n",
       "q4eii results: All test cases passed!\n",
       "\n",
       "q4eiii_part1 results: All test cases passed!\n",
       "\n",
       "q4eiii_part2 results: All test cases passed!\n",
       "\n",
       "q4eiv results: All test cases passed!\n",
       "\n",
       "q4ev results: All test cases passed!\n",
       "\n",
       "q4evi results: All test cases passed!\n",
       "\n",
       "q5ai results: All test cases passed!\n",
       "\n",
       "q5aii results: All test cases passed!\n",
       "\n",
       "q5bi results: All test cases passed!\n",
       "\n",
       "q5bii results: All test cases passed!\n",
       "\n",
       "q5c results: All test cases passed!\n",
       "\n",
       "q6ai results: All test cases passed!\n",
       "\n",
       "q6aii results: All test cases passed!\n",
       "\n",
       "q6b results: All test cases passed!\n",
       "\n",
       "q6c results: All test cases passed!\n",
       "\n",
       "q6d results: All test cases passed!\n",
       "\n",
       "q7a results: All test cases passed!\n",
       "\n",
       "q7b results: All test cases passed!"
      ]
     },
     "execution_count": 115,
     "metadata": {},
     "output_type": "execute_result"
    }
   ],
   "source": [
    "grader.check_all()"
   ]
  },
  {
   "cell_type": "markdown",
   "metadata": {
    "deletable": false,
    "editable": false
   },
   "source": [
    "## Submission\n",
    "\n",
    "Make sure you have run all cells in your notebook in order before running the cell below, so that all images/graphs appear in the output. The cell below will generate a zip file for you to submit. **Please save before exporting!**"
   ]
  },
  {
   "cell_type": "code",
   "execution_count": null,
   "metadata": {
    "deletable": false,
    "editable": false
   },
   "outputs": [],
   "source": [
    "# Save your notebook first, then run this cell to export your submission.\n",
    "grader.export()"
   ]
  },
  {
   "cell_type": "markdown",
   "metadata": {},
   "source": [
    " "
   ]
  }
 ],
 "metadata": {
  "kernelspec": {
   "display_name": "Python 3 (ipykernel)",
   "language": "python",
   "name": "python3"
  },
  "language_info": {
   "codemirror_mode": {
    "name": "ipython",
    "version": 3
   },
   "file_extension": ".py",
   "mimetype": "text/x-python",
   "name": "python",
   "nbconvert_exporter": "python",
   "pygments_lexer": "ipython3",
   "version": "3.9.13"
  }
 },
 "nbformat": 4,
 "nbformat_minor": 4
}
